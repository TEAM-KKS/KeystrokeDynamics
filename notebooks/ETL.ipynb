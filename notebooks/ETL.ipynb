{
 "cells": [
  {
   "cell_type": "code",
   "execution_count": 19,
   "metadata": {},
   "outputs": [],
   "source": [
    "%run utils.ipynb \n",
    "%run models.ipynb"
   ]
  },
  {
   "cell_type": "code",
   "execution_count": 20,
   "metadata": {},
   "outputs": [
    {
     "data": {
      "text/plain": [
       "854"
      ]
     },
     "execution_count": 20,
     "metadata": {},
     "output_type": "execute_result"
    }
   ],
   "source": [
    "input_paras = {\n",
    "    '#text-area-1' : \"This is a paragraph that uses every single letter in the alphabet. Now, that does not mean this can be a paragraph with no story, but it does mean that every single letter is used. You can make it as generic or fanciful as you would like. You can talk about anything from quilts to jets to xylophones. Oh yeah, and you can use whatever language you want, from Afrikaans to Zulu.\",\n",
    "    '#text-area-2' : \"One day, a zebra found a xylophone on the sidewalk. He quickly ran over, picked it up, and gave it to his pet mule. Just then, he found another xylophone. He kept that one for himself.\",\n",
    "    '#text-area-3' : \"This is me trying to create a pangram for myself. A pangram is a sentence that contains all the characters from A-Z. Experimenting around such sentences might be useful for our project.\",\n",
    "    '#text-area-test' : \"Well now that you are here already let me ask you this, do you think that the above paragraph is a pangram?\"\n",
    "}\n",
    "\n",
    "sum([len(x) for x in input_paras.values()])"
   ]
  },
  {
   "cell_type": "markdown",
   "metadata": {},
   "source": [
    "## Initialize \n",
    "\n",
    "- File paths and respective patterns to read set of all **input files**\n",
    "- What kind of platforms to ignore, final structure of data, ignore users where data collected is less"
   ]
  },
  {
   "cell_type": "code",
   "execution_count": 41,
   "metadata": {},
   "outputs": [],
   "source": [
    "path_pattern = {\n",
    "\n",
    "    '../data/*' : r'dump\\d+_\\d+',\n",
    "    '../../../exp/Data/*' : r'dump\\d+_\\d+'\n",
    "}\n",
    "\n",
    "known_invalid_platforms = ['Linux aarch64','Linux armv8l']\n",
    "\n",
    "features_final = ['name','device_type','box_id','false_character','hold_for','key_pressed','long_pressed_equivalent','platform','pressed_after','type_combination','effort','speed']\n",
    "\n",
    "user_count_threshold = 600"
   ]
  },
  {
   "cell_type": "code",
   "execution_count": 42,
   "metadata": {},
   "outputs": [
    {
     "name": "stdout",
     "output_type": "stream",
     "text": [
      "******** Data at a high level ********\n",
      "Number of users              :  24\n",
      "Unique user_ids              :  26\n",
      "Avg rows collected/user_id   :  966.88\n",
      "Rows with false characters   : 34.84%\n",
      "Avg long_pressed_equivalent  :  1.0\n",
      "Rows with long_pressed > 1   : 0.0 %\n",
      "*********************************************\n",
      "*** 1 users with multiple user_ids, taking most significant instance for each user\n"
     ]
    },
    {
     "data": {
      "text/plain": [
       "((23632, 13), (29083, 13))"
      ]
     },
     "execution_count": 42,
     "metadata": {},
     "output_type": "execute_result"
    }
   ],
   "source": [
    "df = get_valid_dataset(path_pattern, known_invalid_platforms, user_count_threshold)\n",
    "print_data_summary(df)\n",
    "df = get_unique_users_subset(df)\n",
    "df.shape, org_df.shape"
   ]
  },
  {
   "cell_type": "code",
   "execution_count": 43,
   "metadata": {},
   "outputs": [
    {
     "name": "stderr",
     "output_type": "stream",
     "text": [
      "100%|██████████| 24/24 [00:00<00:00, 150.94it/s]"
     ]
    },
    {
     "name": "stdout",
     "output_type": "stream",
     "text": [
      "******** TRUE_CHAR_MEAN ********\n",
      "Removing users with avg character perc for TRUE less than 60 (TRUE PERC THRESHOLD)\n",
      "ALL USERS AVG    :  64.59553675799403\n",
      "INVALID USERS AVG :  29.258773458488477\n",
      "VALID USERS AVG   :  85.79759473769735\n",
      "********************************\n",
      "15 valid users found, data is cleaned for exploration and feature engineering!\n",
      "^^^^^^^^^^^^^^^^^^^^^^^^^^^^^^^^\n"
     ]
    },
    {
     "name": "stderr",
     "output_type": "stream",
     "text": [
      "\n"
     ]
    },
    {
     "data": {
      "text/plain": [
       "(14532, 13)"
      ]
     },
     "execution_count": 43,
     "metadata": {},
     "output_type": "execute_result"
    }
   ],
   "source": [
    "raw_clean = clean_raw_data(df)\n",
    "raw_clean.shape"
   ]
  },
  {
   "cell_type": "code",
   "execution_count": 44,
   "metadata": {},
   "outputs": [],
   "source": [
    "raw_clean.to_csv('../data/clean_union_04_28_20_20_00.csv', index=False)\n"
   ]
  },
  {
   "cell_type": "code",
   "execution_count": 45,
   "metadata": {},
   "outputs": [
    {
     "data": {
      "text/plain": [
       "(23632, 13)"
      ]
     },
     "execution_count": 45,
     "metadata": {},
     "output_type": "execute_result"
    }
   ],
   "source": [
    "df.shape"
   ]
  },
  {
   "cell_type": "code",
   "execution_count": 49,
   "metadata": {},
   "outputs": [
    {
     "name": "stderr",
     "output_type": "stream",
     "text": [
      "100%|██████████| 26/26 [00:00<00:00, 157.80it/s]"
     ]
    },
    {
     "name": "stdout",
     "output_type": "stream",
     "text": [
      "******** Data at a high level ********\n",
      "Number of users              :  26\n",
      "Unique user_ids              :  28\n",
      "Avg rows collected/user_id   :  1038.68\n",
      "Rows with false characters   : 32.67%\n",
      "Avg long_pressed_equivalent  :  1.11\n",
      "Rows with long_pressed > 1   : 10.51 %\n",
      "*********************************************\n",
      "******** TRUE_CHAR_MEAN ********\n",
      "Removing users with avg character perc for TRUE less than 60 (TRUE PERC THRESHOLD)\n",
      "ALL USERS AVG    :  67.24850028217601\n",
      "INVALID USERS AVG :  29.685597724319198\n",
      "VALID USERS AVG   :  87.13474281280608\n",
      "********************************\n",
      "17 valid users found, data is cleaned for exploration and feature engineering!\n",
      "^^^^^^^^^^^^^^^^^^^^^^^^^^^^^^^^\n"
     ]
    },
    {
     "name": "stderr",
     "output_type": "stream",
     "text": [
      "\n"
     ]
    },
    {
     "data": {
      "text/plain": [
       "(19367, 13)"
      ]
     },
     "execution_count": 49,
     "metadata": {},
     "output_type": "execute_result"
    }
   ],
   "source": [
    "org_df = get_valid_dataset(path_pattern, known_invalid_platforms, user_count_threshold, 3)\n",
    "print_data_summary(org_df)\n",
    "\n",
    "raw_clean_all_rows_below_3 = clean_raw_data(org_df, 60, 3)\n",
    "raw_clean_all_rows_below_3.shape"
   ]
  },
  {
   "cell_type": "code",
   "execution_count": 50,
   "metadata": {},
   "outputs": [
    {
     "data": {
      "text/plain": [
       "1    16927\n",
       "2     2440\n",
       "Name: long_pressed_equivalent, dtype: int64"
      ]
     },
     "execution_count": 50,
     "metadata": {},
     "output_type": "execute_result"
    }
   ],
   "source": [
    "raw_clean_all_rows_below_3['long_pressed_equivalent'].value_counts()"
   ]
  },
  {
   "cell_type": "code",
   "execution_count": 51,
   "metadata": {},
   "outputs": [
    {
     "data": {
      "text/plain": [
       "17"
      ]
     },
     "execution_count": 51,
     "metadata": {},
     "output_type": "execute_result"
    }
   ],
   "source": [
    "len(raw_clean_all_rows_below_3['name'].unique())"
   ]
  },
  {
   "cell_type": "code",
   "execution_count": 52,
   "metadata": {},
   "outputs": [],
   "source": [
    "raw_clean_all_rows_below_3.to_csv('../data/clean_union_exploration_04_29_20_22_00.csv', index=False)"
   ]
  },
  {
   "cell_type": "markdown",
   "metadata": {},
   "source": [
    "## Prepare & Derive Features for Dataset"
   ]
  },
  {
   "cell_type": "code",
   "execution_count": 6,
   "metadata": {},
   "outputs": [],
   "source": [
    "df = raw_clean"
   ]
  },
  {
   "cell_type": "code",
   "execution_count": 7,
   "metadata": {},
   "outputs": [
    {
     "name": "stdout",
     "output_type": "stream",
     "text": [
      "********* DATA PREPARATION FOR FEATURE ENGINEERING *********\n",
      "\tRAW VS PREPARED SHAPES\n",
      "(14532, 13)\t\t(13378, 14)\n",
      "\n",
      "----------\n",
      "\tCHARACTER TYPE DISTRIBUTION\n",
      "          type\n",
      "lower  54.167\n",
      "upper  27.083\n",
      "other  18.750\n",
      "----------\n",
      "\tFALSE CHARACTER DISTRIBUTION\n",
      "    false_character\n",
      "f           87.375\n",
      "t           12.625\n",
      "*************************************************************\n"
     ]
    }
   ],
   "source": [
    "cond1 = df['key_pressed'].str.len() == 1\n",
    "cond2 = df['long_pressed_equivalent'] == 1\n",
    "conditions = cond1 & cond2\n",
    "df = prepare_data(df, conditions)"
   ]
  },
  {
   "cell_type": "code",
   "execution_count": 12,
   "metadata": {},
   "outputs": [
    {
     "name": "stderr",
     "output_type": "stream",
     "text": [
      "100%|██████████| 13377/13377 [01:14<00:00, 179.88it/s]\n"
     ]
    },
    {
     "name": "stdout",
     "output_type": "stream",
     "text": [
      "****** Skipped 72 rows as `speed` evaluates to `inf`\n"
     ]
    },
    {
     "name": "stderr",
     "output_type": "stream",
     "text": [
      "100%|██████████| 13376/13376 [01:10<00:00, 189.19it/s]\n"
     ]
    },
    {
     "name": "stdout",
     "output_type": "stream",
     "text": [
      "****** Skipped 140 rows as `speed` evaluates to `inf`\n"
     ]
    }
   ],
   "source": [
    "zipped_rows_2 = list(zip(df.values[:-1], df.values[1:]))\n",
    "feature_df_2 = combine_characters_v1(zipped_rows_2, df.columns)\n",
    "\n",
    "# \"\"\"\n",
    "zipped_rows_3 = list(zip(df.values[:-2], df.values[1:-1], df.values[2:]))\n",
    "feature_df_3 = combine_characters_v1(zipped_rows_3, df.columns)\n",
    "# \"\"\""
   ]
  },
  {
   "cell_type": "code",
   "execution_count": 13,
   "metadata": {},
   "outputs": [
    {
     "data": {
      "text/plain": [
       "(15, 15)"
      ]
     },
     "execution_count": 13,
     "metadata": {},
     "output_type": "execute_result"
    }
   ],
   "source": [
    "len(feature_df_2.name.unique()), len(feature_df_2.user_id.unique())"
   ]
  },
  {
   "cell_type": "code",
   "execution_count": 14,
   "metadata": {},
   "outputs": [
    {
     "data": {
      "text/plain": [
       "(15, 15)"
      ]
     },
     "execution_count": 14,
     "metadata": {},
     "output_type": "execute_result"
    }
   ],
   "source": [
    "len(feature_df_3.name.unique()), len(feature_df_3.user_id.unique())"
   ]
  },
  {
   "cell_type": "code",
   "execution_count": 15,
   "metadata": {},
   "outputs": [
    {
     "data": {
      "text/plain": [
       "((13143, 17), (12915, 17))"
      ]
     },
     "execution_count": 15,
     "metadata": {},
     "output_type": "execute_result"
    }
   ],
   "source": [
    "feature_df_2.shape, feature_df_3.shape"
   ]
  },
  {
   "cell_type": "code",
   "execution_count": 16,
   "metadata": {},
   "outputs": [],
   "source": [
    "df_2 = feature_df_2[features_final]\n",
    "df_3 = feature_df_3[features_final]"
   ]
  },
  {
   "cell_type": "code",
   "execution_count": 17,
   "metadata": {},
   "outputs": [
    {
     "data": {
      "text/html": [
       "<div>\n",
       "<style scoped>\n",
       "    .dataframe tbody tr th:only-of-type {\n",
       "        vertical-align: middle;\n",
       "    }\n",
       "\n",
       "    .dataframe tbody tr th {\n",
       "        vertical-align: top;\n",
       "    }\n",
       "\n",
       "    .dataframe thead th {\n",
       "        text-align: right;\n",
       "    }\n",
       "</style>\n",
       "<table border=\"1\" class=\"dataframe\">\n",
       "  <thead>\n",
       "    <tr style=\"text-align: right;\">\n",
       "      <th></th>\n",
       "      <th>name</th>\n",
       "      <th>device_type</th>\n",
       "      <th>box_id</th>\n",
       "      <th>false_character</th>\n",
       "      <th>hold_for</th>\n",
       "      <th>key_pressed</th>\n",
       "      <th>long_pressed_equivalent</th>\n",
       "      <th>platform</th>\n",
       "      <th>pressed_after</th>\n",
       "      <th>type_combination</th>\n",
       "      <th>effort</th>\n",
       "      <th>speed</th>\n",
       "    </tr>\n",
       "  </thead>\n",
       "  <tbody>\n",
       "    <tr>\n",
       "      <th>0</th>\n",
       "      <td>Varun Sapre</td>\n",
       "      <td>Computer/Laptop</td>\n",
       "      <td>#text-area-1</td>\n",
       "      <td>fff</td>\n",
       "      <td>121</td>\n",
       "      <td>thi</td>\n",
       "      <td>3</td>\n",
       "      <td>Win32</td>\n",
       "      <td>181</td>\n",
       "      <td>lll</td>\n",
       "      <td>224</td>\n",
       "      <td>0.0967</td>\n",
       "    </tr>\n",
       "    <tr>\n",
       "      <th>0</th>\n",
       "      <td>Varun Sapre</td>\n",
       "      <td>Computer/Laptop</td>\n",
       "      <td>#text-area-1</td>\n",
       "      <td>fff</td>\n",
       "      <td>203</td>\n",
       "      <td>hi</td>\n",
       "      <td>3</td>\n",
       "      <td>Win32</td>\n",
       "      <td>230</td>\n",
       "      <td>llo</td>\n",
       "      <td>353</td>\n",
       "      <td>0.3091</td>\n",
       "    </tr>\n",
       "    <tr>\n",
       "      <th>0</th>\n",
       "      <td>Varun Sapre</td>\n",
       "      <td>Computer/Laptop</td>\n",
       "      <td>#text-area-1</td>\n",
       "      <td>fff</td>\n",
       "      <td>252</td>\n",
       "      <td>i</td>\n",
       "      <td>3</td>\n",
       "      <td>Win32</td>\n",
       "      <td>277</td>\n",
       "      <td>loo</td>\n",
       "      <td>506</td>\n",
       "      <td>0.2874</td>\n",
       "    </tr>\n",
       "    <tr>\n",
       "      <th>0</th>\n",
       "      <td>Varun Sapre</td>\n",
       "      <td>Computer/Laptop</td>\n",
       "      <td>#text-area-1</td>\n",
       "      <td>fff</td>\n",
       "      <td>324</td>\n",
       "      <td>p</td>\n",
       "      <td>3</td>\n",
       "      <td>Win32</td>\n",
       "      <td>269</td>\n",
       "      <td>ool</td>\n",
       "      <td>466</td>\n",
       "      <td>2.6667</td>\n",
       "    </tr>\n",
       "    <tr>\n",
       "      <th>0</th>\n",
       "      <td>Varun Sapre</td>\n",
       "      <td>Computer/Laptop</td>\n",
       "      <td>#text-area-1</td>\n",
       "      <td>fff</td>\n",
       "      <td>250</td>\n",
       "      <td>pr</td>\n",
       "      <td>3</td>\n",
       "      <td>Win32</td>\n",
       "      <td>311</td>\n",
       "      <td>oll</td>\n",
       "      <td>434</td>\n",
       "      <td>2.6726</td>\n",
       "    </tr>\n",
       "    <tr>\n",
       "      <th>...</th>\n",
       "      <td>...</td>\n",
       "      <td>...</td>\n",
       "      <td>...</td>\n",
       "      <td>...</td>\n",
       "      <td>...</td>\n",
       "      <td>...</td>\n",
       "      <td>...</td>\n",
       "      <td>...</td>\n",
       "      <td>...</td>\n",
       "      <td>...</td>\n",
       "      <td>...</td>\n",
       "      <td>...</td>\n",
       "    </tr>\n",
       "    <tr>\n",
       "      <th>0</th>\n",
       "      <td>Tarun</td>\n",
       "      <td>Computer/Laptop</td>\n",
       "      <td>#text-area-test</td>\n",
       "      <td>fff</td>\n",
       "      <td>277</td>\n",
       "      <td>s p</td>\n",
       "      <td>3</td>\n",
       "      <td>Win32</td>\n",
       "      <td>272</td>\n",
       "      <td>lol</td>\n",
       "      <td>519</td>\n",
       "      <td>0.6907</td>\n",
       "    </tr>\n",
       "    <tr>\n",
       "      <th>0</th>\n",
       "      <td>Tarun</td>\n",
       "      <td>Computer/Laptop</td>\n",
       "      <td>#text-area-test</td>\n",
       "      <td>fff</td>\n",
       "      <td>252</td>\n",
       "      <td>pa</td>\n",
       "      <td>3</td>\n",
       "      <td>Win32</td>\n",
       "      <td>281</td>\n",
       "      <td>oll</td>\n",
       "      <td>430</td>\n",
       "      <td>0.4801</td>\n",
       "    </tr>\n",
       "    <tr>\n",
       "      <th>0</th>\n",
       "      <td>Tarun</td>\n",
       "      <td>Computer/Laptop</td>\n",
       "      <td>#text-area-test</td>\n",
       "      <td>fff</td>\n",
       "      <td>249</td>\n",
       "      <td>pan</td>\n",
       "      <td>3</td>\n",
       "      <td>Win32</td>\n",
       "      <td>218</td>\n",
       "      <td>lll</td>\n",
       "      <td>328</td>\n",
       "      <td>0.3548</td>\n",
       "    </tr>\n",
       "    <tr>\n",
       "      <th>0</th>\n",
       "      <td>Tarun</td>\n",
       "      <td>Computer/Laptop</td>\n",
       "      <td>#text-area-test</td>\n",
       "      <td>fff</td>\n",
       "      <td>219</td>\n",
       "      <td>ang</td>\n",
       "      <td>3</td>\n",
       "      <td>Win32</td>\n",
       "      <td>514</td>\n",
       "      <td>lll</td>\n",
       "      <td>694</td>\n",
       "      <td>0.1705</td>\n",
       "    </tr>\n",
       "    <tr>\n",
       "      <th>0</th>\n",
       "      <td>Tarun</td>\n",
       "      <td>Computer/Laptop</td>\n",
       "      <td>#text-area-test</td>\n",
       "      <td>fff</td>\n",
       "      <td>251</td>\n",
       "      <td>ngm</td>\n",
       "      <td>3</td>\n",
       "      <td>Win32</td>\n",
       "      <td>609</td>\n",
       "      <td>lll</td>\n",
       "      <td>820</td>\n",
       "      <td>0.0304</td>\n",
       "    </tr>\n",
       "  </tbody>\n",
       "</table>\n",
       "<p>12915 rows × 12 columns</p>\n",
       "</div>"
      ],
      "text/plain": [
       "           name      device_type           box_id false_character  hold_for  \\\n",
       "0   Varun Sapre  Computer/Laptop     #text-area-1             fff       121   \n",
       "0   Varun Sapre  Computer/Laptop     #text-area-1             fff       203   \n",
       "0   Varun Sapre  Computer/Laptop     #text-area-1             fff       252   \n",
       "0   Varun Sapre  Computer/Laptop     #text-area-1             fff       324   \n",
       "0   Varun Sapre  Computer/Laptop     #text-area-1             fff       250   \n",
       "..          ...              ...              ...             ...       ...   \n",
       "0        Tarun   Computer/Laptop  #text-area-test             fff       277   \n",
       "0        Tarun   Computer/Laptop  #text-area-test             fff       252   \n",
       "0        Tarun   Computer/Laptop  #text-area-test             fff       249   \n",
       "0        Tarun   Computer/Laptop  #text-area-test             fff       219   \n",
       "0        Tarun   Computer/Laptop  #text-area-test             fff       251   \n",
       "\n",
       "   key_pressed  long_pressed_equivalent platform  pressed_after  \\\n",
       "0          thi                        3    Win32            181   \n",
       "0          hi                         3    Win32            230   \n",
       "0          i                          3    Win32            277   \n",
       "0            p                        3    Win32            269   \n",
       "0           pr                        3    Win32            311   \n",
       "..         ...                      ...      ...            ...   \n",
       "0          s p                        3    Win32            272   \n",
       "0           pa                        3    Win32            281   \n",
       "0          pan                        3    Win32            218   \n",
       "0          ang                        3    Win32            514   \n",
       "0          ngm                        3    Win32            609   \n",
       "\n",
       "   type_combination  effort   speed  \n",
       "0               lll     224  0.0967  \n",
       "0               llo     353  0.3091  \n",
       "0               loo     506  0.2874  \n",
       "0               ool     466  2.6667  \n",
       "0               oll     434  2.6726  \n",
       "..              ...     ...     ...  \n",
       "0               lol     519  0.6907  \n",
       "0               oll     430  0.4801  \n",
       "0               lll     328  0.3548  \n",
       "0               lll     694  0.1705  \n",
       "0               lll     820  0.0304  \n",
       "\n",
       "[12915 rows x 12 columns]"
      ]
     },
     "execution_count": 17,
     "metadata": {},
     "output_type": "execute_result"
    }
   ],
   "source": [
    "df_3"
   ]
  },
  {
   "cell_type": "code",
   "execution_count": 62,
   "metadata": {},
   "outputs": [],
   "source": [
    "df_2.to_csv('../data/clean_union_fe_c2_04_28_20_21_00.csv', index=False)\n",
    "df_3.to_csv('../data/clean_union_fe_c3_04_28_20_21_00.csv', index=False)"
   ]
  },
  {
   "cell_type": "code",
   "execution_count": 63,
   "metadata": {},
   "outputs": [
    {
     "data": {
      "text/plain": [
       "(26058, 12)"
      ]
     },
     "execution_count": 63,
     "metadata": {},
     "output_type": "execute_result"
    }
   ],
   "source": [
    "combine_df = df_2.append(df_3)\n",
    "combine_df.shape"
   ]
  },
  {
   "cell_type": "code",
   "execution_count": 64,
   "metadata": {},
   "outputs": [],
   "source": [
    "combine_df.to_csv('../data/clean_union_fe_c2_c3_04_28_20_21_00.csv', index=False)"
   ]
  },
  {
   "cell_type": "code",
   "execution_count": 16,
   "metadata": {},
   "outputs": [
    {
     "data": {
      "text/html": [
       "<div>\n",
       "<style scoped>\n",
       "    .dataframe tbody tr th:only-of-type {\n",
       "        vertical-align: middle;\n",
       "    }\n",
       "\n",
       "    .dataframe tbody tr th {\n",
       "        vertical-align: top;\n",
       "    }\n",
       "\n",
       "    .dataframe thead th {\n",
       "        text-align: right;\n",
       "    }\n",
       "</style>\n",
       "<table border=\"1\" class=\"dataframe\">\n",
       "  <thead>\n",
       "    <tr style=\"text-align: right;\">\n",
       "      <th></th>\n",
       "      <th>name</th>\n",
       "      <th>device_type</th>\n",
       "      <th>box_id</th>\n",
       "      <th>false_character</th>\n",
       "      <th>hold_for</th>\n",
       "      <th>key_pressed</th>\n",
       "      <th>long_pressed_equivalent</th>\n",
       "      <th>platform</th>\n",
       "      <th>pressed_after</th>\n",
       "      <th>type_combination</th>\n",
       "      <th>effort</th>\n",
       "      <th>speed</th>\n",
       "    </tr>\n",
       "  </thead>\n",
       "  <tbody>\n",
       "    <tr>\n",
       "      <th>0</th>\n",
       "      <td>Varun Sapre</td>\n",
       "      <td>Computer/Laptop</td>\n",
       "      <td>#text-area-1</td>\n",
       "      <td>ff</td>\n",
       "      <td>88</td>\n",
       "      <td>th</td>\n",
       "      <td>2</td>\n",
       "      <td>Win32</td>\n",
       "      <td>158</td>\n",
       "      <td>ll</td>\n",
       "      <td>168</td>\n",
       "      <td>0.1500</td>\n",
       "    </tr>\n",
       "    <tr>\n",
       "      <th>0</th>\n",
       "      <td>Varun Sapre</td>\n",
       "      <td>Computer/Laptop</td>\n",
       "      <td>#text-area-1</td>\n",
       "      <td>ff</td>\n",
       "      <td>97</td>\n",
       "      <td>hi</td>\n",
       "      <td>2</td>\n",
       "      <td>Win32</td>\n",
       "      <td>103</td>\n",
       "      <td>ll</td>\n",
       "      <td>120</td>\n",
       "      <td>0.0435</td>\n",
       "    </tr>\n",
       "  </tbody>\n",
       "</table>\n",
       "</div>"
      ],
      "text/plain": [
       "          name      device_type        box_id false_character  hold_for  \\\n",
       "0  Varun Sapre  Computer/Laptop  #text-area-1              ff        88   \n",
       "0  Varun Sapre  Computer/Laptop  #text-area-1              ff        97   \n",
       "\n",
       "  key_pressed  long_pressed_equivalent platform  pressed_after  \\\n",
       "0          th                        2    Win32            158   \n",
       "0          hi                        2    Win32            103   \n",
       "\n",
       "  type_combination  effort   speed  \n",
       "0               ll     168  0.1500  \n",
       "0               ll     120  0.0435  "
      ]
     },
     "execution_count": 16,
     "metadata": {},
     "output_type": "execute_result"
    }
   ],
   "source": [
    "df.head(2)"
   ]
  },
  {
   "cell_type": "code",
   "execution_count": null,
   "metadata": {},
   "outputs": [],
   "source": []
  }
 ],
 "metadata": {
  "kernelspec": {
   "display_name": "Python 3",
   "language": "python",
   "name": "python3"
  },
  "language_info": {
   "codemirror_mode": {
    "name": "ipython",
    "version": 3
   },
   "file_extension": ".py",
   "mimetype": "text/x-python",
   "name": "python",
   "nbconvert_exporter": "python",
   "pygments_lexer": "ipython3",
   "version": "3.7.4"
  }
 },
 "nbformat": 4,
 "nbformat_minor": 2
}
