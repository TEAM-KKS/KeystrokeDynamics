{
 "cells": [
  {
   "cell_type": "code",
   "execution_count": 90,
   "metadata": {},
   "outputs": [],
   "source": [
    "%run utils.ipynb \n",
    "%run models.ipynb"
   ]
  },
  {
   "cell_type": "code",
   "execution_count": 123,
   "metadata": {},
   "outputs": [
    {
     "data": {
      "text/plain": [
       "(13143, 12)"
      ]
     },
     "execution_count": 123,
     "metadata": {},
     "output_type": "execute_result"
    }
   ],
   "source": [
    "df = pd.read_csv('../data/clean_union_fe_c2_04_28_20_21_00.csv')\n",
    "df.shape"
   ]
  },
  {
   "cell_type": "code",
   "execution_count": 92,
   "metadata": {},
   "outputs": [
    {
     "data": {
      "text/html": [
       "<div>\n",
       "<style scoped>\n",
       "    .dataframe tbody tr th:only-of-type {\n",
       "        vertical-align: middle;\n",
       "    }\n",
       "\n",
       "    .dataframe tbody tr th {\n",
       "        vertical-align: top;\n",
       "    }\n",
       "\n",
       "    .dataframe thead th {\n",
       "        text-align: right;\n",
       "    }\n",
       "</style>\n",
       "<table border=\"1\" class=\"dataframe\">\n",
       "  <thead>\n",
       "    <tr style=\"text-align: right;\">\n",
       "      <th></th>\n",
       "      <th>name</th>\n",
       "      <th>device_type</th>\n",
       "      <th>box_id</th>\n",
       "      <th>false_character</th>\n",
       "      <th>hold_for</th>\n",
       "      <th>key_pressed</th>\n",
       "      <th>long_pressed_equivalent</th>\n",
       "      <th>platform</th>\n",
       "      <th>pressed_after</th>\n",
       "      <th>type_combination</th>\n",
       "      <th>effort</th>\n",
       "      <th>speed</th>\n",
       "    </tr>\n",
       "  </thead>\n",
       "  <tbody>\n",
       "    <tr>\n",
       "      <th>12450</th>\n",
       "      <td>Dharti</td>\n",
       "      <td>Computer/Laptop</td>\n",
       "      <td>#text-area-3</td>\n",
       "      <td>ff</td>\n",
       "      <td>168</td>\n",
       "      <td>ra</td>\n",
       "      <td>2</td>\n",
       "      <td>MacIntel</td>\n",
       "      <td>113</td>\n",
       "      <td>ll</td>\n",
       "      <td>231</td>\n",
       "      <td>0.2698</td>\n",
       "    </tr>\n",
       "    <tr>\n",
       "      <th>1724</th>\n",
       "      <td>Bunmi</td>\n",
       "      <td>Mobile/Tab</td>\n",
       "      <td>#text-area-3</td>\n",
       "      <td>ff</td>\n",
       "      <td>81</td>\n",
       "      <td>s</td>\n",
       "      <td>2</td>\n",
       "      <td>iPhone</td>\n",
       "      <td>522</td>\n",
       "      <td>ol</td>\n",
       "      <td>352</td>\n",
       "      <td>0.3063</td>\n",
       "    </tr>\n",
       "    <tr>\n",
       "      <th>11765</th>\n",
       "      <td>Nand</td>\n",
       "      <td>Computer/Laptop</td>\n",
       "      <td>#text-area-3</td>\n",
       "      <td>ff</td>\n",
       "      <td>33</td>\n",
       "      <td>ng</td>\n",
       "      <td>2</td>\n",
       "      <td>iPhone</td>\n",
       "      <td>372</td>\n",
       "      <td>ll</td>\n",
       "      <td>283</td>\n",
       "      <td>0.0280</td>\n",
       "    </tr>\n",
       "    <tr>\n",
       "      <th>5185</th>\n",
       "      <td>Nand</td>\n",
       "      <td>Computer/Laptop</td>\n",
       "      <td>#text-area-test</td>\n",
       "      <td>ff</td>\n",
       "      <td>33</td>\n",
       "      <td>do</td>\n",
       "      <td>2</td>\n",
       "      <td>iPhone</td>\n",
       "      <td>890</td>\n",
       "      <td>ll</td>\n",
       "      <td>164</td>\n",
       "      <td>0.0840</td>\n",
       "    </tr>\n",
       "    <tr>\n",
       "      <th>1395</th>\n",
       "      <td>Bunmi</td>\n",
       "      <td>Mobile/Tab</td>\n",
       "      <td>#text-area-1</td>\n",
       "      <td>ff</td>\n",
       "      <td>39</td>\n",
       "      <td>an</td>\n",
       "      <td>2</td>\n",
       "      <td>iPhone</td>\n",
       "      <td>214</td>\n",
       "      <td>ll</td>\n",
       "      <td>125</td>\n",
       "      <td>0.1512</td>\n",
       "    </tr>\n",
       "  </tbody>\n",
       "</table>\n",
       "</div>"
      ],
      "text/plain": [
       "         name      device_type           box_id false_character  hold_for  \\\n",
       "12450  Dharti  Computer/Laptop     #text-area-3              ff       168   \n",
       "1724    Bunmi       Mobile/Tab     #text-area-3              ff        81   \n",
       "11765   Nand   Computer/Laptop     #text-area-3              ff        33   \n",
       "5185    Nand   Computer/Laptop  #text-area-test              ff        33   \n",
       "1395    Bunmi       Mobile/Tab     #text-area-1              ff        39   \n",
       "\n",
       "      key_pressed  long_pressed_equivalent  platform  pressed_after  \\\n",
       "12450          ra                        2  MacIntel            113   \n",
       "1724            s                        2    iPhone            522   \n",
       "11765          ng                        2    iPhone            372   \n",
       "5185           do                        2    iPhone            890   \n",
       "1395           an                        2    iPhone            214   \n",
       "\n",
       "      type_combination  effort   speed  \n",
       "12450               ll     231  0.2698  \n",
       "1724                ol     352  0.3063  \n",
       "11765               ll     283  0.0280  \n",
       "5185                ll     164  0.0840  \n",
       "1395                ll     125  0.1512  "
      ]
     },
     "execution_count": 92,
     "metadata": {},
     "output_type": "execute_result"
    }
   ],
   "source": [
    "df.sample(5)"
   ]
  },
  {
   "cell_type": "code",
   "execution_count": 93,
   "metadata": {},
   "outputs": [
    {
     "name": "stdout",
     "output_type": "stream",
     "text": [
      "** Non-numeric columns encoded\n",
      "** Unbalanced stratified per class train_test split\n",
      "(10514, 11) (2629, 11) (10514,) (2629,)\n",
      "** Non-numeric columns encoded\n",
      "** Balanced stratified per class train_test split\n",
      "(7368, 11) (1842, 11) (7368,) (1842,)\n"
     ]
    }
   ],
   "source": [
    "models = Models(df.copy(), 0.2, False)\n",
    "models_b = Models(df.copy(), 0.2, True)"
   ]
  },
  {
   "cell_type": "code",
   "execution_count": 94,
   "metadata": {},
   "outputs": [
    {
     "data": {
      "text/html": [
       "<div>\n",
       "<style scoped>\n",
       "    .dataframe tbody tr th:only-of-type {\n",
       "        vertical-align: middle;\n",
       "    }\n",
       "\n",
       "    .dataframe tbody tr th {\n",
       "        vertical-align: top;\n",
       "    }\n",
       "\n",
       "    .dataframe thead th {\n",
       "        text-align: right;\n",
       "    }\n",
       "</style>\n",
       "<table border=\"1\" class=\"dataframe\">\n",
       "  <thead>\n",
       "    <tr style=\"text-align: right;\">\n",
       "      <th></th>\n",
       "      <th>total</th>\n",
       "      <th>train</th>\n",
       "      <th>test</th>\n",
       "      <th>train_perc</th>\n",
       "      <th>test_perc</th>\n",
       "    </tr>\n",
       "  </thead>\n",
       "  <tbody>\n",
       "    <tr>\n",
       "      <th>0</th>\n",
       "      <td>648</td>\n",
       "      <td>519</td>\n",
       "      <td>129</td>\n",
       "      <td>0.800926</td>\n",
       "      <td>0.199074</td>\n",
       "    </tr>\n",
       "    <tr>\n",
       "      <th>1</th>\n",
       "      <td>952</td>\n",
       "      <td>762</td>\n",
       "      <td>190</td>\n",
       "      <td>0.800420</td>\n",
       "      <td>0.199580</td>\n",
       "    </tr>\n",
       "    <tr>\n",
       "      <th>2</th>\n",
       "      <td>624</td>\n",
       "      <td>499</td>\n",
       "      <td>125</td>\n",
       "      <td>0.799679</td>\n",
       "      <td>0.200321</td>\n",
       "    </tr>\n",
       "    <tr>\n",
       "      <th>3</th>\n",
       "      <td>1208</td>\n",
       "      <td>966</td>\n",
       "      <td>242</td>\n",
       "      <td>0.799669</td>\n",
       "      <td>0.200331</td>\n",
       "    </tr>\n",
       "    <tr>\n",
       "      <th>4</th>\n",
       "      <td>825</td>\n",
       "      <td>660</td>\n",
       "      <td>165</td>\n",
       "      <td>0.800000</td>\n",
       "      <td>0.200000</td>\n",
       "    </tr>\n",
       "    <tr>\n",
       "      <th>5</th>\n",
       "      <td>659</td>\n",
       "      <td>527</td>\n",
       "      <td>132</td>\n",
       "      <td>0.799697</td>\n",
       "      <td>0.200303</td>\n",
       "    </tr>\n",
       "    <tr>\n",
       "      <th>6</th>\n",
       "      <td>657</td>\n",
       "      <td>526</td>\n",
       "      <td>131</td>\n",
       "      <td>0.800609</td>\n",
       "      <td>0.199391</td>\n",
       "    </tr>\n",
       "    <tr>\n",
       "      <th>7</th>\n",
       "      <td>725</td>\n",
       "      <td>580</td>\n",
       "      <td>145</td>\n",
       "      <td>0.800000</td>\n",
       "      <td>0.200000</td>\n",
       "    </tr>\n",
       "    <tr>\n",
       "      <th>8</th>\n",
       "      <td>614</td>\n",
       "      <td>491</td>\n",
       "      <td>123</td>\n",
       "      <td>0.799674</td>\n",
       "      <td>0.200326</td>\n",
       "    </tr>\n",
       "    <tr>\n",
       "      <th>9</th>\n",
       "      <td>1610</td>\n",
       "      <td>1288</td>\n",
       "      <td>322</td>\n",
       "      <td>0.800000</td>\n",
       "      <td>0.200000</td>\n",
       "    </tr>\n",
       "    <tr>\n",
       "      <th>10</th>\n",
       "      <td>950</td>\n",
       "      <td>760</td>\n",
       "      <td>190</td>\n",
       "      <td>0.800000</td>\n",
       "      <td>0.200000</td>\n",
       "    </tr>\n",
       "    <tr>\n",
       "      <th>11</th>\n",
       "      <td>703</td>\n",
       "      <td>562</td>\n",
       "      <td>141</td>\n",
       "      <td>0.799431</td>\n",
       "      <td>0.200569</td>\n",
       "    </tr>\n",
       "    <tr>\n",
       "      <th>12</th>\n",
       "      <td>1098</td>\n",
       "      <td>878</td>\n",
       "      <td>220</td>\n",
       "      <td>0.799636</td>\n",
       "      <td>0.200364</td>\n",
       "    </tr>\n",
       "    <tr>\n",
       "      <th>13</th>\n",
       "      <td>1084</td>\n",
       "      <td>867</td>\n",
       "      <td>217</td>\n",
       "      <td>0.799815</td>\n",
       "      <td>0.200185</td>\n",
       "    </tr>\n",
       "    <tr>\n",
       "      <th>14</th>\n",
       "      <td>786</td>\n",
       "      <td>629</td>\n",
       "      <td>157</td>\n",
       "      <td>0.800254</td>\n",
       "      <td>0.199746</td>\n",
       "    </tr>\n",
       "  </tbody>\n",
       "</table>\n",
       "</div>"
      ],
      "text/plain": [
       "    total  train  test  train_perc  test_perc\n",
       "0     648    519   129    0.800926   0.199074\n",
       "1     952    762   190    0.800420   0.199580\n",
       "2     624    499   125    0.799679   0.200321\n",
       "3    1208    966   242    0.799669   0.200331\n",
       "4     825    660   165    0.800000   0.200000\n",
       "5     659    527   132    0.799697   0.200303\n",
       "6     657    526   131    0.800609   0.199391\n",
       "7     725    580   145    0.800000   0.200000\n",
       "8     614    491   123    0.799674   0.200326\n",
       "9    1610   1288   322    0.800000   0.200000\n",
       "10    950    760   190    0.800000   0.200000\n",
       "11    703    562   141    0.799431   0.200569\n",
       "12   1098    878   220    0.799636   0.200364\n",
       "13   1084    867   217    0.799815   0.200185\n",
       "14    786    629   157    0.800254   0.199746"
      ]
     },
     "execution_count": 94,
     "metadata": {},
     "output_type": "execute_result"
    }
   ],
   "source": [
    "split = pd.DataFrame(list(zip(models.df['name'].value_counts().sort_index(), models.y_train.value_counts().sort_index(), models.y_test.value_counts().sort_index())), columns=['total','train','test'])\n",
    "split['train_perc'] = split['train']/(split['train']+split['test'])\n",
    "split['test_perc'] = split['test']/(split['train']+split['test'])\n",
    "split"
   ]
  },
  {
   "cell_type": "code",
   "execution_count": 95,
   "metadata": {
    "scrolled": true
   },
   "outputs": [
    {
     "data": {
      "text/html": [
       "<div>\n",
       "<style scoped>\n",
       "    .dataframe tbody tr th:only-of-type {\n",
       "        vertical-align: middle;\n",
       "    }\n",
       "\n",
       "    .dataframe tbody tr th {\n",
       "        vertical-align: top;\n",
       "    }\n",
       "\n",
       "    .dataframe thead th {\n",
       "        text-align: right;\n",
       "    }\n",
       "</style>\n",
       "<table border=\"1\" class=\"dataframe\">\n",
       "  <thead>\n",
       "    <tr style=\"text-align: right;\">\n",
       "      <th></th>\n",
       "      <th>total</th>\n",
       "      <th>train</th>\n",
       "      <th>test</th>\n",
       "      <th>train_perc</th>\n",
       "      <th>test_perc</th>\n",
       "    </tr>\n",
       "  </thead>\n",
       "  <tbody>\n",
       "    <tr>\n",
       "      <th>0</th>\n",
       "      <td>648</td>\n",
       "      <td>491</td>\n",
       "      <td>123</td>\n",
       "      <td>0.799674</td>\n",
       "      <td>0.200326</td>\n",
       "    </tr>\n",
       "    <tr>\n",
       "      <th>1</th>\n",
       "      <td>952</td>\n",
       "      <td>491</td>\n",
       "      <td>123</td>\n",
       "      <td>0.799674</td>\n",
       "      <td>0.200326</td>\n",
       "    </tr>\n",
       "    <tr>\n",
       "      <th>2</th>\n",
       "      <td>624</td>\n",
       "      <td>491</td>\n",
       "      <td>123</td>\n",
       "      <td>0.799674</td>\n",
       "      <td>0.200326</td>\n",
       "    </tr>\n",
       "    <tr>\n",
       "      <th>3</th>\n",
       "      <td>1208</td>\n",
       "      <td>491</td>\n",
       "      <td>123</td>\n",
       "      <td>0.799674</td>\n",
       "      <td>0.200326</td>\n",
       "    </tr>\n",
       "    <tr>\n",
       "      <th>4</th>\n",
       "      <td>825</td>\n",
       "      <td>491</td>\n",
       "      <td>123</td>\n",
       "      <td>0.799674</td>\n",
       "      <td>0.200326</td>\n",
       "    </tr>\n",
       "    <tr>\n",
       "      <th>5</th>\n",
       "      <td>659</td>\n",
       "      <td>492</td>\n",
       "      <td>122</td>\n",
       "      <td>0.801303</td>\n",
       "      <td>0.198697</td>\n",
       "    </tr>\n",
       "    <tr>\n",
       "      <th>6</th>\n",
       "      <td>657</td>\n",
       "      <td>491</td>\n",
       "      <td>123</td>\n",
       "      <td>0.799674</td>\n",
       "      <td>0.200326</td>\n",
       "    </tr>\n",
       "    <tr>\n",
       "      <th>7</th>\n",
       "      <td>725</td>\n",
       "      <td>492</td>\n",
       "      <td>122</td>\n",
       "      <td>0.801303</td>\n",
       "      <td>0.198697</td>\n",
       "    </tr>\n",
       "    <tr>\n",
       "      <th>8</th>\n",
       "      <td>614</td>\n",
       "      <td>491</td>\n",
       "      <td>123</td>\n",
       "      <td>0.799674</td>\n",
       "      <td>0.200326</td>\n",
       "    </tr>\n",
       "    <tr>\n",
       "      <th>9</th>\n",
       "      <td>1610</td>\n",
       "      <td>491</td>\n",
       "      <td>123</td>\n",
       "      <td>0.799674</td>\n",
       "      <td>0.200326</td>\n",
       "    </tr>\n",
       "    <tr>\n",
       "      <th>10</th>\n",
       "      <td>950</td>\n",
       "      <td>491</td>\n",
       "      <td>123</td>\n",
       "      <td>0.799674</td>\n",
       "      <td>0.200326</td>\n",
       "    </tr>\n",
       "    <tr>\n",
       "      <th>11</th>\n",
       "      <td>703</td>\n",
       "      <td>492</td>\n",
       "      <td>122</td>\n",
       "      <td>0.801303</td>\n",
       "      <td>0.198697</td>\n",
       "    </tr>\n",
       "    <tr>\n",
       "      <th>12</th>\n",
       "      <td>1098</td>\n",
       "      <td>491</td>\n",
       "      <td>123</td>\n",
       "      <td>0.799674</td>\n",
       "      <td>0.200326</td>\n",
       "    </tr>\n",
       "    <tr>\n",
       "      <th>13</th>\n",
       "      <td>1084</td>\n",
       "      <td>491</td>\n",
       "      <td>123</td>\n",
       "      <td>0.799674</td>\n",
       "      <td>0.200326</td>\n",
       "    </tr>\n",
       "    <tr>\n",
       "      <th>14</th>\n",
       "      <td>786</td>\n",
       "      <td>491</td>\n",
       "      <td>123</td>\n",
       "      <td>0.799674</td>\n",
       "      <td>0.200326</td>\n",
       "    </tr>\n",
       "  </tbody>\n",
       "</table>\n",
       "</div>"
      ],
      "text/plain": [
       "    total  train  test  train_perc  test_perc\n",
       "0     648    491   123    0.799674   0.200326\n",
       "1     952    491   123    0.799674   0.200326\n",
       "2     624    491   123    0.799674   0.200326\n",
       "3    1208    491   123    0.799674   0.200326\n",
       "4     825    491   123    0.799674   0.200326\n",
       "5     659    492   122    0.801303   0.198697\n",
       "6     657    491   123    0.799674   0.200326\n",
       "7     725    492   122    0.801303   0.198697\n",
       "8     614    491   123    0.799674   0.200326\n",
       "9    1610    491   123    0.799674   0.200326\n",
       "10    950    491   123    0.799674   0.200326\n",
       "11    703    492   122    0.801303   0.198697\n",
       "12   1098    491   123    0.799674   0.200326\n",
       "13   1084    491   123    0.799674   0.200326\n",
       "14    786    491   123    0.799674   0.200326"
      ]
     },
     "execution_count": 95,
     "metadata": {},
     "output_type": "execute_result"
    }
   ],
   "source": [
    "split_bal = pd.DataFrame(list(zip(models_b.df['name'].value_counts().sort_index(), models_b.y_train.value_counts().sort_index(), models_b.y_test.value_counts().sort_index())), columns=['total','train','test'])\n",
    "split_bal['train_perc'] = split_bal['train']/(split_bal['train']+split_bal['test'])\n",
    "split_bal['test_perc'] = split_bal['test']/(split_bal['train']+split_bal['test'])\n",
    "split_bal"
   ]
  },
  {
   "cell_type": "code",
   "execution_count": 108,
   "metadata": {},
   "outputs": [],
   "source": [
    "model_results = pd.DataFrame()"
   ]
  },
  {
   "cell_type": "markdown",
   "metadata": {},
   "source": [
    "## Naive Bayes"
   ]
  },
  {
   "cell_type": "code",
   "execution_count": 109,
   "metadata": {},
   "outputs": [
    {
     "data": {
      "text/plain": [
       "0.4"
      ]
     },
     "execution_count": 109,
     "metadata": {},
     "output_type": "execute_result"
    }
   ],
   "source": [
    "gnb, y_pred = models.NB()\n",
    "models.accuracy_score(y_pred)"
   ]
  },
  {
   "cell_type": "code",
   "execution_count": 110,
   "metadata": {},
   "outputs": [
    {
     "name": "stdout",
     "output_type": "stream",
     "text": [
      "              precision    recall  f1-score   support\n",
      "\n",
      "           0       0.29      0.04      0.07       129\n",
      "           1       0.18      0.25      0.21       190\n",
      "           2       0.49      0.42      0.45       125\n",
      "           3       0.29      0.05      0.08       242\n",
      "           4       0.39      0.50      0.44       165\n",
      "           5       0.44      0.06      0.11       132\n",
      "           6       0.34      0.69      0.46       131\n",
      "           7       0.23      0.87      0.37       145\n",
      "           8       0.41      0.24      0.31       123\n",
      "           9       1.00      1.00      1.00       322\n",
      "          10       0.51      0.44      0.47       190\n",
      "          11       0.25      0.75      0.37       141\n",
      "          12       0.34      0.05      0.09       220\n",
      "          13       0.51      0.28      0.36       217\n",
      "          14       0.40      0.10      0.16       157\n",
      "\n",
      "    accuracy                           0.40      2629\n",
      "   macro avg       0.41      0.38      0.33      2629\n",
      "weighted avg       0.44      0.40      0.36      2629\n",
      "\n"
     ]
    }
   ],
   "source": [
    "print(models.classification_report(y_pred))"
   ]
  },
  {
   "cell_type": "code",
   "execution_count": 111,
   "metadata": {},
   "outputs": [],
   "source": [
    "model_results = model_results.append(models.class_score(y_pred, 'Naive Bayes'))\n",
    "# model_results"
   ]
  },
  {
   "cell_type": "markdown",
   "metadata": {},
   "source": [
    "## Logistic Regression"
   ]
  },
  {
   "cell_type": "code",
   "execution_count": 112,
   "metadata": {},
   "outputs": [
    {
     "data": {
      "text/plain": [
       "0.19"
      ]
     },
     "execution_count": 112,
     "metadata": {},
     "output_type": "execute_result"
    }
   ],
   "source": [
    "lr, y_pred = models.LR()\n",
    "models.accuracy_score(y_pred)"
   ]
  },
  {
   "cell_type": "code",
   "execution_count": 113,
   "metadata": {},
   "outputs": [
    {
     "name": "stdout",
     "output_type": "stream",
     "text": [
      "              precision    recall  f1-score   support\n",
      "\n",
      "           0       0.00      0.00      0.00       129\n",
      "           1       0.06      0.01      0.02       190\n",
      "           2       0.00      0.00      0.00       125\n",
      "           3       0.14      0.74      0.24       242\n",
      "           4       0.12      0.25      0.16       165\n",
      "           5       0.06      0.10      0.07       132\n",
      "           6       0.00      0.00      0.00       131\n",
      "           7       0.00      0.00      0.00       145\n",
      "           8       0.00      0.00      0.00       123\n",
      "           9       0.36      0.78      0.49       322\n",
      "          10       0.15      0.02      0.04       190\n",
      "          11       0.00      0.00      0.00       141\n",
      "          12       0.00      0.00      0.00       220\n",
      "          13       0.00      0.00      0.00       217\n",
      "          14       0.00      0.00      0.00       157\n",
      "\n",
      "    accuracy                           0.19      2629\n",
      "   macro avg       0.06      0.13      0.07      2629\n",
      "weighted avg       0.08      0.19      0.10      2629\n",
      "\n"
     ]
    }
   ],
   "source": [
    "print(models.classification_report(y_pred))"
   ]
  },
  {
   "cell_type": "code",
   "execution_count": 114,
   "metadata": {},
   "outputs": [],
   "source": [
    "model_results = model_results.append(models.class_score(y_pred, 'Logistic Regression'))"
   ]
  },
  {
   "cell_type": "markdown",
   "metadata": {},
   "source": [
    "## Random Forest"
   ]
  },
  {
   "cell_type": "code",
   "execution_count": 115,
   "metadata": {},
   "outputs": [
    {
     "name": "stderr",
     "output_type": "stream",
     "text": [
      "[Parallel(n_jobs=-1)]: Using backend ThreadingBackend with 4 concurrent workers.\n",
      "[Parallel(n_jobs=-1)]: Done  42 tasks      | elapsed:    0.3s\n"
     ]
    },
    {
     "name": "stdout",
     "output_type": "stream",
     "text": [
      "Average number of nodes 5772\n",
      "Average maximum depth 30\n"
     ]
    },
    {
     "name": "stderr",
     "output_type": "stream",
     "text": [
      "[Parallel(n_jobs=-1)]: Done 100 out of 100 | elapsed:    0.7s finished\n",
      "[Parallel(n_jobs=4)]: Using backend ThreadingBackend with 4 concurrent workers.\n",
      "[Parallel(n_jobs=4)]: Done  42 tasks      | elapsed:    0.0s\n",
      "[Parallel(n_jobs=4)]: Done 100 out of 100 | elapsed:    0.0s finished\n"
     ]
    },
    {
     "data": {
      "text/plain": [
       "0.71"
      ]
     },
     "execution_count": 115,
     "metadata": {},
     "output_type": "execute_result"
    }
   ],
   "source": [
    "rf, y_pred = models.RF()\n",
    "models.accuracy_score(y_pred)"
   ]
  },
  {
   "cell_type": "code",
   "execution_count": 116,
   "metadata": {},
   "outputs": [
    {
     "name": "stdout",
     "output_type": "stream",
     "text": [
      "              precision    recall  f1-score   support\n",
      "\n",
      "           0       0.67      0.64      0.65       129\n",
      "           1       0.76      0.87      0.81       190\n",
      "           2       0.65      0.86      0.74       125\n",
      "           3       0.63      0.86      0.73       242\n",
      "           4       0.67      0.72      0.69       165\n",
      "           5       0.56      0.29      0.38       132\n",
      "           6       0.62      0.46      0.53       131\n",
      "           7       0.44      0.37      0.40       145\n",
      "           8       0.61      0.46      0.52       123\n",
      "           9       1.00      1.00      1.00       322\n",
      "          10       0.68      0.57      0.62       190\n",
      "          11       0.67      0.58      0.62       141\n",
      "          12       0.78      0.89      0.83       220\n",
      "          13       0.82      0.86      0.84       217\n",
      "          14       0.60      0.57      0.58       157\n",
      "\n",
      "    accuracy                           0.71      2629\n",
      "   macro avg       0.68      0.67      0.66      2629\n",
      "weighted avg       0.71      0.71      0.70      2629\n",
      "\n"
     ]
    }
   ],
   "source": [
    "print(models.classification_report(y_pred))"
   ]
  },
  {
   "cell_type": "code",
   "execution_count": 117,
   "metadata": {},
   "outputs": [],
   "source": [
    "model_results = model_results.append(models.class_score(y_pred, 'Random Forest'))"
   ]
  },
  {
   "cell_type": "code",
   "execution_count": 120,
   "metadata": {},
   "outputs": [
    {
     "data": {
      "text/plain": [
       "<matplotlib.axes._subplots.AxesSubplot at 0x11f794310>"
      ]
     },
     "execution_count": 120,
     "metadata": {},
     "output_type": "execute_result"
    },
    {
     "data": {
      "image/png": "[encoded data removed]",
      "text/plain": [
       "<Figure size 1008x648 with 1 Axes>"
      ]
     },
     "metadata": {
      "needs_background": "light"
     },
     "output_type": "display_data"
    }
   ],
   "source": [
    "plt.figure(figsize=(14,9))\n",
    "plt.title('')\n",
    "sns.lineplot(x='user_id', y='truth', hue='model_name', style='model_name', data=model_results, markers=True)"
   ]
  },
  {
   "cell_type": "code",
   "execution_count": null,
   "metadata": {},
   "outputs": [],
   "source": []
  }
 ],
 "metadata": {
  "kernelspec": {
   "display_name": "Python 3",
   "language": "python",
   "name": "python3"
  },
  "language_info": {
   "codemirror_mode": {
    "name": "ipython",
    "version": 3
   },
   "file_extension": ".py",
   "mimetype": "text/x-python",
   "name": "python",
   "nbconvert_exporter": "python",
   "pygments_lexer": "ipython3",
   "version": "3.7.4"
  }
 },
 "nbformat": 4,
 "nbformat_minor": 2
}
