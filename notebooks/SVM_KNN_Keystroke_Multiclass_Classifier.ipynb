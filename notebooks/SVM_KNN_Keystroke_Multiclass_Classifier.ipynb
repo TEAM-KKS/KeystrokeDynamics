{
 "cells": [
  {
   "cell_type": "code",
   "execution_count": 1,
   "metadata": {},
   "outputs": [],
   "source": [
    "import pandas as pd\n",
    "import numpy as np\n",
    "from sklearn import preprocessing\n",
    "from sklearn.model_selection import train_test_split\n",
    "from sklearn.metrics import classification_report \n",
    "from sklearn.metrics import confusion_matrix\n",
    "from sklearn.svm import SVC\n",
    "from sklearn.neighbors import KNeighborsClassifier "
   ]
  },
  {
   "cell_type": "code",
   "execution_count": 2,
   "metadata": {},
   "outputs": [
    {
     "data": {
      "text/html": [
       "<div>\n",
       "<style scoped>\n",
       "    .dataframe tbody tr th:only-of-type {\n",
       "        vertical-align: middle;\n",
       "    }\n",
       "\n",
       "    .dataframe tbody tr th {\n",
       "        vertical-align: top;\n",
       "    }\n",
       "\n",
       "    .dataframe thead th {\n",
       "        text-align: right;\n",
       "    }\n",
       "</style>\n",
       "<table border=\"1\" class=\"dataframe\">\n",
       "  <thead>\n",
       "    <tr style=\"text-align: right;\">\n",
       "      <th></th>\n",
       "      <th>id</th>\n",
       "      <th>box_id</th>\n",
       "      <th>device_type</th>\n",
       "      <th>false_character</th>\n",
       "      <th>hold_for</th>\n",
       "      <th>key_pressed</th>\n",
       "      <th>location</th>\n",
       "      <th>long_pressed_equivalent</th>\n",
       "      <th>name</th>\n",
       "      <th>platform</th>\n",
       "      <th>pressed_after</th>\n",
       "      <th>timestamp</th>\n",
       "      <th>user_id</th>\n",
       "    </tr>\n",
       "  </thead>\n",
       "  <tbody>\n",
       "    <tr>\n",
       "      <th>0</th>\n",
       "      <td>902</td>\n",
       "      <td>#text-area-1</td>\n",
       "      <td>Computer/Laptop</td>\n",
       "      <td>f</td>\n",
       "      <td>754</td>\n",
       "      <td>Shift</td>\n",
       "      <td>16</td>\n",
       "      <td>2</td>\n",
       "      <td>Kedar</td>\n",
       "      <td>MacIntel</td>\n",
       "      <td>0</td>\n",
       "      <td>1584257309690</td>\n",
       "      <td>ef70b84c-be3d-434b-9cbe-55a19ce557a0</td>\n",
       "    </tr>\n",
       "    <tr>\n",
       "      <th>1</th>\n",
       "      <td>903</td>\n",
       "      <td>#text-area-1</td>\n",
       "      <td>Computer/Laptop</td>\n",
       "      <td>f</td>\n",
       "      <td>63</td>\n",
       "      <td>h</td>\n",
       "      <td>72</td>\n",
       "      <td>1</td>\n",
       "      <td>Kedar</td>\n",
       "      <td>MacIntel</td>\n",
       "      <td>457</td>\n",
       "      <td>1584257310901</td>\n",
       "      <td>ef70b84c-be3d-434b-9cbe-55a19ce557a0</td>\n",
       "    </tr>\n",
       "    <tr>\n",
       "      <th>2</th>\n",
       "      <td>904</td>\n",
       "      <td>#text-area-1</td>\n",
       "      <td>Computer/Laptop</td>\n",
       "      <td>f</td>\n",
       "      <td>80</td>\n",
       "      <td>i</td>\n",
       "      <td>73</td>\n",
       "      <td>1</td>\n",
       "      <td>Kedar</td>\n",
       "      <td>MacIntel</td>\n",
       "      <td>105</td>\n",
       "      <td>1584257311070</td>\n",
       "      <td>ef70b84c-be3d-434b-9cbe-55a19ce557a0</td>\n",
       "    </tr>\n",
       "    <tr>\n",
       "      <th>3</th>\n",
       "      <td>905</td>\n",
       "      <td>#text-area-1</td>\n",
       "      <td>Computer/Laptop</td>\n",
       "      <td>f</td>\n",
       "      <td>86</td>\n",
       "      <td>s</td>\n",
       "      <td>83</td>\n",
       "      <td>1</td>\n",
       "      <td>Kedar</td>\n",
       "      <td>MacIntel</td>\n",
       "      <td>19</td>\n",
       "      <td>1584257311169</td>\n",
       "      <td>ef70b84c-be3d-434b-9cbe-55a19ce557a0</td>\n",
       "    </tr>\n",
       "    <tr>\n",
       "      <th>4</th>\n",
       "      <td>906</td>\n",
       "      <td>#text-area-1</td>\n",
       "      <td>Computer/Laptop</td>\n",
       "      <td>f</td>\n",
       "      <td>72</td>\n",
       "      <td></td>\n",
       "      <td>32</td>\n",
       "      <td>1</td>\n",
       "      <td>Kedar</td>\n",
       "      <td>MacIntel</td>\n",
       "      <td>54</td>\n",
       "      <td>1584257311309</td>\n",
       "      <td>ef70b84c-be3d-434b-9cbe-55a19ce557a0</td>\n",
       "    </tr>\n",
       "  </tbody>\n",
       "</table>\n",
       "</div>"
      ],
      "text/plain": [
       "    id        box_id      device_type false_character  hold_for key_pressed  \\\n",
       "0  902  #text-area-1  Computer/Laptop               f       754       Shift   \n",
       "1  903  #text-area-1  Computer/Laptop               f        63           h   \n",
       "2  904  #text-area-1  Computer/Laptop               f        80           i   \n",
       "3  905  #text-area-1  Computer/Laptop               f        86           s   \n",
       "4  906  #text-area-1  Computer/Laptop               f        72               \n",
       "\n",
       "   location  long_pressed_equivalent   name  platform  pressed_after  \\\n",
       "0        16                        2  Kedar  MacIntel              0   \n",
       "1        72                        1  Kedar  MacIntel            457   \n",
       "2        73                        1  Kedar  MacIntel            105   \n",
       "3        83                        1  Kedar  MacIntel             19   \n",
       "4        32                        1  Kedar  MacIntel             54   \n",
       "\n",
       "       timestamp                               user_id  \n",
       "0  1584257309690  ef70b84c-be3d-434b-9cbe-55a19ce557a0  \n",
       "1  1584257310901  ef70b84c-be3d-434b-9cbe-55a19ce557a0  \n",
       "2  1584257311070  ef70b84c-be3d-434b-9cbe-55a19ce557a0  \n",
       "3  1584257311169  ef70b84c-be3d-434b-9cbe-55a19ce557a0  \n",
       "4  1584257311309  ef70b84c-be3d-434b-9cbe-55a19ce557a0  "
      ]
     },
     "execution_count": 2,
     "metadata": {},
     "output_type": "execute_result"
    }
   ],
   "source": [
    "df = pd.read_csv(\"dump2.csv\")\n",
    "df.head(5)"
   ]
  },
  {
   "cell_type": "code",
   "execution_count": 3,
   "metadata": {},
   "outputs": [
    {
     "data": {
      "text/plain": [
       "Kedar             2542\n",
       "Vikas Ramaneti     945\n",
       "Sope Ogundipe      810\n",
       "Kunal Sonar        769\n",
       "Name: name, dtype: int64"
      ]
     },
     "execution_count": 3,
     "metadata": {},
     "output_type": "execute_result"
    }
   ],
   "source": [
    "df[\"name\"].value_counts()"
   ]
  },
  {
   "cell_type": "code",
   "execution_count": 4,
   "metadata": {},
   "outputs": [
    {
     "data": {
      "text/plain": [
       "ef70b84c-be3d-434b-9cbe-55a19ce557a0    863\n",
       "7ce1efdf-a289-4a3c-9aa9-a3ff66cf6433    844\n",
       "c8dbf287-6ae4-4fba-bba9-7900a6637d48    835\n",
       "Name: user_id, dtype: int64"
      ]
     },
     "execution_count": 4,
     "metadata": {},
     "output_type": "execute_result"
    }
   ],
   "source": [
    "df[df['name'] == 'Kedar']['user_id'].value_counts()"
   ]
  },
  {
   "cell_type": "code",
   "execution_count": 14,
   "metadata": {},
   "outputs": [
    {
     "data": {
      "text/plain": [
       "(3359, 13)"
      ]
     },
     "execution_count": 14,
     "metadata": {},
     "output_type": "execute_result"
    }
   ],
   "source": [
    "data = df[~df['user_id'].isin(['ef70b84c-be3d-434b-9cbe-55a19ce557a0','7ce1efdf-a289-4a3c-9aa9-a3ff66cf6433'])]\n",
    "data.shape"
   ]
  },
  {
   "cell_type": "code",
   "execution_count": 15,
   "metadata": {},
   "outputs": [
    {
     "data": {
      "text/plain": [
       "Vikas Ramaneti    945\n",
       "Kedar             835\n",
       "Sope Ogundipe     810\n",
       "Kunal Sonar       769\n",
       "Name: name, dtype: int64"
      ]
     },
     "execution_count": 15,
     "metadata": {},
     "output_type": "execute_result"
    }
   ],
   "source": [
    "data[\"name\"].value_counts()"
   ]
  },
  {
   "cell_type": "code",
   "execution_count": 16,
   "metadata": {},
   "outputs": [
    {
     "data": {
      "text/html": [
       "<div>\n",
       "<style scoped>\n",
       "    .dataframe tbody tr th:only-of-type {\n",
       "        vertical-align: middle;\n",
       "    }\n",
       "\n",
       "    .dataframe tbody tr th {\n",
       "        vertical-align: top;\n",
       "    }\n",
       "\n",
       "    .dataframe thead th {\n",
       "        text-align: right;\n",
       "    }\n",
       "</style>\n",
       "<table border=\"1\" class=\"dataframe\">\n",
       "  <thead>\n",
       "    <tr style=\"text-align: right;\">\n",
       "      <th></th>\n",
       "      <th></th>\n",
       "      <th></th>\n",
       "      <th>id</th>\n",
       "    </tr>\n",
       "    <tr>\n",
       "      <th>name</th>\n",
       "      <th>false_character</th>\n",
       "      <th>long_pressed_equivalent</th>\n",
       "      <th></th>\n",
       "    </tr>\n",
       "  </thead>\n",
       "  <tbody>\n",
       "    <tr>\n",
       "      <th rowspan=\"4\" valign=\"top\">Kedar</th>\n",
       "      <th rowspan=\"2\" valign=\"top\">f</th>\n",
       "      <th>1</th>\n",
       "      <td>714</td>\n",
       "    </tr>\n",
       "    <tr>\n",
       "      <th>2</th>\n",
       "      <td>79</td>\n",
       "    </tr>\n",
       "    <tr>\n",
       "      <th rowspan=\"2\" valign=\"top\">t</th>\n",
       "      <th>1</th>\n",
       "      <td>38</td>\n",
       "    </tr>\n",
       "    <tr>\n",
       "      <th>2</th>\n",
       "      <td>4</td>\n",
       "    </tr>\n",
       "    <tr>\n",
       "      <th rowspan=\"4\" valign=\"top\">Kunal Sonar</th>\n",
       "      <th rowspan=\"3\" valign=\"top\">f</th>\n",
       "      <th>1</th>\n",
       "      <td>613</td>\n",
       "    </tr>\n",
       "    <tr>\n",
       "      <th>2</th>\n",
       "      <td>125</td>\n",
       "    </tr>\n",
       "    <tr>\n",
       "      <th>3</th>\n",
       "      <td>1</td>\n",
       "    </tr>\n",
       "    <tr>\n",
       "      <th>t</th>\n",
       "      <th>1</th>\n",
       "      <td>30</td>\n",
       "    </tr>\n",
       "    <tr>\n",
       "      <th rowspan=\"7\" valign=\"top\">Sope Ogundipe</th>\n",
       "      <th rowspan=\"3\" valign=\"top\">f</th>\n",
       "      <th>1</th>\n",
       "      <td>702</td>\n",
       "    </tr>\n",
       "    <tr>\n",
       "      <th>2</th>\n",
       "      <td>71</td>\n",
       "    </tr>\n",
       "    <tr>\n",
       "      <th>8</th>\n",
       "      <td>1</td>\n",
       "    </tr>\n",
       "    <tr>\n",
       "      <th rowspan=\"4\" valign=\"top\">t</th>\n",
       "      <th>1</th>\n",
       "      <td>30</td>\n",
       "    </tr>\n",
       "    <tr>\n",
       "      <th>2</th>\n",
       "      <td>4</td>\n",
       "    </tr>\n",
       "    <tr>\n",
       "      <th>5</th>\n",
       "      <td>1</td>\n",
       "    </tr>\n",
       "    <tr>\n",
       "      <th>6</th>\n",
       "      <td>1</td>\n",
       "    </tr>\n",
       "    <tr>\n",
       "      <th rowspan=\"4\" valign=\"top\">Vikas Ramaneti</th>\n",
       "      <th rowspan=\"2\" valign=\"top\">f</th>\n",
       "      <th>1</th>\n",
       "      <td>726</td>\n",
       "    </tr>\n",
       "    <tr>\n",
       "      <th>2</th>\n",
       "      <td>51</td>\n",
       "    </tr>\n",
       "    <tr>\n",
       "      <th rowspan=\"2\" valign=\"top\">t</th>\n",
       "      <th>1</th>\n",
       "      <td>164</td>\n",
       "    </tr>\n",
       "    <tr>\n",
       "      <th>2</th>\n",
       "      <td>4</td>\n",
       "    </tr>\n",
       "  </tbody>\n",
       "</table>\n",
       "</div>"
      ],
      "text/plain": [
       "                                                         id\n",
       "name           false_character long_pressed_equivalent     \n",
       "Kedar          f               1                        714\n",
       "                               2                         79\n",
       "               t               1                         38\n",
       "                               2                          4\n",
       "Kunal Sonar    f               1                        613\n",
       "                               2                        125\n",
       "                               3                          1\n",
       "               t               1                         30\n",
       "Sope Ogundipe  f               1                        702\n",
       "                               2                         71\n",
       "                               8                          1\n",
       "               t               1                         30\n",
       "                               2                          4\n",
       "                               5                          1\n",
       "                               6                          1\n",
       "Vikas Ramaneti f               1                        726\n",
       "                               2                         51\n",
       "               t               1                        164\n",
       "                               2                          4"
      ]
     },
     "execution_count": 16,
     "metadata": {},
     "output_type": "execute_result"
    }
   ],
   "source": [
    "data[['name','false_character','long_pressed_equivalent','id']].groupby(['name','false_character','long_pressed_equivalent']).count()"
   ]
  },
  {
   "cell_type": "code",
   "execution_count": 17,
   "metadata": {},
   "outputs": [
    {
     "name": "stderr",
     "output_type": "stream",
     "text": [
      "C:\\Users\\sopeo\\Anaconda3\\lib\\site-packages\\ipykernel_launcher.py:2: SettingWithCopyWarning: \n",
      "A value is trying to be set on a copy of a slice from a DataFrame.\n",
      "Try using .loc[row_indexer,col_indexer] = value instead\n",
      "\n",
      "See the caveats in the documentation: http://pandas.pydata.org/pandas-docs/stable/indexing.html#indexing-view-versus-copy\n",
      "  \n",
      "C:\\Users\\sopeo\\Anaconda3\\lib\\site-packages\\ipykernel_launcher.py:4: SettingWithCopyWarning: \n",
      "A value is trying to be set on a copy of a slice from a DataFrame.\n",
      "Try using .loc[row_indexer,col_indexer] = value instead\n",
      "\n",
      "See the caveats in the documentation: http://pandas.pydata.org/pandas-docs/stable/indexing.html#indexing-view-versus-copy\n",
      "  after removing the cwd from sys.path.\n",
      "C:\\Users\\sopeo\\Anaconda3\\lib\\site-packages\\ipykernel_launcher.py:6: SettingWithCopyWarning: \n",
      "A value is trying to be set on a copy of a slice from a DataFrame.\n",
      "Try using .loc[row_indexer,col_indexer] = value instead\n",
      "\n",
      "See the caveats in the documentation: http://pandas.pydata.org/pandas-docs/stable/indexing.html#indexing-view-versus-copy\n",
      "  \n"
     ]
    },
    {
     "data": {
      "text/html": [
       "<div>\n",
       "<style scoped>\n",
       "    .dataframe tbody tr th:only-of-type {\n",
       "        vertical-align: middle;\n",
       "    }\n",
       "\n",
       "    .dataframe tbody tr th {\n",
       "        vertical-align: top;\n",
       "    }\n",
       "\n",
       "    .dataframe thead th {\n",
       "        text-align: right;\n",
       "    }\n",
       "</style>\n",
       "<table border=\"1\" class=\"dataframe\">\n",
       "  <thead>\n",
       "    <tr style=\"text-align: right;\">\n",
       "      <th></th>\n",
       "      <th>id</th>\n",
       "      <th>box_id</th>\n",
       "      <th>device_type</th>\n",
       "      <th>false_character</th>\n",
       "      <th>hold_for</th>\n",
       "      <th>key_pressed</th>\n",
       "      <th>location</th>\n",
       "      <th>long_pressed_equivalent</th>\n",
       "      <th>name</th>\n",
       "      <th>platform</th>\n",
       "      <th>pressed_after</th>\n",
       "      <th>timestamp</th>\n",
       "      <th>user_id</th>\n",
       "    </tr>\n",
       "  </thead>\n",
       "  <tbody>\n",
       "    <tr>\n",
       "      <th>863</th>\n",
       "      <td>1802</td>\n",
       "      <td>0</td>\n",
       "      <td>Computer/Laptop</td>\n",
       "      <td>0</td>\n",
       "      <td>283</td>\n",
       "      <td>T</td>\n",
       "      <td>84</td>\n",
       "      <td>2</td>\n",
       "      <td>2</td>\n",
       "      <td>Win32</td>\n",
       "      <td>0</td>\n",
       "      <td>1584560377463</td>\n",
       "      <td>3aed9f41-ae01-46da-bcbf-b92b76caf99a</td>\n",
       "    </tr>\n",
       "    <tr>\n",
       "      <th>864</th>\n",
       "      <td>1803</td>\n",
       "      <td>0</td>\n",
       "      <td>Computer/Laptop</td>\n",
       "      <td>0</td>\n",
       "      <td>70</td>\n",
       "      <td>h</td>\n",
       "      <td>72</td>\n",
       "      <td>1</td>\n",
       "      <td>2</td>\n",
       "      <td>Win32</td>\n",
       "      <td>111</td>\n",
       "      <td>1584560377857</td>\n",
       "      <td>3aed9f41-ae01-46da-bcbf-b92b76caf99a</td>\n",
       "    </tr>\n",
       "    <tr>\n",
       "      <th>865</th>\n",
       "      <td>1804</td>\n",
       "      <td>0</td>\n",
       "      <td>Computer/Laptop</td>\n",
       "      <td>0</td>\n",
       "      <td>45</td>\n",
       "      <td>i</td>\n",
       "      <td>73</td>\n",
       "      <td>1</td>\n",
       "      <td>2</td>\n",
       "      <td>Win32</td>\n",
       "      <td>146</td>\n",
       "      <td>1584560378073</td>\n",
       "      <td>3aed9f41-ae01-46da-bcbf-b92b76caf99a</td>\n",
       "    </tr>\n",
       "    <tr>\n",
       "      <th>866</th>\n",
       "      <td>1805</td>\n",
       "      <td>0</td>\n",
       "      <td>Computer/Laptop</td>\n",
       "      <td>0</td>\n",
       "      <td>60</td>\n",
       "      <td>s</td>\n",
       "      <td>83</td>\n",
       "      <td>1</td>\n",
       "      <td>2</td>\n",
       "      <td>Win32</td>\n",
       "      <td>36</td>\n",
       "      <td>1584560378154</td>\n",
       "      <td>3aed9f41-ae01-46da-bcbf-b92b76caf99a</td>\n",
       "    </tr>\n",
       "    <tr>\n",
       "      <th>867</th>\n",
       "      <td>1806</td>\n",
       "      <td>0</td>\n",
       "      <td>Computer/Laptop</td>\n",
       "      <td>0</td>\n",
       "      <td>89</td>\n",
       "      <td></td>\n",
       "      <td>32</td>\n",
       "      <td>1</td>\n",
       "      <td>2</td>\n",
       "      <td>Win32</td>\n",
       "      <td>353</td>\n",
       "      <td>1584560378567</td>\n",
       "      <td>3aed9f41-ae01-46da-bcbf-b92b76caf99a</td>\n",
       "    </tr>\n",
       "  </tbody>\n",
       "</table>\n",
       "</div>"
      ],
      "text/plain": [
       "       id  box_id      device_type  false_character  hold_for key_pressed  \\\n",
       "863  1802       0  Computer/Laptop                0       283           T   \n",
       "864  1803       0  Computer/Laptop                0        70           h   \n",
       "865  1804       0  Computer/Laptop                0        45           i   \n",
       "866  1805       0  Computer/Laptop                0        60           s   \n",
       "867  1806       0  Computer/Laptop                0        89               \n",
       "\n",
       "     location  long_pressed_equivalent  name platform  pressed_after  \\\n",
       "863        84                        2     2    Win32              0   \n",
       "864        72                        1     2    Win32            111   \n",
       "865        73                        1     2    Win32            146   \n",
       "866        83                        1     2    Win32             36   \n",
       "867        32                        1     2    Win32            353   \n",
       "\n",
       "         timestamp                               user_id  \n",
       "863  1584560377463  3aed9f41-ae01-46da-bcbf-b92b76caf99a  \n",
       "864  1584560377857  3aed9f41-ae01-46da-bcbf-b92b76caf99a  \n",
       "865  1584560378073  3aed9f41-ae01-46da-bcbf-b92b76caf99a  \n",
       "866  1584560378154  3aed9f41-ae01-46da-bcbf-b92b76caf99a  \n",
       "867  1584560378567  3aed9f41-ae01-46da-bcbf-b92b76caf99a  "
      ]
     },
     "execution_count": 17,
     "metadata": {},
     "output_type": "execute_result"
    }
   ],
   "source": [
    "labelEncoder = preprocessing.LabelEncoder()\n",
    "data['false_character'] = labelEncoder.fit_transform(data['false_character'])\n",
    "false_character_map = {labelEncoder.classes_[i] : i for i in range(len(labelEncoder.classes_))}\n",
    "data['name'] = labelEncoder.fit_transform(data['name'])\n",
    "name_map = {labelEncoder.classes_[i] : i for i in range(len(labelEncoder.classes_))}\n",
    "data['box_id'] = labelEncoder.fit_transform(data['box_id'])\n",
    "box_map = {labelEncoder.classes_[i] : i for i in range(len(labelEncoder.classes_))}\n",
    "data.head(5)"
   ]
  },
  {
   "cell_type": "code",
   "execution_count": 18,
   "metadata": {},
   "outputs": [
    {
     "data": {
      "text/plain": [
       "({'f': 0, 't': 1},\n",
       " {'Kedar': 0, 'Kunal Sonar': 1, 'Sope Ogundipe': 2, 'Vikas Ramaneti': 3},\n",
       " {'#text-area-1': 0,\n",
       "  '#text-area-2': 1,\n",
       "  '#text-area-3': 2,\n",
       "  '#text-area-test': 3})"
      ]
     },
     "execution_count": 18,
     "metadata": {},
     "output_type": "execute_result"
    }
   ],
   "source": [
    "false_character_map, name_map, box_map"
   ]
  },
  {
   "cell_type": "code",
   "execution_count": 20,
   "metadata": {},
   "outputs": [
    {
     "data": {
      "text/html": [
       "<div>\n",
       "<style scoped>\n",
       "    .dataframe tbody tr th:only-of-type {\n",
       "        vertical-align: middle;\n",
       "    }\n",
       "\n",
       "    .dataframe tbody tr th {\n",
       "        vertical-align: top;\n",
       "    }\n",
       "\n",
       "    .dataframe thead th {\n",
       "        text-align: right;\n",
       "    }\n",
       "</style>\n",
       "<table border=\"1\" class=\"dataframe\">\n",
       "  <thead>\n",
       "    <tr style=\"text-align: right;\">\n",
       "      <th></th>\n",
       "      <th>name</th>\n",
       "      <th>false_character</th>\n",
       "      <th>hold_for</th>\n",
       "      <th>location</th>\n",
       "      <th>long_pressed_equivalent</th>\n",
       "      <th>pressed_after</th>\n",
       "    </tr>\n",
       "  </thead>\n",
       "  <tbody>\n",
       "    <tr>\n",
       "      <th>863</th>\n",
       "      <td>2</td>\n",
       "      <td>0</td>\n",
       "      <td>283</td>\n",
       "      <td>84</td>\n",
       "      <td>2</td>\n",
       "      <td>0</td>\n",
       "    </tr>\n",
       "    <tr>\n",
       "      <th>864</th>\n",
       "      <td>2</td>\n",
       "      <td>0</td>\n",
       "      <td>70</td>\n",
       "      <td>72</td>\n",
       "      <td>1</td>\n",
       "      <td>111</td>\n",
       "    </tr>\n",
       "    <tr>\n",
       "      <th>865</th>\n",
       "      <td>2</td>\n",
       "      <td>0</td>\n",
       "      <td>45</td>\n",
       "      <td>73</td>\n",
       "      <td>1</td>\n",
       "      <td>146</td>\n",
       "    </tr>\n",
       "    <tr>\n",
       "      <th>866</th>\n",
       "      <td>2</td>\n",
       "      <td>0</td>\n",
       "      <td>60</td>\n",
       "      <td>83</td>\n",
       "      <td>1</td>\n",
       "      <td>36</td>\n",
       "    </tr>\n",
       "    <tr>\n",
       "      <th>867</th>\n",
       "      <td>2</td>\n",
       "      <td>0</td>\n",
       "      <td>89</td>\n",
       "      <td>32</td>\n",
       "      <td>1</td>\n",
       "      <td>353</td>\n",
       "    </tr>\n",
       "  </tbody>\n",
       "</table>\n",
       "</div>"
      ],
      "text/plain": [
       "     name  false_character  hold_for  location  long_pressed_equivalent  \\\n",
       "863     2                0       283        84                        2   \n",
       "864     2                0        70        72                        1   \n",
       "865     2                0        45        73                        1   \n",
       "866     2                0        60        83                        1   \n",
       "867     2                0        89        32                        1   \n",
       "\n",
       "     pressed_after  \n",
       "863              0  \n",
       "864            111  \n",
       "865            146  \n",
       "866             36  \n",
       "867            353  "
      ]
     },
     "execution_count": 20,
     "metadata": {},
     "output_type": "execute_result"
    }
   ],
   "source": [
    "df_reduced = data[['name','false_character','hold_for','location','long_pressed_equivalent','pressed_after']]\n",
    "df_reduced.head()"
   ]
  },
  {
   "cell_type": "code",
   "execution_count": 21,
   "metadata": {},
   "outputs": [
    {
     "data": {
      "text/plain": [
       "3    945\n",
       "0    835\n",
       "2    810\n",
       "1    769\n",
       "Name: name, dtype: int64"
      ]
     },
     "execution_count": 21,
     "metadata": {},
     "output_type": "execute_result"
    }
   ],
   "source": [
    "df_reduced['name'].value_counts()"
   ]
  },
  {
   "cell_type": "code",
   "execution_count": 22,
   "metadata": {},
   "outputs": [],
   "source": [
    "X_train, X_test, y_train, y_test = train_test_split(df_reduced.iloc[:,1:], df_reduced.iloc[:,0], test_size=0.2, stratify=df_reduced.iloc[:,0], random_state=109)"
   ]
  },
  {
   "cell_type": "code",
   "execution_count": 23,
   "metadata": {},
   "outputs": [
    {
     "data": {
      "text/plain": [
       "3    769\n",
       "1    769\n",
       "2    769\n",
       "0    769\n",
       "Name: name, dtype: int64"
      ]
     },
     "execution_count": 23,
     "metadata": {},
     "output_type": "execute_result"
    }
   ],
   "source": [
    "grouped = df_reduced.groupby('name')\n",
    "balance_df = grouped.apply(lambda x : x.sample(grouped.size().min())).reset_index(drop=True)\n",
    "balance_df['name'].value_counts()"
   ]
  },
  {
   "cell_type": "code",
   "execution_count": 24,
   "metadata": {},
   "outputs": [
    {
     "data": {
      "text/html": [
       "<div>\n",
       "<style scoped>\n",
       "    .dataframe tbody tr th:only-of-type {\n",
       "        vertical-align: middle;\n",
       "    }\n",
       "\n",
       "    .dataframe tbody tr th {\n",
       "        vertical-align: top;\n",
       "    }\n",
       "\n",
       "    .dataframe thead th {\n",
       "        text-align: right;\n",
       "    }\n",
       "</style>\n",
       "<table border=\"1\" class=\"dataframe\">\n",
       "  <thead>\n",
       "    <tr style=\"text-align: right;\">\n",
       "      <th></th>\n",
       "      <th></th>\n",
       "      <th></th>\n",
       "      <th>hold_for</th>\n",
       "    </tr>\n",
       "    <tr>\n",
       "      <th>name</th>\n",
       "      <th>false_character</th>\n",
       "      <th>long_pressed_equivalent</th>\n",
       "      <th></th>\n",
       "    </tr>\n",
       "  </thead>\n",
       "  <tbody>\n",
       "    <tr>\n",
       "      <th rowspan=\"4\" valign=\"top\">0</th>\n",
       "      <th rowspan=\"2\" valign=\"top\">0</th>\n",
       "      <th>1</th>\n",
       "      <td>659</td>\n",
       "    </tr>\n",
       "    <tr>\n",
       "      <th>2</th>\n",
       "      <td>71</td>\n",
       "    </tr>\n",
       "    <tr>\n",
       "      <th rowspan=\"2\" valign=\"top\">1</th>\n",
       "      <th>1</th>\n",
       "      <td>35</td>\n",
       "    </tr>\n",
       "    <tr>\n",
       "      <th>2</th>\n",
       "      <td>4</td>\n",
       "    </tr>\n",
       "    <tr>\n",
       "      <th rowspan=\"4\" valign=\"top\">1</th>\n",
       "      <th rowspan=\"3\" valign=\"top\">0</th>\n",
       "      <th>1</th>\n",
       "      <td>613</td>\n",
       "    </tr>\n",
       "    <tr>\n",
       "      <th>2</th>\n",
       "      <td>125</td>\n",
       "    </tr>\n",
       "    <tr>\n",
       "      <th>3</th>\n",
       "      <td>1</td>\n",
       "    </tr>\n",
       "    <tr>\n",
       "      <th>1</th>\n",
       "      <th>1</th>\n",
       "      <td>30</td>\n",
       "    </tr>\n",
       "    <tr>\n",
       "      <th rowspan=\"7\" valign=\"top\">2</th>\n",
       "      <th rowspan=\"3\" valign=\"top\">0</th>\n",
       "      <th>1</th>\n",
       "      <td>667</td>\n",
       "    </tr>\n",
       "    <tr>\n",
       "      <th>2</th>\n",
       "      <td>66</td>\n",
       "    </tr>\n",
       "    <tr>\n",
       "      <th>8</th>\n",
       "      <td>1</td>\n",
       "    </tr>\n",
       "    <tr>\n",
       "      <th rowspan=\"4\" valign=\"top\">1</th>\n",
       "      <th>1</th>\n",
       "      <td>29</td>\n",
       "    </tr>\n",
       "    <tr>\n",
       "      <th>2</th>\n",
       "      <td>4</td>\n",
       "    </tr>\n",
       "    <tr>\n",
       "      <th>5</th>\n",
       "      <td>1</td>\n",
       "    </tr>\n",
       "    <tr>\n",
       "      <th>6</th>\n",
       "      <td>1</td>\n",
       "    </tr>\n",
       "    <tr>\n",
       "      <th rowspan=\"4\" valign=\"top\">3</th>\n",
       "      <th rowspan=\"2\" valign=\"top\">0</th>\n",
       "      <th>1</th>\n",
       "      <td>596</td>\n",
       "    </tr>\n",
       "    <tr>\n",
       "      <th>2</th>\n",
       "      <td>39</td>\n",
       "    </tr>\n",
       "    <tr>\n",
       "      <th rowspan=\"2\" valign=\"top\">1</th>\n",
       "      <th>1</th>\n",
       "      <td>130</td>\n",
       "    </tr>\n",
       "    <tr>\n",
       "      <th>2</th>\n",
       "      <td>4</td>\n",
       "    </tr>\n",
       "  </tbody>\n",
       "</table>\n",
       "</div>"
      ],
      "text/plain": [
       "                                              hold_for\n",
       "name false_character long_pressed_equivalent          \n",
       "0    0               1                             659\n",
       "                     2                              71\n",
       "     1               1                              35\n",
       "                     2                               4\n",
       "1    0               1                             613\n",
       "                     2                             125\n",
       "                     3                               1\n",
       "     1               1                              30\n",
       "2    0               1                             667\n",
       "                     2                              66\n",
       "                     8                               1\n",
       "     1               1                              29\n",
       "                     2                               4\n",
       "                     5                               1\n",
       "                     6                               1\n",
       "3    0               1                             596\n",
       "                     2                              39\n",
       "     1               1                             130\n",
       "                     2                               4"
      ]
     },
     "execution_count": 24,
     "metadata": {},
     "output_type": "execute_result"
    }
   ],
   "source": [
    "balance_df[['name','false_character','long_pressed_equivalent','hold_for']].groupby(['name','false_character','long_pressed_equivalent']).count()"
   ]
  },
  {
   "cell_type": "code",
   "execution_count": 25,
   "metadata": {},
   "outputs": [
    {
     "data": {
      "text/plain": [
       "((2460, 5), (616, 5), (2460,), (616,))"
      ]
     },
     "execution_count": 25,
     "metadata": {},
     "output_type": "execute_result"
    }
   ],
   "source": [
    "X_train_bal, X_test_bal, y_train_bal, y_test_bal = train_test_split(balance_df.iloc[:,1:], balance_df.iloc[:,0], test_size=0.2, stratify=balance_df.iloc[:,0] ,random_state=10)\n",
    "X_train_bal.shape, X_test_bal.shape, y_train_bal.shape, y_test_bal.shape"
   ]
  },
  {
   "cell_type": "markdown",
   "metadata": {},
   "source": [
    "### SVM Multiclass Classification on Unbalanced Data"
   ]
  },
  {
   "cell_type": "code",
   "execution_count": 26,
   "metadata": {},
   "outputs": [],
   "source": [
    "svm_model_linear = SVC(kernel = 'linear', C = 1).fit(X_train, y_train) \n",
    "svm_predictions = svm_model_linear.predict(X_test) "
   ]
  },
  {
   "cell_type": "code",
   "execution_count": 27,
   "metadata": {},
   "outputs": [
    {
     "name": "stdout",
     "output_type": "stream",
     "text": [
      "Accuracy :  41.518\n"
     ]
    }
   ],
   "source": [
    "# model accuracy for X_test  \n",
    "accuracy = svm_model_linear.score(X_test, y_test) \n",
    "print(\"Accuracy : \", (accuracy*100).round(3))"
   ]
  },
  {
   "cell_type": "code",
   "execution_count": 28,
   "metadata": {},
   "outputs": [
    {
     "name": "stdout",
     "output_type": "stream",
     "text": [
      "Confusion Matrix :\n",
      "[[ 66  21  14  66]\n",
      " [ 43  66   1  44]\n",
      " [ 34  15  14  99]\n",
      " [ 36  16   4 133]]\n"
     ]
    }
   ],
   "source": [
    "# creating a confusion matrix \n",
    "cm = confusion_matrix(y_test, svm_predictions) \n",
    "print('Confusion Matrix :')\n",
    "print(cm)"
   ]
  },
  {
   "cell_type": "code",
   "execution_count": 29,
   "metadata": {},
   "outputs": [
    {
     "name": "stdout",
     "output_type": "stream",
     "text": [
      "Classification Report : \n",
      "              precision    recall  f1-score   support\n",
      "\n",
      "           0       0.37      0.40      0.38       167\n",
      "           1       0.56      0.43      0.49       154\n",
      "           2       0.42      0.09      0.14       162\n",
      "           3       0.39      0.70      0.50       189\n",
      "\n",
      "    accuracy                           0.42       672\n",
      "   macro avg       0.44      0.40      0.38       672\n",
      "weighted avg       0.43      0.42      0.38       672\n",
      "\n"
     ]
    }
   ],
   "source": [
    "print('Classification Report : ')\n",
    "print(classification_report(y_test, svm_predictions))"
   ]
  },
  {
   "cell_type": "markdown",
   "metadata": {},
   "source": [
    "### SVM Multiclass Classification on Balanced Data"
   ]
  },
  {
   "cell_type": "code",
   "execution_count": 30,
   "metadata": {},
   "outputs": [],
   "source": [
    "svm_model_linear = SVC(kernel = 'linear', C = 1).fit(X_train_bal, y_train_bal) \n",
    "svm_predictions = svm_model_linear.predict(X_test_bal) "
   ]
  },
  {
   "cell_type": "code",
   "execution_count": 31,
   "metadata": {},
   "outputs": [
    {
     "name": "stdout",
     "output_type": "stream",
     "text": [
      "Accuracy :  45.942\n"
     ]
    }
   ],
   "source": [
    "accuracy = svm_model_linear.score(X_test_bal, y_test_bal) \n",
    "print(\"Accuracy : \", (accuracy*100).round(3))"
   ]
  },
  {
   "cell_type": "code",
   "execution_count": 32,
   "metadata": {},
   "outputs": [
    {
     "name": "stdout",
     "output_type": "stream",
     "text": [
      "Confusion Matrix :\n",
      "[[81 29 37  7]\n",
      " [39 84 27  4]\n",
      " [39 17 92  6]\n",
      " [48 16 64 26]]\n"
     ]
    }
   ],
   "source": [
    "cm = confusion_matrix(y_test_bal, svm_predictions) \n",
    "print('Confusion Matrix :')\n",
    "print(cm)"
   ]
  },
  {
   "cell_type": "code",
   "execution_count": 33,
   "metadata": {},
   "outputs": [
    {
     "name": "stdout",
     "output_type": "stream",
     "text": [
      "Classification Report : \n",
      "              precision    recall  f1-score   support\n",
      "\n",
      "           0       0.39      0.53      0.45       154\n",
      "           1       0.58      0.55      0.56       154\n",
      "           2       0.42      0.60      0.49       154\n",
      "           3       0.60      0.17      0.26       154\n",
      "\n",
      "    accuracy                           0.46       616\n",
      "   macro avg       0.50      0.46      0.44       616\n",
      "weighted avg       0.50      0.46      0.44       616\n",
      "\n"
     ]
    }
   ],
   "source": [
    "print('Classification Report : ')\n",
    "print(classification_report(y_test_bal, svm_predictions))"
   ]
  },
  {
   "cell_type": "markdown",
   "metadata": {},
   "source": [
    "### KNN Multiclass Classification on Unbalanced Data"
   ]
  },
  {
   "cell_type": "code",
   "execution_count": 34,
   "metadata": {},
   "outputs": [],
   "source": [
    "knn = KNeighborsClassifier(n_neighbors = 7).fit(X_train, y_train) "
   ]
  },
  {
   "cell_type": "code",
   "execution_count": 35,
   "metadata": {},
   "outputs": [
    {
     "name": "stdout",
     "output_type": "stream",
     "text": [
      "Accuracy :  46.429\n"
     ]
    }
   ],
   "source": [
    "# accuracy on X_test \n",
    "accuracy = knn.score(X_test, y_test) \n",
    "print(\"Accuracy : \", (accuracy*100).round(3))"
   ]
  },
  {
   "cell_type": "code",
   "execution_count": 36,
   "metadata": {},
   "outputs": [],
   "source": [
    "# creating a confusion matrix \n",
    "knn_predictions = knn.predict(X_test)  \n",
    "cm = confusion_matrix(y_test, knn_predictions) "
   ]
  },
  {
   "cell_type": "code",
   "execution_count": 37,
   "metadata": {},
   "outputs": [
    {
     "name": "stdout",
     "output_type": "stream",
     "text": [
      "Confusion Matrix :\n",
      "[[78 25 26 38]\n",
      " [37 83 17 17]\n",
      " [37 17 66 42]\n",
      " [46 25 33 85]]\n"
     ]
    }
   ],
   "source": [
    "print('Confusion Matrix :')\n",
    "print(cm)"
   ]
  },
  {
   "cell_type": "code",
   "execution_count": 38,
   "metadata": {},
   "outputs": [
    {
     "name": "stdout",
     "output_type": "stream",
     "text": [
      "Classification Report : \n",
      "              precision    recall  f1-score   support\n",
      "\n",
      "           0       0.39      0.47      0.43       167\n",
      "           1       0.55      0.54      0.55       154\n",
      "           2       0.46      0.41      0.43       162\n",
      "           3       0.47      0.45      0.46       189\n",
      "\n",
      "    accuracy                           0.46       672\n",
      "   macro avg       0.47      0.47      0.47       672\n",
      "weighted avg       0.47      0.46      0.46       672\n",
      "\n"
     ]
    }
   ],
   "source": [
    "print('Classification Report : ')\n",
    "print(classification_report(y_test, knn_predictions))"
   ]
  },
  {
   "cell_type": "markdown",
   "metadata": {},
   "source": [
    "### KNN Multiclass Classification on Balanced Data"
   ]
  },
  {
   "cell_type": "code",
   "execution_count": 39,
   "metadata": {},
   "outputs": [],
   "source": [
    "knn = KNeighborsClassifier(n_neighbors = 7).fit(X_train_bal, y_train_bal) "
   ]
  },
  {
   "cell_type": "code",
   "execution_count": 40,
   "metadata": {},
   "outputs": [
    {
     "name": "stdout",
     "output_type": "stream",
     "text": [
      "Accuracy :  42.857\n"
     ]
    }
   ],
   "source": [
    "accuracy = knn.score(X_test_bal, y_test_bal) \n",
    "print(\"Accuracy : \", (accuracy*100).round(3))"
   ]
  },
  {
   "cell_type": "code",
   "execution_count": 41,
   "metadata": {},
   "outputs": [],
   "source": [
    "knn_predictions = knn.predict(X_test_bal)  \n",
    "cm = confusion_matrix(y_test_bal, knn_predictions) "
   ]
  },
  {
   "cell_type": "code",
   "execution_count": 42,
   "metadata": {},
   "outputs": [
    {
     "name": "stdout",
     "output_type": "stream",
     "text": [
      "Confusion Matrix :\n",
      "[[74 31 20 29]\n",
      " [34 89 17 14]\n",
      " [41 26 50 37]\n",
      " [47 22 34 51]]\n"
     ]
    }
   ],
   "source": [
    "print('Confusion Matrix :')\n",
    "print(cm)"
   ]
  },
  {
   "cell_type": "code",
   "execution_count": 43,
   "metadata": {},
   "outputs": [
    {
     "name": "stdout",
     "output_type": "stream",
     "text": [
      "Classification Report : \n",
      "              precision    recall  f1-score   support\n",
      "\n",
      "           0       0.38      0.48      0.42       154\n",
      "           1       0.53      0.58      0.55       154\n",
      "           2       0.41      0.32      0.36       154\n",
      "           3       0.39      0.33      0.36       154\n",
      "\n",
      "    accuracy                           0.43       616\n",
      "   macro avg       0.43      0.43      0.42       616\n",
      "weighted avg       0.43      0.43      0.42       616\n",
      "\n"
     ]
    }
   ],
   "source": [
    "print('Classification Report : ')\n",
    "print(classification_report(y_test_bal, knn_predictions))"
   ]
  },
  {
   "cell_type": "code",
   "execution_count": null,
   "metadata": {},
   "outputs": [],
   "source": []
  }
 ],
 "metadata": {
  "kernelspec": {
   "display_name": "Python 3",
   "language": "python",
   "name": "python3"
  },
  "language_info": {
   "codemirror_mode": {
    "name": "ipython",
    "version": 3
   },
   "file_extension": ".py",
   "mimetype": "text/x-python",
   "name": "python",
   "nbconvert_exporter": "python",
   "pygments_lexer": "ipython3",
   "version": "3.7.3"
  }
 },
 "nbformat": 4,
 "nbformat_minor": 2
}
