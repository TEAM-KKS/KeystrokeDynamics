{
 "cells": [
  {
   "cell_type": "code",
   "execution_count": 31,
   "metadata": {},
   "outputs": [],
   "source": [
    "import pandas as pd\n",
    "import numpy as np\n",
    "from sklearn import preprocessing\n",
    "from sklearn.model_selection import train_test_split\n",
    "from sklearn.metrics import classification_report \n",
    "from sklearn.metrics import confusion_matrix\n",
    "from sklearn.svm import SVC\n",
    "from sklearn.neighbors import KNeighborsClassifier "
   ]
  },
  {
   "cell_type": "code",
   "execution_count": 3,
   "metadata": {},
   "outputs": [
    {
     "data": {
      "text/html": [
       "<div>\n",
       "<style scoped>\n",
       "    .dataframe tbody tr th:only-of-type {\n",
       "        vertical-align: middle;\n",
       "    }\n",
       "\n",
       "    .dataframe tbody tr th {\n",
       "        vertical-align: top;\n",
       "    }\n",
       "\n",
       "    .dataframe thead th {\n",
       "        text-align: right;\n",
       "    }\n",
       "</style>\n",
       "<table border=\"1\" class=\"dataframe\">\n",
       "  <thead>\n",
       "    <tr style=\"text-align: right;\">\n",
       "      <th></th>\n",
       "      <th>id</th>\n",
       "      <th>box_id</th>\n",
       "      <th>device_type</th>\n",
       "      <th>false_character</th>\n",
       "      <th>hold_for</th>\n",
       "      <th>key_pressed</th>\n",
       "      <th>location</th>\n",
       "      <th>long_pressed_equivalent</th>\n",
       "      <th>name</th>\n",
       "      <th>platform</th>\n",
       "      <th>pressed_after</th>\n",
       "      <th>timestamp</th>\n",
       "      <th>user_id</th>\n",
       "    </tr>\n",
       "  </thead>\n",
       "  <tbody>\n",
       "    <tr>\n",
       "      <th>0</th>\n",
       "      <td>902</td>\n",
       "      <td>#text-area-1</td>\n",
       "      <td>Computer/Laptop</td>\n",
       "      <td>f</td>\n",
       "      <td>754</td>\n",
       "      <td>Shift</td>\n",
       "      <td>16</td>\n",
       "      <td>2</td>\n",
       "      <td>Kedar</td>\n",
       "      <td>MacIntel</td>\n",
       "      <td>0</td>\n",
       "      <td>1584257309690</td>\n",
       "      <td>ef70b84c-be3d-434b-9cbe-55a19ce557a0</td>\n",
       "    </tr>\n",
       "    <tr>\n",
       "      <th>1</th>\n",
       "      <td>903</td>\n",
       "      <td>#text-area-1</td>\n",
       "      <td>Computer/Laptop</td>\n",
       "      <td>f</td>\n",
       "      <td>63</td>\n",
       "      <td>h</td>\n",
       "      <td>72</td>\n",
       "      <td>1</td>\n",
       "      <td>Kedar</td>\n",
       "      <td>MacIntel</td>\n",
       "      <td>457</td>\n",
       "      <td>1584257310901</td>\n",
       "      <td>ef70b84c-be3d-434b-9cbe-55a19ce557a0</td>\n",
       "    </tr>\n",
       "    <tr>\n",
       "      <th>2</th>\n",
       "      <td>904</td>\n",
       "      <td>#text-area-1</td>\n",
       "      <td>Computer/Laptop</td>\n",
       "      <td>f</td>\n",
       "      <td>80</td>\n",
       "      <td>i</td>\n",
       "      <td>73</td>\n",
       "      <td>1</td>\n",
       "      <td>Kedar</td>\n",
       "      <td>MacIntel</td>\n",
       "      <td>105</td>\n",
       "      <td>1584257311070</td>\n",
       "      <td>ef70b84c-be3d-434b-9cbe-55a19ce557a0</td>\n",
       "    </tr>\n",
       "    <tr>\n",
       "      <th>3</th>\n",
       "      <td>905</td>\n",
       "      <td>#text-area-1</td>\n",
       "      <td>Computer/Laptop</td>\n",
       "      <td>f</td>\n",
       "      <td>86</td>\n",
       "      <td>s</td>\n",
       "      <td>83</td>\n",
       "      <td>1</td>\n",
       "      <td>Kedar</td>\n",
       "      <td>MacIntel</td>\n",
       "      <td>19</td>\n",
       "      <td>1584257311169</td>\n",
       "      <td>ef70b84c-be3d-434b-9cbe-55a19ce557a0</td>\n",
       "    </tr>\n",
       "    <tr>\n",
       "      <th>4</th>\n",
       "      <td>906</td>\n",
       "      <td>#text-area-1</td>\n",
       "      <td>Computer/Laptop</td>\n",
       "      <td>f</td>\n",
       "      <td>72</td>\n",
       "      <td></td>\n",
       "      <td>32</td>\n",
       "      <td>1</td>\n",
       "      <td>Kedar</td>\n",
       "      <td>MacIntel</td>\n",
       "      <td>54</td>\n",
       "      <td>1584257311309</td>\n",
       "      <td>ef70b84c-be3d-434b-9cbe-55a19ce557a0</td>\n",
       "    </tr>\n",
       "  </tbody>\n",
       "</table>\n",
       "</div>"
      ],
      "text/plain": [
       "    id        box_id      device_type false_character  hold_for key_pressed  \\\n",
       "0  902  #text-area-1  Computer/Laptop               f       754       Shift   \n",
       "1  903  #text-area-1  Computer/Laptop               f        63           h   \n",
       "2  904  #text-area-1  Computer/Laptop               f        80           i   \n",
       "3  905  #text-area-1  Computer/Laptop               f        86           s   \n",
       "4  906  #text-area-1  Computer/Laptop               f        72               \n",
       "\n",
       "   location  long_pressed_equivalent   name  platform  pressed_after  \\\n",
       "0        16                        2  Kedar  MacIntel              0   \n",
       "1        72                        1  Kedar  MacIntel            457   \n",
       "2        73                        1  Kedar  MacIntel            105   \n",
       "3        83                        1  Kedar  MacIntel             19   \n",
       "4        32                        1  Kedar  MacIntel             54   \n",
       "\n",
       "       timestamp                               user_id  \n",
       "0  1584257309690  ef70b84c-be3d-434b-9cbe-55a19ce557a0  \n",
       "1  1584257310901  ef70b84c-be3d-434b-9cbe-55a19ce557a0  \n",
       "2  1584257311070  ef70b84c-be3d-434b-9cbe-55a19ce557a0  \n",
       "3  1584257311169  ef70b84c-be3d-434b-9cbe-55a19ce557a0  \n",
       "4  1584257311309  ef70b84c-be3d-434b-9cbe-55a19ce557a0  "
      ]
     },
     "execution_count": 3,
     "metadata": {},
     "output_type": "execute_result"
    }
   ],
   "source": [
    "df = pd.read_csv(\"dump2.csv\")\n",
    "df.head(5)"
   ]
  },
  {
   "cell_type": "code",
   "execution_count": 5,
   "metadata": {},
   "outputs": [
    {
     "data": {
      "text/html": [
       "<div>\n",
       "<style scoped>\n",
       "    .dataframe tbody tr th:only-of-type {\n",
       "        vertical-align: middle;\n",
       "    }\n",
       "\n",
       "    .dataframe tbody tr th {\n",
       "        vertical-align: top;\n",
       "    }\n",
       "\n",
       "    .dataframe thead th {\n",
       "        text-align: right;\n",
       "    }\n",
       "</style>\n",
       "<table border=\"1\" class=\"dataframe\">\n",
       "  <thead>\n",
       "    <tr style=\"text-align: right;\">\n",
       "      <th></th>\n",
       "      <th>id</th>\n",
       "      <th>hold_for</th>\n",
       "      <th>location</th>\n",
       "      <th>long_pressed_equivalent</th>\n",
       "      <th>pressed_after</th>\n",
       "      <th>timestamp</th>\n",
       "    </tr>\n",
       "  </thead>\n",
       "  <tbody>\n",
       "    <tr>\n",
       "      <th>count</th>\n",
       "      <td>5066.000000</td>\n",
       "      <td>5066.000000</td>\n",
       "      <td>5066.000000</td>\n",
       "      <td>5066.000000</td>\n",
       "      <td>5066.000000</td>\n",
       "      <td>5.066000e+03</td>\n",
       "    </tr>\n",
       "    <tr>\n",
       "      <th>mean</th>\n",
       "      <td>4504.363798</td>\n",
       "      <td>86.779510</td>\n",
       "      <td>67.716147</td>\n",
       "      <td>1.104816</td>\n",
       "      <td>147.732925</td>\n",
       "      <td>1.584719e+12</td>\n",
       "    </tr>\n",
       "    <tr>\n",
       "      <th>std</th>\n",
       "      <td>2169.199841</td>\n",
       "      <td>50.219924</td>\n",
       "      <td>30.179777</td>\n",
       "      <td>0.330527</td>\n",
       "      <td>177.312726</td>\n",
       "      <td>3.724015e+08</td>\n",
       "    </tr>\n",
       "    <tr>\n",
       "      <th>min</th>\n",
       "      <td>902.000000</td>\n",
       "      <td>2.000000</td>\n",
       "      <td>8.000000</td>\n",
       "      <td>1.000000</td>\n",
       "      <td>0.000000</td>\n",
       "      <td>1.584257e+12</td>\n",
       "    </tr>\n",
       "    <tr>\n",
       "      <th>25%</th>\n",
       "      <td>2205.250000</td>\n",
       "      <td>64.000000</td>\n",
       "      <td>65.000000</td>\n",
       "      <td>1.000000</td>\n",
       "      <td>52.000000</td>\n",
       "      <td>1.584560e+12</td>\n",
       "    </tr>\n",
       "    <tr>\n",
       "      <th>50%</th>\n",
       "      <td>5132.500000</td>\n",
       "      <td>79.000000</td>\n",
       "      <td>72.000000</td>\n",
       "      <td>1.000000</td>\n",
       "      <td>99.000000</td>\n",
       "      <td>1.584662e+12</td>\n",
       "    </tr>\n",
       "    <tr>\n",
       "      <th>75%</th>\n",
       "      <td>6398.750000</td>\n",
       "      <td>98.000000</td>\n",
       "      <td>82.000000</td>\n",
       "      <td>1.000000</td>\n",
       "      <td>170.000000</td>\n",
       "      <td>1.584662e+12</td>\n",
       "    </tr>\n",
       "    <tr>\n",
       "      <th>max</th>\n",
       "      <td>7696.000000</td>\n",
       "      <td>1518.000000</td>\n",
       "      <td>191.000000</td>\n",
       "      <td>8.000000</td>\n",
       "      <td>3199.000000</td>\n",
       "      <td>1.585438e+12</td>\n",
       "    </tr>\n",
       "  </tbody>\n",
       "</table>\n",
       "</div>"
      ],
      "text/plain": [
       "                id     hold_for     location  long_pressed_equivalent  \\\n",
       "count  5066.000000  5066.000000  5066.000000              5066.000000   \n",
       "mean   4504.363798    86.779510    67.716147                 1.104816   \n",
       "std    2169.199841    50.219924    30.179777                 0.330527   \n",
       "min     902.000000     2.000000     8.000000                 1.000000   \n",
       "25%    2205.250000    64.000000    65.000000                 1.000000   \n",
       "50%    5132.500000    79.000000    72.000000                 1.000000   \n",
       "75%    6398.750000    98.000000    82.000000                 1.000000   \n",
       "max    7696.000000  1518.000000   191.000000                 8.000000   \n",
       "\n",
       "       pressed_after     timestamp  \n",
       "count    5066.000000  5.066000e+03  \n",
       "mean      147.732925  1.584719e+12  \n",
       "std       177.312726  3.724015e+08  \n",
       "min         0.000000  1.584257e+12  \n",
       "25%        52.000000  1.584560e+12  \n",
       "50%        99.000000  1.584662e+12  \n",
       "75%       170.000000  1.584662e+12  \n",
       "max      3199.000000  1.585438e+12  "
      ]
     },
     "execution_count": 5,
     "metadata": {},
     "output_type": "execute_result"
    }
   ],
   "source": [
    "df.describe()"
   ]
  },
  {
   "cell_type": "code",
   "execution_count": 7,
   "metadata": {},
   "outputs": [
    {
     "data": {
      "text/plain": [
       "Kedar             2542\n",
       "Vikas Ramaneti     945\n",
       "Sope Ogundipe      810\n",
       "Kunal Sonar        769\n",
       "Name: name, dtype: int64"
      ]
     },
     "execution_count": 7,
     "metadata": {},
     "output_type": "execute_result"
    }
   ],
   "source": [
    "df['name'].value_counts()"
   ]
  },
  {
   "cell_type": "code",
   "execution_count": 9,
   "metadata": {},
   "outputs": [
    {
     "data": {
      "text/html": [
       "<div>\n",
       "<style scoped>\n",
       "    .dataframe tbody tr th:only-of-type {\n",
       "        vertical-align: middle;\n",
       "    }\n",
       "\n",
       "    .dataframe tbody tr th {\n",
       "        vertical-align: top;\n",
       "    }\n",
       "\n",
       "    .dataframe thead th {\n",
       "        text-align: right;\n",
       "    }\n",
       "</style>\n",
       "<table border=\"1\" class=\"dataframe\">\n",
       "  <thead>\n",
       "    <tr style=\"text-align: right;\">\n",
       "      <th></th>\n",
       "      <th>id</th>\n",
       "      <th>box_id</th>\n",
       "      <th>device_type</th>\n",
       "      <th>false_character</th>\n",
       "      <th>hold_for</th>\n",
       "      <th>key_pressed</th>\n",
       "      <th>location</th>\n",
       "      <th>long_pressed_equivalent</th>\n",
       "      <th>name</th>\n",
       "      <th>platform</th>\n",
       "      <th>pressed_after</th>\n",
       "      <th>timestamp</th>\n",
       "      <th>user_id</th>\n",
       "    </tr>\n",
       "  </thead>\n",
       "  <tbody>\n",
       "    <tr>\n",
       "      <th>0</th>\n",
       "      <td>902</td>\n",
       "      <td>0</td>\n",
       "      <td>Computer/Laptop</td>\n",
       "      <td>0</td>\n",
       "      <td>754</td>\n",
       "      <td>Shift</td>\n",
       "      <td>16</td>\n",
       "      <td>2</td>\n",
       "      <td>0</td>\n",
       "      <td>MacIntel</td>\n",
       "      <td>0</td>\n",
       "      <td>1584257309690</td>\n",
       "      <td>ef70b84c-be3d-434b-9cbe-55a19ce557a0</td>\n",
       "    </tr>\n",
       "    <tr>\n",
       "      <th>1</th>\n",
       "      <td>903</td>\n",
       "      <td>0</td>\n",
       "      <td>Computer/Laptop</td>\n",
       "      <td>0</td>\n",
       "      <td>63</td>\n",
       "      <td>h</td>\n",
       "      <td>72</td>\n",
       "      <td>1</td>\n",
       "      <td>0</td>\n",
       "      <td>MacIntel</td>\n",
       "      <td>457</td>\n",
       "      <td>1584257310901</td>\n",
       "      <td>ef70b84c-be3d-434b-9cbe-55a19ce557a0</td>\n",
       "    </tr>\n",
       "    <tr>\n",
       "      <th>2</th>\n",
       "      <td>904</td>\n",
       "      <td>0</td>\n",
       "      <td>Computer/Laptop</td>\n",
       "      <td>0</td>\n",
       "      <td>80</td>\n",
       "      <td>i</td>\n",
       "      <td>73</td>\n",
       "      <td>1</td>\n",
       "      <td>0</td>\n",
       "      <td>MacIntel</td>\n",
       "      <td>105</td>\n",
       "      <td>1584257311070</td>\n",
       "      <td>ef70b84c-be3d-434b-9cbe-55a19ce557a0</td>\n",
       "    </tr>\n",
       "    <tr>\n",
       "      <th>3</th>\n",
       "      <td>905</td>\n",
       "      <td>0</td>\n",
       "      <td>Computer/Laptop</td>\n",
       "      <td>0</td>\n",
       "      <td>86</td>\n",
       "      <td>s</td>\n",
       "      <td>83</td>\n",
       "      <td>1</td>\n",
       "      <td>0</td>\n",
       "      <td>MacIntel</td>\n",
       "      <td>19</td>\n",
       "      <td>1584257311169</td>\n",
       "      <td>ef70b84c-be3d-434b-9cbe-55a19ce557a0</td>\n",
       "    </tr>\n",
       "    <tr>\n",
       "      <th>4</th>\n",
       "      <td>906</td>\n",
       "      <td>0</td>\n",
       "      <td>Computer/Laptop</td>\n",
       "      <td>0</td>\n",
       "      <td>72</td>\n",
       "      <td></td>\n",
       "      <td>32</td>\n",
       "      <td>1</td>\n",
       "      <td>0</td>\n",
       "      <td>MacIntel</td>\n",
       "      <td>54</td>\n",
       "      <td>1584257311309</td>\n",
       "      <td>ef70b84c-be3d-434b-9cbe-55a19ce557a0</td>\n",
       "    </tr>\n",
       "  </tbody>\n",
       "</table>\n",
       "</div>"
      ],
      "text/plain": [
       "    id  box_id      device_type  false_character  hold_for key_pressed  \\\n",
       "0  902       0  Computer/Laptop                0       754       Shift   \n",
       "1  903       0  Computer/Laptop                0        63           h   \n",
       "2  904       0  Computer/Laptop                0        80           i   \n",
       "3  905       0  Computer/Laptop                0        86           s   \n",
       "4  906       0  Computer/Laptop                0        72               \n",
       "\n",
       "   location  long_pressed_equivalent  name  platform  pressed_after  \\\n",
       "0        16                        2     0  MacIntel              0   \n",
       "1        72                        1     0  MacIntel            457   \n",
       "2        73                        1     0  MacIntel            105   \n",
       "3        83                        1     0  MacIntel             19   \n",
       "4        32                        1     0  MacIntel             54   \n",
       "\n",
       "       timestamp                               user_id  \n",
       "0  1584257309690  ef70b84c-be3d-434b-9cbe-55a19ce557a0  \n",
       "1  1584257310901  ef70b84c-be3d-434b-9cbe-55a19ce557a0  \n",
       "2  1584257311070  ef70b84c-be3d-434b-9cbe-55a19ce557a0  \n",
       "3  1584257311169  ef70b84c-be3d-434b-9cbe-55a19ce557a0  \n",
       "4  1584257311309  ef70b84c-be3d-434b-9cbe-55a19ce557a0  "
      ]
     },
     "execution_count": 9,
     "metadata": {},
     "output_type": "execute_result"
    }
   ],
   "source": [
    "labelEncoder = preprocessing.LabelEncoder()\n",
    "df['false_character'] = labelEncoder.fit_transform(df['false_character'])\n",
    "false_character_map = {labelEncoder.classes_[i] : i for i in range(len(labelEncoder.classes_))}\n",
    "df['name'] = labelEncoder.fit_transform(df['name'])\n",
    "name_map = {labelEncoder.classes_[i] : i for i in range(len(labelEncoder.classes_))}\n",
    "df['box_id'] = labelEncoder.fit_transform(df['box_id'])\n",
    "box_map = {labelEncoder.classes_[i] : i for i in range(len(labelEncoder.classes_))}\n",
    "df.head(5)"
   ]
  },
  {
   "cell_type": "code",
   "execution_count": 10,
   "metadata": {},
   "outputs": [
    {
     "data": {
      "text/plain": [
       "({'f': 0, 't': 1},\n",
       " {'Kedar': 0, 'Kunal Sonar': 1, 'Sope Ogundipe': 2, 'Vikas Ramaneti': 3},\n",
       " {'#text-area-1': 0,\n",
       "  '#text-area-2': 1,\n",
       "  '#text-area-3': 2,\n",
       "  '#text-area-test': 3})"
      ]
     },
     "execution_count": 10,
     "metadata": {},
     "output_type": "execute_result"
    }
   ],
   "source": [
    "false_character_map, name_map, box_map"
   ]
  },
  {
   "cell_type": "code",
   "execution_count": 11,
   "metadata": {},
   "outputs": [
    {
     "name": "stderr",
     "output_type": "stream",
     "text": [
      "C:\\Users\\sopeo\\Anaconda3\\lib\\site-packages\\ipykernel_launcher.py:2: SettingWithCopyWarning: \n",
      "A value is trying to be set on a copy of a slice from a DataFrame.\n",
      "Try using .loc[row_indexer,col_indexer] = value instead\n",
      "\n",
      "See the caveats in the documentation: http://pandas.pydata.org/pandas-docs/stable/indexing.html#indexing-view-versus-copy\n",
      "  \n"
     ]
    },
    {
     "data": {
      "text/html": [
       "<div>\n",
       "<style scoped>\n",
       "    .dataframe tbody tr th:only-of-type {\n",
       "        vertical-align: middle;\n",
       "    }\n",
       "\n",
       "    .dataframe tbody tr th {\n",
       "        vertical-align: top;\n",
       "    }\n",
       "\n",
       "    .dataframe thead th {\n",
       "        text-align: right;\n",
       "    }\n",
       "</style>\n",
       "<table border=\"1\" class=\"dataframe\">\n",
       "  <thead>\n",
       "    <tr style=\"text-align: right;\">\n",
       "      <th></th>\n",
       "      <th>name</th>\n",
       "      <th>false_character</th>\n",
       "      <th>hold_for</th>\n",
       "      <th>location</th>\n",
       "      <th>long_pressed_equivalent</th>\n",
       "      <th>pressed_after</th>\n",
       "    </tr>\n",
       "  </thead>\n",
       "  <tbody>\n",
       "    <tr>\n",
       "      <th>0</th>\n",
       "      <td>0</td>\n",
       "      <td>0</td>\n",
       "      <td>754</td>\n",
       "      <td>16</td>\n",
       "      <td>2</td>\n",
       "      <td>0</td>\n",
       "    </tr>\n",
       "    <tr>\n",
       "      <th>1</th>\n",
       "      <td>0</td>\n",
       "      <td>0</td>\n",
       "      <td>63</td>\n",
       "      <td>72</td>\n",
       "      <td>1</td>\n",
       "      <td>457</td>\n",
       "    </tr>\n",
       "    <tr>\n",
       "      <th>2</th>\n",
       "      <td>0</td>\n",
       "      <td>0</td>\n",
       "      <td>80</td>\n",
       "      <td>73</td>\n",
       "      <td>1</td>\n",
       "      <td>105</td>\n",
       "    </tr>\n",
       "    <tr>\n",
       "      <th>3</th>\n",
       "      <td>0</td>\n",
       "      <td>0</td>\n",
       "      <td>86</td>\n",
       "      <td>83</td>\n",
       "      <td>1</td>\n",
       "      <td>19</td>\n",
       "    </tr>\n",
       "    <tr>\n",
       "      <th>4</th>\n",
       "      <td>0</td>\n",
       "      <td>0</td>\n",
       "      <td>72</td>\n",
       "      <td>32</td>\n",
       "      <td>1</td>\n",
       "      <td>54</td>\n",
       "    </tr>\n",
       "  </tbody>\n",
       "</table>\n",
       "</div>"
      ],
      "text/plain": [
       "   name  false_character  hold_for  location  long_pressed_equivalent  \\\n",
       "0     0                0       754        16                        2   \n",
       "1     0                0        63        72                        1   \n",
       "2     0                0        80        73                        1   \n",
       "3     0                0        86        83                        1   \n",
       "4     0                0        72        32                        1   \n",
       "\n",
       "   pressed_after  \n",
       "0              0  \n",
       "1            457  \n",
       "2            105  \n",
       "3             19  \n",
       "4             54  "
      ]
     },
     "execution_count": 11,
     "metadata": {},
     "output_type": "execute_result"
    }
   ],
   "source": [
    "df_reduced = df[['name','false_character','hold_for','location','long_pressed_equivalent','pressed_after']]\n",
    "df_reduced['name'] = np.where(df_reduced['name'] != 0, 1, 0)\n",
    "df_reduced.head(5)"
   ]
  },
  {
   "cell_type": "code",
   "execution_count": 13,
   "metadata": {},
   "outputs": [
    {
     "data": {
      "text/plain": [
       "0    2542\n",
       "1    2524\n",
       "Name: name, dtype: int64"
      ]
     },
     "execution_count": 13,
     "metadata": {},
     "output_type": "execute_result"
    }
   ],
   "source": [
    "df_reduced['name'].value_counts()"
   ]
  },
  {
   "cell_type": "code",
   "execution_count": 15,
   "metadata": {},
   "outputs": [],
   "source": [
    "X_train, X_test, y_train, y_test = train_test_split(df_reduced.iloc[:,1:], df_reduced.iloc[:,0], test_size=0.2, stratify=df_reduced.iloc[:,0], random_state=109)"
   ]
  },
  {
   "cell_type": "code",
   "execution_count": 16,
   "metadata": {},
   "outputs": [
    {
     "data": {
      "text/plain": [
       "1    2524\n",
       "0    2524\n",
       "Name: name, dtype: int64"
      ]
     },
     "execution_count": 16,
     "metadata": {},
     "output_type": "execute_result"
    }
   ],
   "source": [
    "grouped = df_reduced.groupby('name')\n",
    "balance_df = grouped.apply(lambda x : x.sample(grouped.size().min())).reset_index(drop=True)\n",
    "balance_df['name'].value_counts()"
   ]
  },
  {
   "cell_type": "code",
   "execution_count": 17,
   "metadata": {},
   "outputs": [
    {
     "data": {
      "text/html": [
       "<div>\n",
       "<style scoped>\n",
       "    .dataframe tbody tr th:only-of-type {\n",
       "        vertical-align: middle;\n",
       "    }\n",
       "\n",
       "    .dataframe tbody tr th {\n",
       "        vertical-align: top;\n",
       "    }\n",
       "\n",
       "    .dataframe thead th {\n",
       "        text-align: right;\n",
       "    }\n",
       "</style>\n",
       "<table border=\"1\" class=\"dataframe\">\n",
       "  <thead>\n",
       "    <tr style=\"text-align: right;\">\n",
       "      <th></th>\n",
       "      <th></th>\n",
       "      <th></th>\n",
       "      <th>hold_for</th>\n",
       "    </tr>\n",
       "    <tr>\n",
       "      <th>name</th>\n",
       "      <th>false_character</th>\n",
       "      <th>long_pressed_equivalent</th>\n",
       "      <th></th>\n",
       "    </tr>\n",
       "  </thead>\n",
       "  <tbody>\n",
       "    <tr>\n",
       "      <th rowspan=\"5\" valign=\"top\">0</th>\n",
       "      <th rowspan=\"3\" valign=\"top\">0</th>\n",
       "      <th>1</th>\n",
       "      <td>2127</td>\n",
       "    </tr>\n",
       "    <tr>\n",
       "      <th>2</th>\n",
       "      <td>244</td>\n",
       "    </tr>\n",
       "    <tr>\n",
       "      <th>3</th>\n",
       "      <td>1</td>\n",
       "    </tr>\n",
       "    <tr>\n",
       "      <th rowspan=\"2\" valign=\"top\">1</th>\n",
       "      <th>1</th>\n",
       "      <td>141</td>\n",
       "    </tr>\n",
       "    <tr>\n",
       "      <th>2</th>\n",
       "      <td>11</td>\n",
       "    </tr>\n",
       "    <tr>\n",
       "      <th rowspan=\"8\" valign=\"top\">1</th>\n",
       "      <th rowspan=\"4\" valign=\"top\">0</th>\n",
       "      <th>1</th>\n",
       "      <td>2041</td>\n",
       "    </tr>\n",
       "    <tr>\n",
       "      <th>2</th>\n",
       "      <td>247</td>\n",
       "    </tr>\n",
       "    <tr>\n",
       "      <th>3</th>\n",
       "      <td>1</td>\n",
       "    </tr>\n",
       "    <tr>\n",
       "      <th>8</th>\n",
       "      <td>1</td>\n",
       "    </tr>\n",
       "    <tr>\n",
       "      <th rowspan=\"4\" valign=\"top\">1</th>\n",
       "      <th>1</th>\n",
       "      <td>224</td>\n",
       "    </tr>\n",
       "    <tr>\n",
       "      <th>2</th>\n",
       "      <td>8</td>\n",
       "    </tr>\n",
       "    <tr>\n",
       "      <th>5</th>\n",
       "      <td>1</td>\n",
       "    </tr>\n",
       "    <tr>\n",
       "      <th>6</th>\n",
       "      <td>1</td>\n",
       "    </tr>\n",
       "  </tbody>\n",
       "</table>\n",
       "</div>"
      ],
      "text/plain": [
       "                                              hold_for\n",
       "name false_character long_pressed_equivalent          \n",
       "0    0               1                            2127\n",
       "                     2                             244\n",
       "                     3                               1\n",
       "     1               1                             141\n",
       "                     2                              11\n",
       "1    0               1                            2041\n",
       "                     2                             247\n",
       "                     3                               1\n",
       "                     8                               1\n",
       "     1               1                             224\n",
       "                     2                               8\n",
       "                     5                               1\n",
       "                     6                               1"
      ]
     },
     "execution_count": 17,
     "metadata": {},
     "output_type": "execute_result"
    }
   ],
   "source": [
    "balance_df[['name','false_character','long_pressed_equivalent','hold_for']].groupby(['name','false_character','long_pressed_equivalent']).count()"
   ]
  },
  {
   "cell_type": "code",
   "execution_count": 18,
   "metadata": {},
   "outputs": [],
   "source": [
    "X_train_bal, X_test_bal, y_train_bal, y_test_bal = train_test_split(balance_df.iloc[:,1:], balance_df.iloc[:,0], test_size=0.2, stratify=balance_df.iloc[:,0] ,random_state=10)"
   ]
  },
  {
   "cell_type": "markdown",
   "metadata": {},
   "source": [
    "### SVM Binary Classification on Unbalanced Data"
   ]
  },
  {
   "cell_type": "code",
   "execution_count": null,
   "metadata": {},
   "outputs": [],
   "source": [
    "svm_model_linear = SVC(kernel = 'linear', C = 1).fit(X_train, y_train) \n",
    "svm_predictions = svm_model_linear.predict(X_test) "
   ]
  },
  {
   "cell_type": "code",
   "execution_count": 46,
   "metadata": {},
   "outputs": [
    {
     "name": "stdout",
     "output_type": "stream",
     "text": [
      "Accuracy :  54.536\n"
     ]
    }
   ],
   "source": [
    "# model accuracy for X_test   \n",
    "accuracy = svm_model_linear.score(X_test, y_test) \n",
    "print(\"Accuracy : \", (accuracy*100).round(3))"
   ]
  },
  {
   "cell_type": "code",
   "execution_count": 47,
   "metadata": {},
   "outputs": [
    {
     "name": "stdout",
     "output_type": "stream",
     "text": [
      "Confusion Matrix :\n",
      "[[429  80]\n",
      " [381 124]]\n"
     ]
    }
   ],
   "source": [
    "# creating a confusion matrix \n",
    "cm = confusion_matrix(y_test, svm_predictions) \n",
    "print('Confusion Matrix :')\n",
    "print(cm)"
   ]
  },
  {
   "cell_type": "code",
   "execution_count": 48,
   "metadata": {},
   "outputs": [
    {
     "name": "stdout",
     "output_type": "stream",
     "text": [
      "Classification Report : \n",
      "              precision    recall  f1-score   support\n",
      "\n",
      "           0       0.53      0.84      0.65       509\n",
      "           1       0.61      0.25      0.35       505\n",
      "\n",
      "    accuracy                           0.55      1014\n",
      "   macro avg       0.57      0.54      0.50      1014\n",
      "weighted avg       0.57      0.55      0.50      1014\n",
      "\n"
     ]
    }
   ],
   "source": [
    "print('Classification Report : ')\n",
    "print(classification_report(y_test, svm_predictions))"
   ]
  },
  {
   "cell_type": "markdown",
   "metadata": {},
   "source": [
    "### SVM Binary Classification on Balanced Data"
   ]
  },
  {
   "cell_type": "code",
   "execution_count": 49,
   "metadata": {},
   "outputs": [],
   "source": [
    "svm_model_linear = SVC(kernel = 'linear', C = 1).fit(X_train_bal, y_train_bal) \n",
    "svm_predictions = svm_model_linear.predict(X_test_bal) "
   ]
  },
  {
   "cell_type": "code",
   "execution_count": 52,
   "metadata": {},
   "outputs": [
    {
     "name": "stdout",
     "output_type": "stream",
     "text": [
      "Accuracy :  52.871\n"
     ]
    }
   ],
   "source": [
    "# model accuracy for X_test   \n",
    "accuracy = svm_model_linear.score(X_test_bal, y_test_bal) \n",
    "print(\"Accuracy : \", (accuracy*100).round(3))"
   ]
  },
  {
   "cell_type": "code",
   "execution_count": 53,
   "metadata": {},
   "outputs": [
    {
     "name": "stdout",
     "output_type": "stream",
     "text": [
      "Confusion Matrix :\n",
      "[[433  72]\n",
      " [404 101]]\n"
     ]
    }
   ],
   "source": [
    "# creating a confusion matrix \n",
    "cm = confusion_matrix(y_test_bal, svm_predictions) \n",
    "print('Confusion Matrix :')\n",
    "print(cm)"
   ]
  },
  {
   "cell_type": "code",
   "execution_count": 54,
   "metadata": {},
   "outputs": [
    {
     "name": "stdout",
     "output_type": "stream",
     "text": [
      "Classification Report : \n",
      "              precision    recall  f1-score   support\n",
      "\n",
      "           0       0.52      0.86      0.65       505\n",
      "           1       0.58      0.20      0.30       505\n",
      "\n",
      "    accuracy                           0.53      1010\n",
      "   macro avg       0.55      0.53      0.47      1010\n",
      "weighted avg       0.55      0.53      0.47      1010\n",
      "\n"
     ]
    }
   ],
   "source": [
    "print('Classification Report : ')\n",
    "print(classification_report(y_test_bal, svm_predictions))"
   ]
  },
  {
   "cell_type": "markdown",
   "metadata": {},
   "source": [
    "### KNN Binary Classification on Unbalanced Data"
   ]
  },
  {
   "cell_type": "code",
   "execution_count": 19,
   "metadata": {},
   "outputs": [],
   "source": [
    "knn = KNeighborsClassifier(n_neighbors = 7).fit(X_train, y_train) "
   ]
  },
  {
   "cell_type": "code",
   "execution_count": 22,
   "metadata": {},
   "outputs": [
    {
     "name": "stdout",
     "output_type": "stream",
     "text": [
      "Accuracy :  65.976\n"
     ]
    }
   ],
   "source": [
    "# accuracy on X_test \n",
    "accuracy = knn.score(X_test, y_test) \n",
    "print(\"Accuracy : \", (accuracy*100).round(3))"
   ]
  },
  {
   "cell_type": "code",
   "execution_count": 24,
   "metadata": {},
   "outputs": [],
   "source": [
    "# creating a confusion matrix \n",
    "knn_predictions = knn.predict(X_test)  \n",
    "cm = confusion_matrix(y_test, knn_predictions) "
   ]
  },
  {
   "cell_type": "code",
   "execution_count": 27,
   "metadata": {},
   "outputs": [
    {
     "name": "stdout",
     "output_type": "stream",
     "text": [
      "Confusion Matrix :\n",
      "[[332 177]\n",
      " [168 337]]\n"
     ]
    }
   ],
   "source": [
    "print('Confusion Matrix :')\n",
    "print(cm)"
   ]
  },
  {
   "cell_type": "code",
   "execution_count": 35,
   "metadata": {},
   "outputs": [
    {
     "name": "stdout",
     "output_type": "stream",
     "text": [
      "Classification Report : \n",
      "              precision    recall  f1-score   support\n",
      "\n",
      "           0       0.66      0.65      0.66       509\n",
      "           1       0.66      0.67      0.66       505\n",
      "\n",
      "    accuracy                           0.66      1014\n",
      "   macro avg       0.66      0.66      0.66      1014\n",
      "weighted avg       0.66      0.66      0.66      1014\n",
      "\n"
     ]
    }
   ],
   "source": [
    "print('Classification Report : ')\n",
    "print(classification_report(y_test, knn_predictions))"
   ]
  },
  {
   "cell_type": "markdown",
   "metadata": {},
   "source": [
    "## KNN Binary Classification on Balanced Data"
   ]
  },
  {
   "cell_type": "code",
   "execution_count": 36,
   "metadata": {},
   "outputs": [],
   "source": [
    "knn = KNeighborsClassifier(n_neighbors = 7).fit(X_train_bal, y_train_bal) "
   ]
  },
  {
   "cell_type": "code",
   "execution_count": 37,
   "metadata": {},
   "outputs": [
    {
     "name": "stdout",
     "output_type": "stream",
     "text": [
      "Accuracy :  65.644\n"
     ]
    }
   ],
   "source": [
    "# accuracy on X_test_balanced \n",
    "accuracy = knn.score(X_test_bal, y_test_bal) \n",
    "print(\"Accuracy : \", (accuracy*100).round(3))"
   ]
  },
  {
   "cell_type": "code",
   "execution_count": 39,
   "metadata": {},
   "outputs": [],
   "source": [
    "# creating a confusion matrix \n",
    "knn_predictions = knn.predict(X_test_bal)  \n",
    "cm = confusion_matrix(y_test_bal, knn_predictions) "
   ]
  },
  {
   "cell_type": "code",
   "execution_count": 40,
   "metadata": {},
   "outputs": [
    {
     "name": "stdout",
     "output_type": "stream",
     "text": [
      "Confusion Matrix :\n",
      "[[354 151]\n",
      " [196 309]]\n"
     ]
    }
   ],
   "source": [
    "print('Confusion Matrix :')\n",
    "print(cm)"
   ]
  },
  {
   "cell_type": "code",
   "execution_count": 41,
   "metadata": {},
   "outputs": [
    {
     "name": "stdout",
     "output_type": "stream",
     "text": [
      "Classification Report : \n",
      "              precision    recall  f1-score   support\n",
      "\n",
      "           0       0.64      0.70      0.67       505\n",
      "           1       0.67      0.61      0.64       505\n",
      "\n",
      "    accuracy                           0.66      1010\n",
      "   macro avg       0.66      0.66      0.66      1010\n",
      "weighted avg       0.66      0.66      0.66      1010\n",
      "\n"
     ]
    }
   ],
   "source": [
    "print('Classification Report : ')\n",
    "print(classification_report(y_test_bal, knn_predictions))"
   ]
  },
  {
   "cell_type": "code",
   "execution_count": null,
   "metadata": {},
   "outputs": [],
   "source": []
  }
 ],
 "metadata": {
  "kernelspec": {
   "display_name": "Python 3",
   "language": "python",
   "name": "python3"
  },
  "language_info": {
   "codemirror_mode": {
    "name": "ipython",
    "version": 3
   },
   "file_extension": ".py",
   "mimetype": "text/x-python",
   "name": "python",
   "nbconvert_exporter": "python",
   "pygments_lexer": "ipython3",
   "version": "3.7.3"
  }
 },
 "nbformat": 4,
 "nbformat_minor": 2
}
