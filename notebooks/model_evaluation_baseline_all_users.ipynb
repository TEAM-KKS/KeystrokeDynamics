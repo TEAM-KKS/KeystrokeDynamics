{
 "cells": [
  {
   "cell_type": "code",
   "execution_count": 5,
   "metadata": {},
   "outputs": [],
   "source": [
    "%run utils.ipynb \n",
    "%run models.ipynb\n",
    "\n",
    "features_final = ['name','device_type','box_id','false_character','hold_for','key_pressed','long_pressed_equivalent','platform','pressed_after']\n"
   ]
  },
  {
   "cell_type": "code",
   "execution_count": 7,
   "metadata": {},
   "outputs": [
    {
     "data": {
      "text/plain": [
       "(14532, 9)"
      ]
     },
     "execution_count": 7,
     "metadata": {},
     "output_type": "execute_result"
    }
   ],
   "source": [
    "df = pd.read_csv('../data/clean_union_04_28_20_20_00.csv')\n",
    "df = df[features_final]\n",
    "df.shape"
   ]
  },
  {
   "cell_type": "code",
   "execution_count": 8,
   "metadata": {},
   "outputs": [
    {
     "data": {
      "text/html": [
       "<div>\n",
       "<style scoped>\n",
       "    .dataframe tbody tr th:only-of-type {\n",
       "        vertical-align: middle;\n",
       "    }\n",
       "\n",
       "    .dataframe tbody tr th {\n",
       "        vertical-align: top;\n",
       "    }\n",
       "\n",
       "    .dataframe thead th {\n",
       "        text-align: right;\n",
       "    }\n",
       "</style>\n",
       "<table border=\"1\" class=\"dataframe\">\n",
       "  <thead>\n",
       "    <tr style=\"text-align: right;\">\n",
       "      <th></th>\n",
       "      <th>name</th>\n",
       "      <th>device_type</th>\n",
       "      <th>box_id</th>\n",
       "      <th>false_character</th>\n",
       "      <th>hold_for</th>\n",
       "      <th>key_pressed</th>\n",
       "      <th>long_pressed_equivalent</th>\n",
       "      <th>platform</th>\n",
       "      <th>pressed_after</th>\n",
       "    </tr>\n",
       "  </thead>\n",
       "  <tbody>\n",
       "    <tr>\n",
       "      <th>9038</th>\n",
       "      <td>Kedar</td>\n",
       "      <td>Computer/Laptop</td>\n",
       "      <td>#text-area-1</td>\n",
       "      <td>f</td>\n",
       "      <td>112</td>\n",
       "      <td>.</td>\n",
       "      <td>1</td>\n",
       "      <td>MacIntel</td>\n",
       "      <td>716</td>\n",
       "    </tr>\n",
       "    <tr>\n",
       "      <th>13904</th>\n",
       "      <td>Dharti</td>\n",
       "      <td>Computer/Laptop</td>\n",
       "      <td>#text-area-test</td>\n",
       "      <td>f</td>\n",
       "      <td>83</td>\n",
       "      <td>g</td>\n",
       "      <td>1</td>\n",
       "      <td>MacIntel</td>\n",
       "      <td>391</td>\n",
       "    </tr>\n",
       "    <tr>\n",
       "      <th>467</th>\n",
       "      <td>Varun Sapre</td>\n",
       "      <td>Computer/Laptop</td>\n",
       "      <td>#text-area-3</td>\n",
       "      <td>t</td>\n",
       "      <td>79</td>\n",
       "      <td>y</td>\n",
       "      <td>1</td>\n",
       "      <td>Win32</td>\n",
       "      <td>0</td>\n",
       "    </tr>\n",
       "    <tr>\n",
       "      <th>2179</th>\n",
       "      <td>Goddess</td>\n",
       "      <td>Computer/Laptop</td>\n",
       "      <td>#text-area-1</td>\n",
       "      <td>f</td>\n",
       "      <td>150</td>\n",
       "      <td>a</td>\n",
       "      <td>1</td>\n",
       "      <td>Win32</td>\n",
       "      <td>172</td>\n",
       "    </tr>\n",
       "    <tr>\n",
       "      <th>14386</th>\n",
       "      <td>Tarun</td>\n",
       "      <td>Computer/Laptop</td>\n",
       "      <td>#text-area-3</td>\n",
       "      <td>t</td>\n",
       "      <td>126</td>\n",
       "      <td>n</td>\n",
       "      <td>1</td>\n",
       "      <td>Win32</td>\n",
       "      <td>187</td>\n",
       "    </tr>\n",
       "  </tbody>\n",
       "</table>\n",
       "</div>"
      ],
      "text/plain": [
       "              name      device_type           box_id false_character  \\\n",
       "9038         Kedar  Computer/Laptop     #text-area-1               f   \n",
       "13904       Dharti  Computer/Laptop  #text-area-test               f   \n",
       "467    Varun Sapre  Computer/Laptop     #text-area-3               t   \n",
       "2179       Goddess  Computer/Laptop     #text-area-1               f   \n",
       "14386       Tarun   Computer/Laptop     #text-area-3               t   \n",
       "\n",
       "       hold_for key_pressed  long_pressed_equivalent  platform  pressed_after  \n",
       "9038        112           .                        1  MacIntel            716  \n",
       "13904        83           g                        1  MacIntel            391  \n",
       "467          79           y                        1     Win32              0  \n",
       "2179        150           a                        1     Win32            172  \n",
       "14386       126           n                        1     Win32            187  "
      ]
     },
     "execution_count": 8,
     "metadata": {},
     "output_type": "execute_result"
    }
   ],
   "source": [
    "df.sample(5)"
   ]
  },
  {
   "cell_type": "code",
   "execution_count": 9,
   "metadata": {},
   "outputs": [
    {
     "name": "stdout",
     "output_type": "stream",
     "text": [
      "** Non-numeric columns encoded\n",
      "** Unbalanced stratified per class train_test split\n",
      "(11625, 8) (2907, 8) (11625,) (2907,)\n",
      "** Non-numeric columns encoded\n",
      "** Balanced stratified per class train_test split\n",
      "(7716, 8) (1929, 8) (7716,) (1929,)\n"
     ]
    }
   ],
   "source": [
    "models = Models(df.copy(), 0.2, False)\n",
    "models_b = Models(df.copy(), 0.2, True)"
   ]
  },
  {
   "cell_type": "code",
   "execution_count": 10,
   "metadata": {},
   "outputs": [
    {
     "data": {
      "text/html": [
       "<div>\n",
       "<style scoped>\n",
       "    .dataframe tbody tr th:only-of-type {\n",
       "        vertical-align: middle;\n",
       "    }\n",
       "\n",
       "    .dataframe tbody tr th {\n",
       "        vertical-align: top;\n",
       "    }\n",
       "\n",
       "    .dataframe thead th {\n",
       "        text-align: right;\n",
       "    }\n",
       "</style>\n",
       "<table border=\"1\" class=\"dataframe\">\n",
       "  <thead>\n",
       "    <tr style=\"text-align: right;\">\n",
       "      <th></th>\n",
       "      <th>total</th>\n",
       "      <th>train</th>\n",
       "      <th>test</th>\n",
       "      <th>train_perc</th>\n",
       "      <th>test_perc</th>\n",
       "    </tr>\n",
       "  </thead>\n",
       "  <tbody>\n",
       "    <tr>\n",
       "      <th>0</th>\n",
       "      <td>725</td>\n",
       "      <td>580</td>\n",
       "      <td>145</td>\n",
       "      <td>0.800000</td>\n",
       "      <td>0.200000</td>\n",
       "    </tr>\n",
       "    <tr>\n",
       "      <th>1</th>\n",
       "      <td>1024</td>\n",
       "      <td>819</td>\n",
       "      <td>205</td>\n",
       "      <td>0.799805</td>\n",
       "      <td>0.200195</td>\n",
       "    </tr>\n",
       "    <tr>\n",
       "      <th>2</th>\n",
       "      <td>657</td>\n",
       "      <td>526</td>\n",
       "      <td>131</td>\n",
       "      <td>0.800609</td>\n",
       "      <td>0.199391</td>\n",
       "    </tr>\n",
       "    <tr>\n",
       "      <th>3</th>\n",
       "      <td>1380</td>\n",
       "      <td>1104</td>\n",
       "      <td>276</td>\n",
       "      <td>0.800000</td>\n",
       "      <td>0.200000</td>\n",
       "    </tr>\n",
       "    <tr>\n",
       "      <th>4</th>\n",
       "      <td>855</td>\n",
       "      <td>684</td>\n",
       "      <td>171</td>\n",
       "      <td>0.800000</td>\n",
       "      <td>0.200000</td>\n",
       "    </tr>\n",
       "    <tr>\n",
       "      <th>5</th>\n",
       "      <td>735</td>\n",
       "      <td>588</td>\n",
       "      <td>147</td>\n",
       "      <td>0.800000</td>\n",
       "      <td>0.200000</td>\n",
       "    </tr>\n",
       "    <tr>\n",
       "      <th>6</th>\n",
       "      <td>775</td>\n",
       "      <td>620</td>\n",
       "      <td>155</td>\n",
       "      <td>0.800000</td>\n",
       "      <td>0.200000</td>\n",
       "    </tr>\n",
       "    <tr>\n",
       "      <th>7</th>\n",
       "      <td>778</td>\n",
       "      <td>622</td>\n",
       "      <td>156</td>\n",
       "      <td>0.799486</td>\n",
       "      <td>0.200514</td>\n",
       "    </tr>\n",
       "    <tr>\n",
       "      <th>8</th>\n",
       "      <td>643</td>\n",
       "      <td>514</td>\n",
       "      <td>129</td>\n",
       "      <td>0.799378</td>\n",
       "      <td>0.200622</td>\n",
       "    </tr>\n",
       "    <tr>\n",
       "      <th>9</th>\n",
       "      <td>1746</td>\n",
       "      <td>1397</td>\n",
       "      <td>349</td>\n",
       "      <td>0.800115</td>\n",
       "      <td>0.199885</td>\n",
       "    </tr>\n",
       "    <tr>\n",
       "      <th>10</th>\n",
       "      <td>990</td>\n",
       "      <td>792</td>\n",
       "      <td>198</td>\n",
       "      <td>0.800000</td>\n",
       "      <td>0.200000</td>\n",
       "    </tr>\n",
       "    <tr>\n",
       "      <th>11</th>\n",
       "      <td>732</td>\n",
       "      <td>585</td>\n",
       "      <td>147</td>\n",
       "      <td>0.799180</td>\n",
       "      <td>0.200820</td>\n",
       "    </tr>\n",
       "    <tr>\n",
       "      <th>12</th>\n",
       "      <td>1246</td>\n",
       "      <td>997</td>\n",
       "      <td>249</td>\n",
       "      <td>0.800161</td>\n",
       "      <td>0.199839</td>\n",
       "    </tr>\n",
       "    <tr>\n",
       "      <th>13</th>\n",
       "      <td>1356</td>\n",
       "      <td>1085</td>\n",
       "      <td>271</td>\n",
       "      <td>0.800147</td>\n",
       "      <td>0.199853</td>\n",
       "    </tr>\n",
       "    <tr>\n",
       "      <th>14</th>\n",
       "      <td>890</td>\n",
       "      <td>712</td>\n",
       "      <td>178</td>\n",
       "      <td>0.800000</td>\n",
       "      <td>0.200000</td>\n",
       "    </tr>\n",
       "  </tbody>\n",
       "</table>\n",
       "</div>"
      ],
      "text/plain": [
       "    total  train  test  train_perc  test_perc\n",
       "0     725    580   145    0.800000   0.200000\n",
       "1    1024    819   205    0.799805   0.200195\n",
       "2     657    526   131    0.800609   0.199391\n",
       "3    1380   1104   276    0.800000   0.200000\n",
       "4     855    684   171    0.800000   0.200000\n",
       "5     735    588   147    0.800000   0.200000\n",
       "6     775    620   155    0.800000   0.200000\n",
       "7     778    622   156    0.799486   0.200514\n",
       "8     643    514   129    0.799378   0.200622\n",
       "9    1746   1397   349    0.800115   0.199885\n",
       "10    990    792   198    0.800000   0.200000\n",
       "11    732    585   147    0.799180   0.200820\n",
       "12   1246    997   249    0.800161   0.199839\n",
       "13   1356   1085   271    0.800147   0.199853\n",
       "14    890    712   178    0.800000   0.200000"
      ]
     },
     "execution_count": 10,
     "metadata": {},
     "output_type": "execute_result"
    }
   ],
   "source": [
    "split = pd.DataFrame(list(zip(models.df['name'].value_counts().sort_index(), models.y_train.value_counts().sort_index(), models.y_test.value_counts().sort_index())), columns=['total','train','test'])\n",
    "split['train_perc'] = split['train']/(split['train']+split['test'])\n",
    "split['test_perc'] = split['test']/(split['train']+split['test'])\n",
    "split"
   ]
  },
  {
   "cell_type": "code",
   "execution_count": 11,
   "metadata": {
    "scrolled": true
   },
   "outputs": [
    {
     "data": {
      "text/html": [
       "<div>\n",
       "<style scoped>\n",
       "    .dataframe tbody tr th:only-of-type {\n",
       "        vertical-align: middle;\n",
       "    }\n",
       "\n",
       "    .dataframe tbody tr th {\n",
       "        vertical-align: top;\n",
       "    }\n",
       "\n",
       "    .dataframe thead th {\n",
       "        text-align: right;\n",
       "    }\n",
       "</style>\n",
       "<table border=\"1\" class=\"dataframe\">\n",
       "  <thead>\n",
       "    <tr style=\"text-align: right;\">\n",
       "      <th></th>\n",
       "      <th>total</th>\n",
       "      <th>train</th>\n",
       "      <th>test</th>\n",
       "      <th>train_perc</th>\n",
       "      <th>test_perc</th>\n",
       "    </tr>\n",
       "  </thead>\n",
       "  <tbody>\n",
       "    <tr>\n",
       "      <th>0</th>\n",
       "      <td>725</td>\n",
       "      <td>515</td>\n",
       "      <td>128</td>\n",
       "      <td>0.800933</td>\n",
       "      <td>0.199067</td>\n",
       "    </tr>\n",
       "    <tr>\n",
       "      <th>1</th>\n",
       "      <td>1024</td>\n",
       "      <td>515</td>\n",
       "      <td>128</td>\n",
       "      <td>0.800933</td>\n",
       "      <td>0.199067</td>\n",
       "    </tr>\n",
       "    <tr>\n",
       "      <th>2</th>\n",
       "      <td>657</td>\n",
       "      <td>514</td>\n",
       "      <td>129</td>\n",
       "      <td>0.799378</td>\n",
       "      <td>0.200622</td>\n",
       "    </tr>\n",
       "    <tr>\n",
       "      <th>3</th>\n",
       "      <td>1380</td>\n",
       "      <td>514</td>\n",
       "      <td>129</td>\n",
       "      <td>0.799378</td>\n",
       "      <td>0.200622</td>\n",
       "    </tr>\n",
       "    <tr>\n",
       "      <th>4</th>\n",
       "      <td>855</td>\n",
       "      <td>514</td>\n",
       "      <td>129</td>\n",
       "      <td>0.799378</td>\n",
       "      <td>0.200622</td>\n",
       "    </tr>\n",
       "    <tr>\n",
       "      <th>5</th>\n",
       "      <td>735</td>\n",
       "      <td>515</td>\n",
       "      <td>128</td>\n",
       "      <td>0.800933</td>\n",
       "      <td>0.199067</td>\n",
       "    </tr>\n",
       "    <tr>\n",
       "      <th>6</th>\n",
       "      <td>775</td>\n",
       "      <td>514</td>\n",
       "      <td>129</td>\n",
       "      <td>0.799378</td>\n",
       "      <td>0.200622</td>\n",
       "    </tr>\n",
       "    <tr>\n",
       "      <th>7</th>\n",
       "      <td>778</td>\n",
       "      <td>515</td>\n",
       "      <td>128</td>\n",
       "      <td>0.800933</td>\n",
       "      <td>0.199067</td>\n",
       "    </tr>\n",
       "    <tr>\n",
       "      <th>8</th>\n",
       "      <td>643</td>\n",
       "      <td>514</td>\n",
       "      <td>129</td>\n",
       "      <td>0.799378</td>\n",
       "      <td>0.200622</td>\n",
       "    </tr>\n",
       "    <tr>\n",
       "      <th>9</th>\n",
       "      <td>1746</td>\n",
       "      <td>515</td>\n",
       "      <td>128</td>\n",
       "      <td>0.800933</td>\n",
       "      <td>0.199067</td>\n",
       "    </tr>\n",
       "    <tr>\n",
       "      <th>10</th>\n",
       "      <td>990</td>\n",
       "      <td>514</td>\n",
       "      <td>129</td>\n",
       "      <td>0.799378</td>\n",
       "      <td>0.200622</td>\n",
       "    </tr>\n",
       "    <tr>\n",
       "      <th>11</th>\n",
       "      <td>732</td>\n",
       "      <td>515</td>\n",
       "      <td>128</td>\n",
       "      <td>0.800933</td>\n",
       "      <td>0.199067</td>\n",
       "    </tr>\n",
       "    <tr>\n",
       "      <th>12</th>\n",
       "      <td>1246</td>\n",
       "      <td>514</td>\n",
       "      <td>129</td>\n",
       "      <td>0.799378</td>\n",
       "      <td>0.200622</td>\n",
       "    </tr>\n",
       "    <tr>\n",
       "      <th>13</th>\n",
       "      <td>1356</td>\n",
       "      <td>514</td>\n",
       "      <td>129</td>\n",
       "      <td>0.799378</td>\n",
       "      <td>0.200622</td>\n",
       "    </tr>\n",
       "    <tr>\n",
       "      <th>14</th>\n",
       "      <td>890</td>\n",
       "      <td>514</td>\n",
       "      <td>129</td>\n",
       "      <td>0.799378</td>\n",
       "      <td>0.200622</td>\n",
       "    </tr>\n",
       "  </tbody>\n",
       "</table>\n",
       "</div>"
      ],
      "text/plain": [
       "    total  train  test  train_perc  test_perc\n",
       "0     725    515   128    0.800933   0.199067\n",
       "1    1024    515   128    0.800933   0.199067\n",
       "2     657    514   129    0.799378   0.200622\n",
       "3    1380    514   129    0.799378   0.200622\n",
       "4     855    514   129    0.799378   0.200622\n",
       "5     735    515   128    0.800933   0.199067\n",
       "6     775    514   129    0.799378   0.200622\n",
       "7     778    515   128    0.800933   0.199067\n",
       "8     643    514   129    0.799378   0.200622\n",
       "9    1746    515   128    0.800933   0.199067\n",
       "10    990    514   129    0.799378   0.200622\n",
       "11    732    515   128    0.800933   0.199067\n",
       "12   1246    514   129    0.799378   0.200622\n",
       "13   1356    514   129    0.799378   0.200622\n",
       "14    890    514   129    0.799378   0.200622"
      ]
     },
     "execution_count": 11,
     "metadata": {},
     "output_type": "execute_result"
    }
   ],
   "source": [
    "split_bal = pd.DataFrame(list(zip(models_b.df['name'].value_counts().sort_index(), models_b.y_train.value_counts().sort_index(), models_b.y_test.value_counts().sort_index())), columns=['total','train','test'])\n",
    "split_bal['train_perc'] = split_bal['train']/(split_bal['train']+split_bal['test'])\n",
    "split_bal['test_perc'] = split_bal['test']/(split_bal['train']+split_bal['test'])\n",
    "split_bal"
   ]
  },
  {
   "cell_type": "code",
   "execution_count": 12,
   "metadata": {},
   "outputs": [],
   "source": [
    "model_results = pd.DataFrame()"
   ]
  },
  {
   "cell_type": "markdown",
   "metadata": {},
   "source": [
    "## Naive Bayes"
   ]
  },
  {
   "cell_type": "code",
   "execution_count": 13,
   "metadata": {},
   "outputs": [
    {
     "data": {
      "text/plain": [
       "0.39"
      ]
     },
     "execution_count": 13,
     "metadata": {},
     "output_type": "execute_result"
    }
   ],
   "source": [
    "gnb, y_pred = models.NB()\n",
    "models.accuracy_score(y_pred)"
   ]
  },
  {
   "cell_type": "code",
   "execution_count": 14,
   "metadata": {},
   "outputs": [
    {
     "name": "stdout",
     "output_type": "stream",
     "text": [
      "              precision    recall  f1-score   support\n",
      "\n",
      "           0       0.42      0.47      0.44       145\n",
      "           1       0.17      0.04      0.06       205\n",
      "           2       0.40      0.72      0.52       131\n",
      "           3       0.33      0.16      0.21       276\n",
      "           4       0.38      0.25      0.30       171\n",
      "           5       0.27      0.02      0.04       147\n",
      "           6       0.69      0.16      0.26       155\n",
      "           7       0.21      0.72      0.32       156\n",
      "           8       0.39      0.40      0.39       129\n",
      "           9       1.00      1.00      1.00       349\n",
      "          10       0.83      0.03      0.05       198\n",
      "          11       0.22      0.69      0.33       147\n",
      "          12       0.27      0.39      0.32       249\n",
      "          13       0.58      0.38      0.46       271\n",
      "          14       0.31      0.24      0.27       178\n",
      "\n",
      "    accuracy                           0.39      2907\n",
      "   macro avg       0.43      0.38      0.33      2907\n",
      "weighted avg       0.47      0.39      0.36      2907\n",
      "\n"
     ]
    }
   ],
   "source": [
    "print(models.classification_report(y_pred))"
   ]
  },
  {
   "cell_type": "code",
   "execution_count": 15,
   "metadata": {},
   "outputs": [],
   "source": [
    "model_results = model_results.append(models.class_score(y_pred, 'Naive Bayes'))\n",
    "# model_results"
   ]
  },
  {
   "cell_type": "markdown",
   "metadata": {},
   "source": [
    "## Logistic Regression"
   ]
  },
  {
   "cell_type": "code",
   "execution_count": 16,
   "metadata": {},
   "outputs": [
    {
     "data": {
      "text/plain": [
       "0.17"
      ]
     },
     "execution_count": 16,
     "metadata": {},
     "output_type": "execute_result"
    }
   ],
   "source": [
    "lr, y_pred = models.LR()\n",
    "models.accuracy_score(y_pred)"
   ]
  },
  {
   "cell_type": "code",
   "execution_count": 17,
   "metadata": {},
   "outputs": [
    {
     "name": "stdout",
     "output_type": "stream",
     "text": [
      "              precision    recall  f1-score   support\n",
      "\n",
      "           0       0.00      0.00      0.00       145\n",
      "           1       0.00      0.00      0.00       205\n",
      "           2       0.00      0.00      0.00       131\n",
      "           3       0.13      0.75      0.23       276\n",
      "           4       0.00      0.00      0.00       171\n",
      "           5       0.00      0.00      0.00       147\n",
      "           6       0.00      0.00      0.00       155\n",
      "           7       0.14      0.06      0.08       156\n",
      "           8       0.00      0.00      0.00       129\n",
      "           9       0.32      0.73      0.45       349\n",
      "          10       0.05      0.09      0.06       198\n",
      "          11       0.00      0.00      0.00       147\n",
      "          12       0.00      0.00      0.00       249\n",
      "          13       0.10      0.05      0.07       271\n",
      "          14       0.00      0.00      0.00       178\n",
      "\n",
      "    accuracy                           0.17      2907\n",
      "   macro avg       0.05      0.11      0.06      2907\n",
      "weighted avg       0.07      0.17      0.09      2907\n",
      "\n"
     ]
    }
   ],
   "source": [
    "print(models.classification_report(y_pred))"
   ]
  },
  {
   "cell_type": "code",
   "execution_count": 18,
   "metadata": {},
   "outputs": [],
   "source": [
    "model_results = model_results.append(models.class_score(y_pred, 'Logistic Regression'))"
   ]
  },
  {
   "cell_type": "markdown",
   "metadata": {},
   "source": [
    "## Random Forest"
   ]
  },
  {
   "cell_type": "code",
   "execution_count": 19,
   "metadata": {},
   "outputs": [
    {
     "name": "stderr",
     "output_type": "stream",
     "text": [
      "[Parallel(n_jobs=-1)]: Using backend ThreadingBackend with 4 concurrent workers.\n",
      "[Parallel(n_jobs=-1)]: Done  42 tasks      | elapsed:    0.2s\n"
     ]
    },
    {
     "name": "stdout",
     "output_type": "stream",
     "text": [
      "Average number of nodes 7547\n",
      "Average maximum depth 28\n"
     ]
    },
    {
     "name": "stderr",
     "output_type": "stream",
     "text": [
      "[Parallel(n_jobs=-1)]: Done 100 out of 100 | elapsed:    0.5s finished\n",
      "[Parallel(n_jobs=4)]: Using backend ThreadingBackend with 4 concurrent workers.\n",
      "[Parallel(n_jobs=4)]: Done  42 tasks      | elapsed:    0.0s\n",
      "[Parallel(n_jobs=4)]: Done 100 out of 100 | elapsed:    0.0s finished\n"
     ]
    },
    {
     "data": {
      "text/plain": [
       "0.68"
      ]
     },
     "execution_count": 19,
     "metadata": {},
     "output_type": "execute_result"
    }
   ],
   "source": [
    "rf, y_pred = models.RF()\n",
    "models.accuracy_score(y_pred)"
   ]
  },
  {
   "cell_type": "code",
   "execution_count": 20,
   "metadata": {},
   "outputs": [
    {
     "name": "stdout",
     "output_type": "stream",
     "text": [
      "              precision    recall  f1-score   support\n",
      "\n",
      "           0       0.60      0.61      0.61       145\n",
      "           1       0.74      0.80      0.77       205\n",
      "           2       0.61      0.62      0.61       131\n",
      "           3       0.66      0.88      0.75       276\n",
      "           4       0.57      0.44      0.50       171\n",
      "           5       0.42      0.32      0.36       147\n",
      "           6       0.56      0.54      0.55       155\n",
      "           7       0.31      0.26      0.28       156\n",
      "           8       0.57      0.40      0.47       129\n",
      "           9       1.00      1.00      1.00       349\n",
      "          10       0.63      0.58      0.60       198\n",
      "          11       0.68      0.49      0.57       147\n",
      "          12       0.79      0.95      0.86       249\n",
      "          13       0.75      0.87      0.81       271\n",
      "          14       0.57      0.53      0.55       178\n",
      "\n",
      "    accuracy                           0.68      2907\n",
      "   macro avg       0.63      0.62      0.62      2907\n",
      "weighted avg       0.67      0.68      0.67      2907\n",
      "\n"
     ]
    }
   ],
   "source": [
    "print(models.classification_report(y_pred))"
   ]
  },
  {
   "cell_type": "code",
   "execution_count": 21,
   "metadata": {},
   "outputs": [],
   "source": [
    "model_results = model_results.append(models.class_score(y_pred, 'Random Forest'))"
   ]
  },
  {
   "cell_type": "code",
   "execution_count": 22,
   "metadata": {},
   "outputs": [
    {
     "data": {
      "text/plain": [
       "<matplotlib.axes._subplots.AxesSubplot at 0x11e496cd0>"
      ]
     },
     "execution_count": 22,
     "metadata": {},
     "output_type": "execute_result"
    },
    {
     "data": {
      "image/png": "[encoded data removed]",
      "text/plain": [
       "<Figure size 1008x648 with 1 Axes>"
      ]
     },
     "metadata": {
      "needs_background": "light"
     },
     "output_type": "display_data"
    }
   ],
   "source": [
    "plt.figure(figsize=(14,9))\n",
    "plt.title('')\n",
    "sns.lineplot(x='user_id', y='truth', hue='model_name', style='model_name', data=model_results, markers=True)"
   ]
  },
  {
   "cell_type": "code",
   "execution_count": null,
   "metadata": {},
   "outputs": [],
   "source": []
  }
 ],
 "metadata": {
  "kernelspec": {
   "display_name": "Python 3",
   "language": "python",
   "name": "python3"
  },
  "language_info": {
   "codemirror_mode": {
    "name": "ipython",
    "version": 3
   },
   "file_extension": ".py",
   "mimetype": "text/x-python",
   "name": "python",
   "nbconvert_exporter": "python",
   "pygments_lexer": "ipython3",
   "version": "3.7.4"
  }
 },
 "nbformat": 4,
 "nbformat_minor": 2
}
