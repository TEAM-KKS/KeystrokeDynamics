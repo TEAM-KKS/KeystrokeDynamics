{
 "cells": [
  {
   "cell_type": "code",
   "execution_count": 31,
   "metadata": {},
   "outputs": [],
   "source": [
    "%run utils.ipynb \n",
    "%run models.ipynb"
   ]
  },
  {
   "cell_type": "code",
   "execution_count": 6,
   "metadata": {},
   "outputs": [
    {
     "data": {
      "text/plain": [
       "854"
      ]
     },
     "execution_count": 6,
     "metadata": {},
     "output_type": "execute_result"
    }
   ],
   "source": [
    "input_paras = {\n",
    "    '#text-area-1' : \"This is a paragraph that uses every single letter in the alphabet. Now, that does not mean this can be a paragraph with no story, but it does mean that every single letter is used. You can make it as generic or fanciful as you would like. You can talk about anything from quilts to jets to xylophones. Oh yeah, and you can use whatever language you want, from Afrikaans to Zulu.\",\n",
    "    '#text-area-2' : \"One day, a zebra found a xylophone on the sidewalk. He quickly ran over, picked it up, and gave it to his pet mule. Just then, he found another xylophone. He kept that one for himself.\",\n",
    "    '#text-area-3' : \"This is me trying to create a pangram for myself. A pangram is a sentence that contains all the characters from A-Z. Experimenting around such sentences might be useful for our project.\",\n",
    "    '#text-area-test' : \"Well now that you are here already let me ask you this, do you think that the above paragraph is a pangram?\"\n",
    "}\n",
    "\n",
    "sum([len(x) for x in input_paras.values()])"
   ]
  },
  {
   "cell_type": "markdown",
   "metadata": {},
   "source": [
    "## Initialize \n",
    "\n",
    "- File paths and respective patterns to read set of all **input files**\n",
    "- What kind of platforms to ignore, final structure of data, ignore users where data collected is less"
   ]
  },
  {
   "cell_type": "code",
   "execution_count": 7,
   "metadata": {},
   "outputs": [],
   "source": [
    "path_pattern = {\n",
    "    '../../git/KeystrokeDynamics/data/*' : r'dump\\d+_\\d+',\n",
    "    '../Data/*' : r'dump\\d+_\\d+'\n",
    "}\n",
    "\n",
    "known_invalid_platforms = ['Linux aarch64','Linux armv8l']\n",
    "\n",
    "features_final = ['name','device_type','false_character','hold_for','key_pressed','long_pressed_equivalent','platform','pressed_after','type_combination','effort','speed']\n",
    "\n",
    "user_count_threshold = 600"
   ]
  },
  {
   "cell_type": "code",
   "execution_count": 8,
   "metadata": {},
   "outputs": [
    {
     "name": "stdout",
     "output_type": "stream",
     "text": [
      "******** Data at a high level ********\n",
      "Number of users              :  21\n",
      "Unique user_ids              :  23\n",
      "Avg rows collected/user_id   :  936.96\n",
      "Rows with false characters   : 33.15%\n",
      "Avg long_pressed_equivalent  :  1.12\n",
      "Rows with long_pressed > 1   : 10.16 %\n",
      "*********************************************\n",
      "*** 1 users with multiple user_ids, taking most significant instance for each user\n"
     ]
    },
    {
     "data": {
      "text/plain": [
       "(19871, 13)"
      ]
     },
     "execution_count": 8,
     "metadata": {},
     "output_type": "execute_result"
    }
   ],
   "source": [
    "df = get_valid_dataset(path_pattern, known_invalid_platforms, user_count_threshold)\n",
    "print_data_summary(df)\n",
    "df = get_unique_users_subset(df)\n",
    "df.shape"
   ]
  },
  {
   "cell_type": "markdown",
   "metadata": {},
   "source": [
    "## Prepare & Derive Features for Dataset"
   ]
  },
  {
   "cell_type": "code",
   "execution_count": 9,
   "metadata": {},
   "outputs": [
    {
     "name": "stdout",
     "output_type": "stream",
     "text": [
      "********* DATA PREPARATION FOR FEATURE ENGINEERING *********\n",
      "\tRAW VS PREPARED SHAPES\n",
      "(19871, 13)\t\t(16280, 14)\n",
      "\n",
      "----------\n",
      "\tCHARACTER TYPE DISTRIBUTION\n",
      "          type\n",
      "lower  49.057\n",
      "upper  26.415\n",
      "other  24.528\n",
      "----------\n",
      "\tFALSE CHARACTER DISTRIBUTION\n",
      "    false_character\n",
      "f           65.743\n",
      "t           34.257\n",
      "*************************************************************\n"
     ]
    }
   ],
   "source": [
    "cond1 = df['key_pressed'].str.len() == 1\n",
    "cond2 = df['long_pressed_equivalent'] == 1\n",
    "conditions = cond1 & cond2\n",
    "df = prepare_data(df, conditions)"
   ]
  },
  {
   "cell_type": "code",
   "execution_count": 10,
   "metadata": {},
   "outputs": [
    {
     "name": "stderr",
     "output_type": "stream",
     "text": [
      "100%|██████████| 16279/16279 [01:20<00:00, 203.02it/s]\n"
     ]
    },
    {
     "name": "stdout",
     "output_type": "stream",
     "text": [
      "****** Skipped 104 rows as `speed` evaluates to `inf`\n"
     ]
    },
    {
     "data": {
      "text/plain": [
       "'\\nzipped_rows_3 = list(zip(df.values[:-2], df.values[1:-1], df.values[2:]))\\nfeature_df_3 = combine_characters_v1(zipped_rows_3)\\n'"
      ]
     },
     "execution_count": 10,
     "metadata": {},
     "output_type": "execute_result"
    }
   ],
   "source": [
    "zipped_rows_2 = list(zip(df.values[:-1], df.values[1:]))\n",
    "feature_df_2 = combine_characters_v1(zipped_rows_2, df.columns)\n",
    "\n",
    "\"\"\"\n",
    "zipped_rows_3 = list(zip(df.values[:-2], df.values[1:-1], df.values[2:]))\n",
    "feature_df_3 = combine_characters_v1(zipped_rows_3)\n",
    "\"\"\""
   ]
  },
  {
   "cell_type": "code",
   "execution_count": 15,
   "metadata": {},
   "outputs": [
    {
     "data": {
      "text/plain": [
       "(21, 21)"
      ]
     },
     "execution_count": 15,
     "metadata": {},
     "output_type": "execute_result"
    }
   ],
   "source": [
    "len(feature_df_2.name.unique()), len(feature_df_2.user_id.unique())"
   ]
  },
  {
   "cell_type": "code",
   "execution_count": 16,
   "metadata": {},
   "outputs": [],
   "source": [
    "df = feature_df_2[features_final]"
   ]
  },
  {
   "cell_type": "code",
   "execution_count": 17,
   "metadata": {},
   "outputs": [],
   "source": [
    "# df.to_csv('../Data/fe_c2_04_12_2020_19_25.csv', index=False)"
   ]
  },
  {
   "cell_type": "code",
   "execution_count": 18,
   "metadata": {},
   "outputs": [
    {
     "data": {
      "text/html": [
       "<div>\n",
       "<style scoped>\n",
       "    .dataframe tbody tr th:only-of-type {\n",
       "        vertical-align: middle;\n",
       "    }\n",
       "\n",
       "    .dataframe tbody tr th {\n",
       "        vertical-align: top;\n",
       "    }\n",
       "\n",
       "    .dataframe thead th {\n",
       "        text-align: right;\n",
       "    }\n",
       "</style>\n",
       "<table border=\"1\" class=\"dataframe\">\n",
       "  <thead>\n",
       "    <tr style=\"text-align: right;\">\n",
       "      <th></th>\n",
       "      <th>name</th>\n",
       "      <th>device_type</th>\n",
       "      <th>false_character</th>\n",
       "      <th>hold_for</th>\n",
       "      <th>key_pressed</th>\n",
       "      <th>long_pressed_equivalent</th>\n",
       "      <th>platform</th>\n",
       "      <th>pressed_after</th>\n",
       "      <th>type_combination</th>\n",
       "      <th>effort</th>\n",
       "      <th>speed</th>\n",
       "    </tr>\n",
       "  </thead>\n",
       "  <tbody>\n",
       "    <tr>\n",
       "      <th>0</th>\n",
       "      <td>Varun Sapre</td>\n",
       "      <td>Computer/Laptop</td>\n",
       "      <td>ff</td>\n",
       "      <td>88</td>\n",
       "      <td>th</td>\n",
       "      <td>2</td>\n",
       "      <td>Win32</td>\n",
       "      <td>158</td>\n",
       "      <td>ll</td>\n",
       "      <td>168</td>\n",
       "      <td>0.1500</td>\n",
       "    </tr>\n",
       "    <tr>\n",
       "      <th>0</th>\n",
       "      <td>Varun Sapre</td>\n",
       "      <td>Computer/Laptop</td>\n",
       "      <td>ff</td>\n",
       "      <td>97</td>\n",
       "      <td>hi</td>\n",
       "      <td>2</td>\n",
       "      <td>Win32</td>\n",
       "      <td>103</td>\n",
       "      <td>ll</td>\n",
       "      <td>120</td>\n",
       "      <td>0.0435</td>\n",
       "    </tr>\n",
       "  </tbody>\n",
       "</table>\n",
       "</div>"
      ],
      "text/plain": [
       "          name      device_type false_character  hold_for key_pressed  \\\n",
       "0  Varun Sapre  Computer/Laptop              ff        88          th   \n",
       "0  Varun Sapre  Computer/Laptop              ff        97          hi   \n",
       "\n",
       "   long_pressed_equivalent platform  pressed_after type_combination  effort  \\\n",
       "0                        2    Win32            158               ll     168   \n",
       "0                        2    Win32            103               ll     120   \n",
       "\n",
       "    speed  \n",
       "0  0.1500  \n",
       "0  0.0435  "
      ]
     },
     "execution_count": 18,
     "metadata": {},
     "output_type": "execute_result"
    }
   ],
   "source": [
    "df.head(2)"
   ]
  },
  {
   "cell_type": "markdown",
   "metadata": {},
   "source": [
    "## Model Running"
   ]
  },
  {
   "cell_type": "code",
   "execution_count": 41,
   "metadata": {},
   "outputs": [],
   "source": [
    "final_df = df.copy()"
   ]
  },
  {
   "cell_type": "markdown",
   "metadata": {},
   "source": [
    "Instansiate two models, that are stratified and split, **balanced and unbalanced**"
   ]
  },
  {
   "cell_type": "code",
   "execution_count": 42,
   "metadata": {},
   "outputs": [
    {
     "name": "stdout",
     "output_type": "stream",
     "text": [
      "** Non-numeric columns encoded\n",
      "** Unbalanced stratified per class train_test split\n",
      "(12659, 10) (3165, 10) (12659,) (3165,)\n",
      "** Non-numeric columns encoded\n",
      "** Balanced stratified per class train_test split\n",
      "(5476, 10) (1370, 10) (5476,) (1370,)\n"
     ]
    }
   ],
   "source": [
    "m = Models(final_df.copy(), 0.2, False)\n",
    "m_b = Models(final_df.copy(), 0.2, True)"
   ]
  },
  {
   "cell_type": "code",
   "execution_count": 43,
   "metadata": {},
   "outputs": [
    {
     "data": {
      "text/plain": [
       "0.37"
      ]
     },
     "execution_count": 43,
     "metadata": {},
     "output_type": "execute_result"
    }
   ],
   "source": [
    "gnb, y_pred = m.NB()\n",
    "m.accuracy_score(y_pred)"
   ]
  },
  {
   "cell_type": "code",
   "execution_count": 44,
   "metadata": {},
   "outputs": [],
   "source": [
    "#m.confusion_matrix(y_pred)"
   ]
  },
  {
   "cell_type": "code",
   "execution_count": 45,
   "metadata": {},
   "outputs": [
    {
     "data": {
      "text/plain": [
       "0.36"
      ]
     },
     "execution_count": 45,
     "metadata": {},
     "output_type": "execute_result"
    }
   ],
   "source": [
    "gnb_b, y_pred_b = m_b.NB()\n",
    "m_b.accuracy_score(y_pred_b)"
   ]
  },
  {
   "cell_type": "code",
   "execution_count": 46,
   "metadata": {},
   "outputs": [
    {
     "data": {
      "text/plain": [
       "0.14"
      ]
     },
     "execution_count": 46,
     "metadata": {},
     "output_type": "execute_result"
    }
   ],
   "source": [
    "logReg, y_pred = m.LR()\n",
    "m.accuracy_score(y_pred)"
   ]
  },
  {
   "cell_type": "code",
   "execution_count": 47,
   "metadata": {},
   "outputs": [
    {
     "data": {
      "text/plain": [
       "0.12"
      ]
     },
     "execution_count": 47,
     "metadata": {},
     "output_type": "execute_result"
    }
   ],
   "source": [
    "logReg_b, y_pred_b = m_b.LR()\n",
    "m_b.accuracy_score(y_pred_b)"
   ]
  },
  {
   "cell_type": "code",
   "execution_count": 48,
   "metadata": {},
   "outputs": [
    {
     "name": "stderr",
     "output_type": "stream",
     "text": [
      "[Parallel(n_jobs=-1)]: Using backend ThreadingBackend with 4 concurrent workers.\n",
      "[Parallel(n_jobs=-1)]: Done  42 tasks      | elapsed:    0.4s\n"
     ]
    },
    {
     "name": "stdout",
     "output_type": "stream",
     "text": [
      "Average number of nodes 8073\n",
      "Average maximum depth 32\n"
     ]
    },
    {
     "name": "stderr",
     "output_type": "stream",
     "text": [
      "[Parallel(n_jobs=-1)]: Done 100 out of 100 | elapsed:    0.9s finished\n",
      "[Parallel(n_jobs=4)]: Using backend ThreadingBackend with 4 concurrent workers.\n",
      "[Parallel(n_jobs=4)]: Done  42 tasks      | elapsed:    0.0s\n",
      "[Parallel(n_jobs=4)]: Done 100 out of 100 | elapsed:    0.0s finished\n"
     ]
    },
    {
     "data": {
      "text/plain": [
       "0.59"
      ]
     },
     "execution_count": 48,
     "metadata": {},
     "output_type": "execute_result"
    }
   ],
   "source": [
    "rf, y_pred = m.RF()\n",
    "m.accuracy_score(y_pred)"
   ]
  },
  {
   "cell_type": "code",
   "execution_count": 49,
   "metadata": {},
   "outputs": [
    {
     "name": "stderr",
     "output_type": "stream",
     "text": [
      "[Parallel(n_jobs=-1)]: Using backend ThreadingBackend with 4 concurrent workers.\n",
      "[Parallel(n_jobs=-1)]: Done  42 tasks      | elapsed:    0.2s\n",
      "[Parallel(n_jobs=-1)]: Done 100 out of 100 | elapsed:    0.4s finished\n",
      "[Parallel(n_jobs=4)]: Using backend ThreadingBackend with 4 concurrent workers.\n",
      "[Parallel(n_jobs=4)]: Done  42 tasks      | elapsed:    0.0s\n",
      "[Parallel(n_jobs=4)]: Done 100 out of 100 | elapsed:    0.0s finished\n"
     ]
    },
    {
     "name": "stdout",
     "output_type": "stream",
     "text": [
      "Average number of nodes 3768\n",
      "Average maximum depth 27\n"
     ]
    },
    {
     "data": {
      "text/plain": [
       "0.5"
      ]
     },
     "execution_count": 49,
     "metadata": {},
     "output_type": "execute_result"
    }
   ],
   "source": [
    "rf_b, y_pred_b = m_b.RF()\n",
    "m_b.accuracy_score(y_pred_b)"
   ]
  },
  {
   "cell_type": "code",
   "execution_count": null,
   "metadata": {},
   "outputs": [],
   "source": []
  }
 ],
 "metadata": {
  "kernelspec": {
   "display_name": "Python 3",
   "language": "python",
   "name": "python3"
  },
  "language_info": {
   "codemirror_mode": {
    "name": "ipython",
    "version": 3
   },
   "file_extension": ".py",
   "mimetype": "text/x-python",
   "name": "python",
   "nbconvert_exporter": "python",
   "pygments_lexer": "ipython3",
   "version": "3.7.4"
  }
 },
 "nbformat": 4,
 "nbformat_minor": 2
}
