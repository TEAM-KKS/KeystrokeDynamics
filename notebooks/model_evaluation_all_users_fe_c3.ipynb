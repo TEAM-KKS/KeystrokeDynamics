{
 "cells": [
  {
   "cell_type": "code",
   "execution_count": 6,
   "metadata": {},
   "outputs": [],
   "source": [
    "%run utils.ipynb \n",
    "%run models.ipynb\n",
    "\n",
    "features_final = ['name','device_type','box_id','false_character','hold_for','key_pressed','long_pressed_equivalent','platform','pressed_after']\n"
   ]
  },
  {
   "cell_type": "code",
   "execution_count": 21,
   "metadata": {},
   "outputs": [
    {
     "data": {
      "text/plain": [
       "(12915, 9)"
      ]
     },
     "execution_count": 21,
     "metadata": {},
     "output_type": "execute_result"
    }
   ],
   "source": [
    "df = pd.read_csv('../data/clean_union_fe_c3_04_28_20_21_00.csv')\n",
    "df = df[features_final]\n",
    "df.shape"
   ]
  },
  {
   "cell_type": "code",
   "execution_count": 22,
   "metadata": {},
   "outputs": [
    {
     "data": {
      "text/html": [
       "<div>\n",
       "<style scoped>\n",
       "    .dataframe tbody tr th:only-of-type {\n",
       "        vertical-align: middle;\n",
       "    }\n",
       "\n",
       "    .dataframe tbody tr th {\n",
       "        vertical-align: top;\n",
       "    }\n",
       "\n",
       "    .dataframe thead th {\n",
       "        text-align: right;\n",
       "    }\n",
       "</style>\n",
       "<table border=\"1\" class=\"dataframe\">\n",
       "  <thead>\n",
       "    <tr style=\"text-align: right;\">\n",
       "      <th></th>\n",
       "      <th>name</th>\n",
       "      <th>device_type</th>\n",
       "      <th>box_id</th>\n",
       "      <th>false_character</th>\n",
       "      <th>hold_for</th>\n",
       "      <th>key_pressed</th>\n",
       "      <th>long_pressed_equivalent</th>\n",
       "      <th>platform</th>\n",
       "      <th>pressed_after</th>\n",
       "    </tr>\n",
       "  </thead>\n",
       "  <tbody>\n",
       "    <tr>\n",
       "      <th>3031</th>\n",
       "      <td>Adesola Ajisafe</td>\n",
       "      <td>Mobile/Tab</td>\n",
       "      <td>#text-area-1</td>\n",
       "      <td>fff</td>\n",
       "      <td>62</td>\n",
       "      <td>si</td>\n",
       "      <td>3</td>\n",
       "      <td>iPhone</td>\n",
       "      <td>574</td>\n",
       "    </tr>\n",
       "    <tr>\n",
       "      <th>5792</th>\n",
       "      <td>Shalom</td>\n",
       "      <td>Computer/Laptop</td>\n",
       "      <td>#text-area-1</td>\n",
       "      <td>ttt</td>\n",
       "      <td>277</td>\n",
       "      <td>oes</td>\n",
       "      <td>3</td>\n",
       "      <td>MacIntel</td>\n",
       "      <td>311</td>\n",
       "    </tr>\n",
       "    <tr>\n",
       "      <th>2579</th>\n",
       "      <td>Goddess</td>\n",
       "      <td>Computer/Laptop</td>\n",
       "      <td>#text-area-test</td>\n",
       "      <td>fff</td>\n",
       "      <td>380</td>\n",
       "      <td>e p</td>\n",
       "      <td>3</td>\n",
       "      <td>Win32</td>\n",
       "      <td>1126</td>\n",
       "    </tr>\n",
       "    <tr>\n",
       "      <th>12725</th>\n",
       "      <td>Tarun</td>\n",
       "      <td>Computer/Laptop</td>\n",
       "      <td>#text-area-2</td>\n",
       "      <td>fff</td>\n",
       "      <td>167</td>\n",
       "      <td>hm.</td>\n",
       "      <td>3</td>\n",
       "      <td>Win32</td>\n",
       "      <td>547</td>\n",
       "    </tr>\n",
       "    <tr>\n",
       "      <th>4821</th>\n",
       "      <td>Nand</td>\n",
       "      <td>Computer/Laptop</td>\n",
       "      <td>#text-area-3</td>\n",
       "      <td>fff</td>\n",
       "      <td>52</td>\n",
       "      <td>g t</td>\n",
       "      <td>3</td>\n",
       "      <td>iPhone</td>\n",
       "      <td>221</td>\n",
       "    </tr>\n",
       "  </tbody>\n",
       "</table>\n",
       "</div>"
      ],
      "text/plain": [
       "                  name      device_type           box_id false_character  \\\n",
       "3031   Adesola Ajisafe       Mobile/Tab     #text-area-1             fff   \n",
       "5792            Shalom  Computer/Laptop     #text-area-1             ttt   \n",
       "2579           Goddess  Computer/Laptop  #text-area-test             fff   \n",
       "12725           Tarun   Computer/Laptop     #text-area-2             fff   \n",
       "4821             Nand   Computer/Laptop     #text-area-3             fff   \n",
       "\n",
       "       hold_for key_pressed  long_pressed_equivalent  platform  pressed_after  \n",
       "3031         62          si                        3    iPhone            574  \n",
       "5792        277         oes                        3  MacIntel            311  \n",
       "2579        380         e p                        3     Win32           1126  \n",
       "12725       167         hm.                        3     Win32            547  \n",
       "4821         52         g t                        3    iPhone            221  "
      ]
     },
     "execution_count": 22,
     "metadata": {},
     "output_type": "execute_result"
    }
   ],
   "source": [
    "df.sample(5)"
   ]
  },
  {
   "cell_type": "code",
   "execution_count": 23,
   "metadata": {},
   "outputs": [
    {
     "name": "stdout",
     "output_type": "stream",
     "text": [
      "** Non-numeric columns encoded\n",
      "** Unbalanced stratified per class train_test split\n",
      "(10332, 8) (2583, 8) (10332,) (2583,)\n",
      "** Non-numeric columns encoded\n",
      "** Balanced stratified per class train_test split\n",
      "(7272, 8) (1818, 8) (7272,) (1818,)\n"
     ]
    }
   ],
   "source": [
    "models = Models(df.copy(), 0.2, False)\n",
    "models_b = Models(df.copy(), 0.2, True)"
   ]
  },
  {
   "cell_type": "code",
   "execution_count": 24,
   "metadata": {},
   "outputs": [
    {
     "data": {
      "text/html": [
       "<div>\n",
       "<style scoped>\n",
       "    .dataframe tbody tr th:only-of-type {\n",
       "        vertical-align: middle;\n",
       "    }\n",
       "\n",
       "    .dataframe tbody tr th {\n",
       "        vertical-align: top;\n",
       "    }\n",
       "\n",
       "    .dataframe thead th {\n",
       "        text-align: right;\n",
       "    }\n",
       "</style>\n",
       "<table border=\"1\" class=\"dataframe\">\n",
       "  <thead>\n",
       "    <tr style=\"text-align: right;\">\n",
       "      <th></th>\n",
       "      <th>total</th>\n",
       "      <th>train</th>\n",
       "      <th>test</th>\n",
       "      <th>train_perc</th>\n",
       "      <th>test_perc</th>\n",
       "    </tr>\n",
       "  </thead>\n",
       "  <tbody>\n",
       "    <tr>\n",
       "      <th>0</th>\n",
       "      <td>606</td>\n",
       "      <td>485</td>\n",
       "      <td>121</td>\n",
       "      <td>0.800330</td>\n",
       "      <td>0.199670</td>\n",
       "    </tr>\n",
       "    <tr>\n",
       "      <th>1</th>\n",
       "      <td>944</td>\n",
       "      <td>755</td>\n",
       "      <td>189</td>\n",
       "      <td>0.799788</td>\n",
       "      <td>0.200212</td>\n",
       "    </tr>\n",
       "    <tr>\n",
       "      <th>2</th>\n",
       "      <td>620</td>\n",
       "      <td>496</td>\n",
       "      <td>124</td>\n",
       "      <td>0.800000</td>\n",
       "      <td>0.200000</td>\n",
       "    </tr>\n",
       "    <tr>\n",
       "      <th>3</th>\n",
       "      <td>1192</td>\n",
       "      <td>953</td>\n",
       "      <td>239</td>\n",
       "      <td>0.799497</td>\n",
       "      <td>0.200503</td>\n",
       "    </tr>\n",
       "    <tr>\n",
       "      <th>4</th>\n",
       "      <td>821</td>\n",
       "      <td>657</td>\n",
       "      <td>164</td>\n",
       "      <td>0.800244</td>\n",
       "      <td>0.199756</td>\n",
       "    </tr>\n",
       "    <tr>\n",
       "      <th>5</th>\n",
       "      <td>646</td>\n",
       "      <td>517</td>\n",
       "      <td>129</td>\n",
       "      <td>0.800310</td>\n",
       "      <td>0.199690</td>\n",
       "    </tr>\n",
       "    <tr>\n",
       "      <th>6</th>\n",
       "      <td>612</td>\n",
       "      <td>490</td>\n",
       "      <td>122</td>\n",
       "      <td>0.800654</td>\n",
       "      <td>0.199346</td>\n",
       "    </tr>\n",
       "    <tr>\n",
       "      <th>7</th>\n",
       "      <td>721</td>\n",
       "      <td>577</td>\n",
       "      <td>144</td>\n",
       "      <td>0.800277</td>\n",
       "      <td>0.199723</td>\n",
       "    </tr>\n",
       "    <tr>\n",
       "      <th>8</th>\n",
       "      <td>607</td>\n",
       "      <td>486</td>\n",
       "      <td>121</td>\n",
       "      <td>0.800659</td>\n",
       "      <td>0.199341</td>\n",
       "    </tr>\n",
       "    <tr>\n",
       "      <th>9</th>\n",
       "      <td>1602</td>\n",
       "      <td>1281</td>\n",
       "      <td>321</td>\n",
       "      <td>0.799625</td>\n",
       "      <td>0.200375</td>\n",
       "    </tr>\n",
       "    <tr>\n",
       "      <th>10</th>\n",
       "      <td>945</td>\n",
       "      <td>756</td>\n",
       "      <td>189</td>\n",
       "      <td>0.800000</td>\n",
       "      <td>0.200000</td>\n",
       "    </tr>\n",
       "    <tr>\n",
       "      <th>11</th>\n",
       "      <td>699</td>\n",
       "      <td>559</td>\n",
       "      <td>140</td>\n",
       "      <td>0.799714</td>\n",
       "      <td>0.200286</td>\n",
       "    </tr>\n",
       "    <tr>\n",
       "      <th>12</th>\n",
       "      <td>1090</td>\n",
       "      <td>872</td>\n",
       "      <td>218</td>\n",
       "      <td>0.800000</td>\n",
       "      <td>0.200000</td>\n",
       "    </tr>\n",
       "    <tr>\n",
       "      <th>13</th>\n",
       "      <td>1028</td>\n",
       "      <td>822</td>\n",
       "      <td>206</td>\n",
       "      <td>0.799611</td>\n",
       "      <td>0.200389</td>\n",
       "    </tr>\n",
       "    <tr>\n",
       "      <th>14</th>\n",
       "      <td>782</td>\n",
       "      <td>626</td>\n",
       "      <td>156</td>\n",
       "      <td>0.800512</td>\n",
       "      <td>0.199488</td>\n",
       "    </tr>\n",
       "  </tbody>\n",
       "</table>\n",
       "</div>"
      ],
      "text/plain": [
       "    total  train  test  train_perc  test_perc\n",
       "0     606    485   121    0.800330   0.199670\n",
       "1     944    755   189    0.799788   0.200212\n",
       "2     620    496   124    0.800000   0.200000\n",
       "3    1192    953   239    0.799497   0.200503\n",
       "4     821    657   164    0.800244   0.199756\n",
       "5     646    517   129    0.800310   0.199690\n",
       "6     612    490   122    0.800654   0.199346\n",
       "7     721    577   144    0.800277   0.199723\n",
       "8     607    486   121    0.800659   0.199341\n",
       "9    1602   1281   321    0.799625   0.200375\n",
       "10    945    756   189    0.800000   0.200000\n",
       "11    699    559   140    0.799714   0.200286\n",
       "12   1090    872   218    0.800000   0.200000\n",
       "13   1028    822   206    0.799611   0.200389\n",
       "14    782    626   156    0.800512   0.199488"
      ]
     },
     "execution_count": 24,
     "metadata": {},
     "output_type": "execute_result"
    }
   ],
   "source": [
    "split = pd.DataFrame(list(zip(models.df['name'].value_counts().sort_index(), models.y_train.value_counts().sort_index(), models.y_test.value_counts().sort_index())), columns=['total','train','test'])\n",
    "split['train_perc'] = split['train']/(split['train']+split['test'])\n",
    "split['test_perc'] = split['test']/(split['train']+split['test'])\n",
    "split"
   ]
  },
  {
   "cell_type": "code",
   "execution_count": 25,
   "metadata": {
    "scrolled": true
   },
   "outputs": [
    {
     "data": {
      "text/html": [
       "<div>\n",
       "<style scoped>\n",
       "    .dataframe tbody tr th:only-of-type {\n",
       "        vertical-align: middle;\n",
       "    }\n",
       "\n",
       "    .dataframe tbody tr th {\n",
       "        vertical-align: top;\n",
       "    }\n",
       "\n",
       "    .dataframe thead th {\n",
       "        text-align: right;\n",
       "    }\n",
       "</style>\n",
       "<table border=\"1\" class=\"dataframe\">\n",
       "  <thead>\n",
       "    <tr style=\"text-align: right;\">\n",
       "      <th></th>\n",
       "      <th>total</th>\n",
       "      <th>train</th>\n",
       "      <th>test</th>\n",
       "      <th>train_perc</th>\n",
       "      <th>test_perc</th>\n",
       "    </tr>\n",
       "  </thead>\n",
       "  <tbody>\n",
       "    <tr>\n",
       "      <th>0</th>\n",
       "      <td>606</td>\n",
       "      <td>485</td>\n",
       "      <td>121</td>\n",
       "      <td>0.80033</td>\n",
       "      <td>0.19967</td>\n",
       "    </tr>\n",
       "    <tr>\n",
       "      <th>1</th>\n",
       "      <td>944</td>\n",
       "      <td>485</td>\n",
       "      <td>121</td>\n",
       "      <td>0.80033</td>\n",
       "      <td>0.19967</td>\n",
       "    </tr>\n",
       "    <tr>\n",
       "      <th>2</th>\n",
       "      <td>620</td>\n",
       "      <td>485</td>\n",
       "      <td>121</td>\n",
       "      <td>0.80033</td>\n",
       "      <td>0.19967</td>\n",
       "    </tr>\n",
       "    <tr>\n",
       "      <th>3</th>\n",
       "      <td>1192</td>\n",
       "      <td>485</td>\n",
       "      <td>121</td>\n",
       "      <td>0.80033</td>\n",
       "      <td>0.19967</td>\n",
       "    </tr>\n",
       "    <tr>\n",
       "      <th>4</th>\n",
       "      <td>821</td>\n",
       "      <td>484</td>\n",
       "      <td>122</td>\n",
       "      <td>0.79868</td>\n",
       "      <td>0.20132</td>\n",
       "    </tr>\n",
       "    <tr>\n",
       "      <th>5</th>\n",
       "      <td>646</td>\n",
       "      <td>485</td>\n",
       "      <td>121</td>\n",
       "      <td>0.80033</td>\n",
       "      <td>0.19967</td>\n",
       "    </tr>\n",
       "    <tr>\n",
       "      <th>6</th>\n",
       "      <td>612</td>\n",
       "      <td>485</td>\n",
       "      <td>121</td>\n",
       "      <td>0.80033</td>\n",
       "      <td>0.19967</td>\n",
       "    </tr>\n",
       "    <tr>\n",
       "      <th>7</th>\n",
       "      <td>721</td>\n",
       "      <td>485</td>\n",
       "      <td>121</td>\n",
       "      <td>0.80033</td>\n",
       "      <td>0.19967</td>\n",
       "    </tr>\n",
       "    <tr>\n",
       "      <th>8</th>\n",
       "      <td>607</td>\n",
       "      <td>485</td>\n",
       "      <td>121</td>\n",
       "      <td>0.80033</td>\n",
       "      <td>0.19967</td>\n",
       "    </tr>\n",
       "    <tr>\n",
       "      <th>9</th>\n",
       "      <td>1602</td>\n",
       "      <td>485</td>\n",
       "      <td>121</td>\n",
       "      <td>0.80033</td>\n",
       "      <td>0.19967</td>\n",
       "    </tr>\n",
       "    <tr>\n",
       "      <th>10</th>\n",
       "      <td>945</td>\n",
       "      <td>485</td>\n",
       "      <td>121</td>\n",
       "      <td>0.80033</td>\n",
       "      <td>0.19967</td>\n",
       "    </tr>\n",
       "    <tr>\n",
       "      <th>11</th>\n",
       "      <td>699</td>\n",
       "      <td>485</td>\n",
       "      <td>121</td>\n",
       "      <td>0.80033</td>\n",
       "      <td>0.19967</td>\n",
       "    </tr>\n",
       "    <tr>\n",
       "      <th>12</th>\n",
       "      <td>1090</td>\n",
       "      <td>484</td>\n",
       "      <td>122</td>\n",
       "      <td>0.79868</td>\n",
       "      <td>0.20132</td>\n",
       "    </tr>\n",
       "    <tr>\n",
       "      <th>13</th>\n",
       "      <td>1028</td>\n",
       "      <td>485</td>\n",
       "      <td>121</td>\n",
       "      <td>0.80033</td>\n",
       "      <td>0.19967</td>\n",
       "    </tr>\n",
       "    <tr>\n",
       "      <th>14</th>\n",
       "      <td>782</td>\n",
       "      <td>484</td>\n",
       "      <td>122</td>\n",
       "      <td>0.79868</td>\n",
       "      <td>0.20132</td>\n",
       "    </tr>\n",
       "  </tbody>\n",
       "</table>\n",
       "</div>"
      ],
      "text/plain": [
       "    total  train  test  train_perc  test_perc\n",
       "0     606    485   121     0.80033    0.19967\n",
       "1     944    485   121     0.80033    0.19967\n",
       "2     620    485   121     0.80033    0.19967\n",
       "3    1192    485   121     0.80033    0.19967\n",
       "4     821    484   122     0.79868    0.20132\n",
       "5     646    485   121     0.80033    0.19967\n",
       "6     612    485   121     0.80033    0.19967\n",
       "7     721    485   121     0.80033    0.19967\n",
       "8     607    485   121     0.80033    0.19967\n",
       "9    1602    485   121     0.80033    0.19967\n",
       "10    945    485   121     0.80033    0.19967\n",
       "11    699    485   121     0.80033    0.19967\n",
       "12   1090    484   122     0.79868    0.20132\n",
       "13   1028    485   121     0.80033    0.19967\n",
       "14    782    484   122     0.79868    0.20132"
      ]
     },
     "execution_count": 25,
     "metadata": {},
     "output_type": "execute_result"
    }
   ],
   "source": [
    "split_bal = pd.DataFrame(list(zip(models_b.df['name'].value_counts().sort_index(), models_b.y_train.value_counts().sort_index(), models_b.y_test.value_counts().sort_index())), columns=['total','train','test'])\n",
    "split_bal['train_perc'] = split_bal['train']/(split_bal['train']+split_bal['test'])\n",
    "split_bal['test_perc'] = split_bal['test']/(split_bal['train']+split_bal['test'])\n",
    "split_bal"
   ]
  },
  {
   "cell_type": "code",
   "execution_count": 26,
   "metadata": {},
   "outputs": [],
   "source": [
    "model_results = pd.DataFrame()"
   ]
  },
  {
   "cell_type": "markdown",
   "metadata": {},
   "source": [
    "## Naive Bayes"
   ]
  },
  {
   "cell_type": "code",
   "execution_count": 27,
   "metadata": {},
   "outputs": [
    {
     "data": {
      "text/plain": [
       "0.48"
      ]
     },
     "execution_count": 27,
     "metadata": {},
     "output_type": "execute_result"
    }
   ],
   "source": [
    "gnb, y_pred = models.NB()\n",
    "models.accuracy_score(y_pred)"
   ]
  },
  {
   "cell_type": "code",
   "execution_count": 28,
   "metadata": {},
   "outputs": [
    {
     "name": "stdout",
     "output_type": "stream",
     "text": [
      "              precision    recall  f1-score   support\n",
      "\n",
      "           0       0.49      0.64      0.56       121\n",
      "           1       0.18      0.06      0.09       189\n",
      "           2       0.63      0.60      0.61       124\n",
      "           3       0.37      0.19      0.25       239\n",
      "           4       0.51      0.44      0.47       164\n",
      "           5       0.48      0.12      0.20       129\n",
      "           6       0.47      0.34      0.40       122\n",
      "           7       0.27      0.73      0.39       144\n",
      "           8       0.40      0.46      0.43       121\n",
      "           9       1.00      1.00      1.00       321\n",
      "          10       0.65      0.38      0.48       189\n",
      "          11       0.35      0.70      0.46       140\n",
      "          12       0.31      0.54      0.39       218\n",
      "          13       0.55      0.38      0.45       206\n",
      "          14       0.59      0.33      0.42       156\n",
      "\n",
      "    accuracy                           0.48      2583\n",
      "   macro avg       0.48      0.46      0.44      2583\n",
      "weighted avg       0.51      0.48      0.47      2583\n",
      "\n"
     ]
    }
   ],
   "source": [
    "print(models.classification_report(y_pred))"
   ]
  },
  {
   "cell_type": "code",
   "execution_count": 29,
   "metadata": {},
   "outputs": [],
   "source": [
    "model_results = model_results.append(models.class_score(y_pred, 'Naive Bayes'))\n",
    "# model_results"
   ]
  },
  {
   "cell_type": "markdown",
   "metadata": {},
   "source": [
    "## Logistic Regression"
   ]
  },
  {
   "cell_type": "code",
   "execution_count": 30,
   "metadata": {},
   "outputs": [
    {
     "data": {
      "text/plain": [
       "0.19"
      ]
     },
     "execution_count": 30,
     "metadata": {},
     "output_type": "execute_result"
    }
   ],
   "source": [
    "lr, y_pred = models.LR()\n",
    "models.accuracy_score(y_pred)"
   ]
  },
  {
   "cell_type": "code",
   "execution_count": 31,
   "metadata": {},
   "outputs": [
    {
     "name": "stdout",
     "output_type": "stream",
     "text": [
      "              precision    recall  f1-score   support\n",
      "\n",
      "           0       0.67      0.02      0.03       121\n",
      "           1       0.11      0.05      0.07       189\n",
      "           2       0.00      0.00      0.00       124\n",
      "           3       0.14      0.73      0.24       239\n",
      "           4       0.13      0.22      0.16       164\n",
      "           5       0.07      0.14      0.09       129\n",
      "           6       0.00      0.00      0.00       122\n",
      "           7       0.19      0.03      0.05       144\n",
      "           8       0.00      0.00      0.00       121\n",
      "           9       0.38      0.77      0.51       321\n",
      "          10       0.50      0.01      0.02       189\n",
      "          11       0.00      0.00      0.00       140\n",
      "          12       0.29      0.03      0.06       218\n",
      "          13       0.00      0.00      0.00       206\n",
      "          14       0.23      0.02      0.04       156\n",
      "\n",
      "    accuracy                           0.19      2583\n",
      "   macro avg       0.18      0.13      0.08      2583\n",
      "weighted avg       0.20      0.19      0.12      2583\n",
      "\n"
     ]
    }
   ],
   "source": [
    "print(models.classification_report(y_pred))"
   ]
  },
  {
   "cell_type": "code",
   "execution_count": 32,
   "metadata": {},
   "outputs": [],
   "source": [
    "model_results = model_results.append(models.class_score(y_pred, 'Logistic Regression'))"
   ]
  },
  {
   "cell_type": "markdown",
   "metadata": {},
   "source": [
    "## Random Forest"
   ]
  },
  {
   "cell_type": "code",
   "execution_count": 33,
   "metadata": {},
   "outputs": [
    {
     "name": "stderr",
     "output_type": "stream",
     "text": [
      "[Parallel(n_jobs=-1)]: Using backend ThreadingBackend with 4 concurrent workers.\n",
      "[Parallel(n_jobs=-1)]: Done  42 tasks      | elapsed:    0.2s\n"
     ]
    },
    {
     "name": "stdout",
     "output_type": "stream",
     "text": [
      "Average number of nodes 6201\n",
      "Average maximum depth 30\n"
     ]
    },
    {
     "name": "stderr",
     "output_type": "stream",
     "text": [
      "[Parallel(n_jobs=-1)]: Done 100 out of 100 | elapsed:    0.5s finished\n",
      "[Parallel(n_jobs=4)]: Using backend ThreadingBackend with 4 concurrent workers.\n",
      "[Parallel(n_jobs=4)]: Done  42 tasks      | elapsed:    0.0s\n",
      "[Parallel(n_jobs=4)]: Done 100 out of 100 | elapsed:    0.0s finished\n"
     ]
    },
    {
     "data": {
      "text/plain": [
       "0.71"
      ]
     },
     "execution_count": 33,
     "metadata": {},
     "output_type": "execute_result"
    }
   ],
   "source": [
    "rf, y_pred = models.RF()\n",
    "models.accuracy_score(y_pred)"
   ]
  },
  {
   "cell_type": "code",
   "execution_count": 34,
   "metadata": {},
   "outputs": [
    {
     "name": "stdout",
     "output_type": "stream",
     "text": [
      "              precision    recall  f1-score   support\n",
      "\n",
      "           0       0.54      0.50      0.52       121\n",
      "           1       0.74      0.86      0.80       189\n",
      "           2       0.64      0.78      0.71       124\n",
      "           3       0.68      0.88      0.77       239\n",
      "           4       0.65      0.68      0.66       164\n",
      "           5       0.54      0.26      0.35       129\n",
      "           6       0.47      0.39      0.43       122\n",
      "           7       0.46      0.34      0.39       144\n",
      "           8       0.49      0.44      0.46       121\n",
      "           9       1.00      1.00      1.00       321\n",
      "          10       0.69      0.57      0.62       189\n",
      "          11       0.70      0.56      0.62       140\n",
      "          12       0.78      0.92      0.85       218\n",
      "          13       0.83      0.90      0.86       206\n",
      "          14       0.63      0.68      0.65       156\n",
      "\n",
      "    accuracy                           0.71      2583\n",
      "   macro avg       0.66      0.65      0.65      2583\n",
      "weighted avg       0.70      0.71      0.69      2583\n",
      "\n"
     ]
    }
   ],
   "source": [
    "print(models.classification_report(y_pred))"
   ]
  },
  {
   "cell_type": "code",
   "execution_count": 35,
   "metadata": {},
   "outputs": [],
   "source": [
    "model_results = model_results.append(models.class_score(y_pred, 'Random Forest'))"
   ]
  },
  {
   "cell_type": "code",
   "execution_count": 36,
   "metadata": {},
   "outputs": [
    {
     "data": {
      "text/plain": [
       "<matplotlib.axes._subplots.AxesSubplot at 0x11abc2a10>"
      ]
     },
     "execution_count": 36,
     "metadata": {},
     "output_type": "execute_result"
    },
    {
     "data": {
      "image/png": "[encoded data removed]",
      "text/plain": [
       "<Figure size 1008x648 with 1 Axes>"
      ]
     },
     "metadata": {
      "needs_background": "light"
     },
     "output_type": "display_data"
    }
   ],
   "source": [
    "plt.figure(figsize=(14,9))\n",
    "plt.title('')\n",
    "sns.lineplot(x='user_id', y='truth', hue='model_name', style='model_name', data=model_results, markers=True)"
   ]
  },
  {
   "cell_type": "code",
   "execution_count": null,
   "metadata": {},
   "outputs": [],
   "source": []
  }
 ],
 "metadata": {
  "kernelspec": {
   "display_name": "Python 3",
   "language": "python",
   "name": "python3"
  },
  "language_info": {
   "codemirror_mode": {
    "name": "ipython",
    "version": 3
   },
   "file_extension": ".py",
   "mimetype": "text/x-python",
   "name": "python",
   "nbconvert_exporter": "python",
   "pygments_lexer": "ipython3",
   "version": "3.7.4"
  }
 },
 "nbformat": 4,
 "nbformat_minor": 2
}
